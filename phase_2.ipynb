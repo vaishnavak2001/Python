{
 "cells": [
  {
   "cell_type": "markdown",
   "id": "9cb31c0b-c9fa-4e39-8414-9c3e541cf71b",
   "metadata": {},
   "source": [
    "# Phase 2"
   ]
  },
  {
   "cell_type": "markdown",
   "id": "69e09506-1ae9-499c-98ac-b66a545f4184",
   "metadata": {},
   "source": [
    "# TASK 9"
   ]
  },
  {
   "cell_type": "markdown",
   "id": "2832d4c7-2a40-4953-bcbd-954f7baa445f",
   "metadata": {},
   "source": [
    "### OBJECT-ORIENTED PROGRAMMING (OOP)\n",
    "Object-Oriented Programming is a programming paradigm that uses objects and classes to structure code in a reusable, modular, and logical way."
   ]
  },
  {
   "cell_type": "markdown",
   "id": "d16f074a-a9c7-4c07-9392-c89eb523fe76",
   "metadata": {},
   "source": [
    "### 🔹 1. What is a Class and Object?\n",
    "Class: Blueprint for creating objects.\n",
    "\n",
    "Object: Instance of a class."
   ]
  },
  {
   "cell_type": "markdown",
   "id": "74d14e3c-3153-4fd5-9330-11964eedb704",
   "metadata": {},
   "source": [
    "| Concept           | Description                                                                                      |\n",
    "| ----------------- | ------------------------------------------------------------------------------------------------ |\n",
    "| **Class**         | A template for creating objects.                                                                 |\n",
    "| **Object**        | An instance of a class.                                                                          |\n",
    "| **Encapsulation** | Hiding internal state and requiring all interaction to be performed through an object’s methods. |\n",
    "| **Inheritance**   | A way to form new classes using classes that have already been defined.                          |\n",
    "| **Polymorphism**  | The same function name behaves differently for different classes.                                |\n",
    "| **Abstraction**   | Showing only essential features and hiding complexity.                                           |\n"
   ]
  },
  {
   "cell_type": "markdown",
   "id": "d3374fd4-9186-45ba-a264-7e4f20932ad4",
   "metadata": {},
   "source": [
    "### 📗 2. CREATING CLASSES AND OBJECTS"
   ]
  },
  {
   "cell_type": "code",
   "execution_count": 5,
   "id": "be3f11ff-9523-41a7-8e87-6f478c0c48a1",
   "metadata": {},
   "outputs": [],
   "source": [
    "# sytax for CREATING CLASSES AND OBJECTS\n",
    "class ClassName:\n",
    "    def __init__(self, attribute1, attribute2):\n",
    "        self.attribute1 = attribute1\n",
    "        self.attribute2 = attribute2\n",
    "\n",
    "    def method_name(self):\n",
    "        # some action\n",
    "        pass\n",
    "\n",
    "# Create an object\n",
    "obj = ClassName(\"value1\", \"value2\")\n"
   ]
  },
  {
   "cell_type": "code",
   "execution_count": 6,
   "id": "b494a112-1619-45d1-8d80-b44ddeaf058b",
   "metadata": {},
   "outputs": [
    {
     "name": "stdout",
     "output_type": "stream",
     "text": [
      "Buddy says woof!\n"
     ]
    }
   ],
   "source": [
    "class Dog:\n",
    "    def __init__(self, name):\n",
    "        self.name = name\n",
    "\n",
    "    def bark(self):\n",
    "        print(f\"{self.name} says woof!\")\n",
    "\n",
    "# Creating an object\n",
    "my_dog = Dog(\"Buddy\")\n",
    "my_dog.bark()\n"
   ]
  },
  {
   "cell_type": "code",
   "execution_count": 7,
   "id": "3648205c-5fe6-4876-8532-dd76efaa6e33",
   "metadata": {},
   "outputs": [
    {
     "name": "stdout",
     "output_type": "stream",
     "text": [
      "Hi, I'm Alice and I'm 20 years old.\n"
     ]
    }
   ],
   "source": [
    "class Student:\n",
    "    def __init__(self, name, age):\n",
    "        self.name = name\n",
    "        self.age = age\n",
    "\n",
    "    def greet(self):\n",
    "        print(f\"Hi, I'm {self.name} and I'm {self.age} years old.\")\n",
    "\n",
    "s1 = Student(\"Alice\", 20)\n",
    "s1.greet()\n"
   ]
  },
  {
   "cell_type": "markdown",
   "id": "657f18e8-f7e4-497a-a8ac-3997c9b0be5c",
   "metadata": {},
   "source": [
    "💡 Notes:\n",
    "\n",
    "__init__() is the constructor that runs when the object is created.\n",
    "\n",
    "self is a reference to the current object.\n",
    "\n",
    "Attributes are variables attached to objects.\n",
    "\n",
    "Methods are functions attached to objects."
   ]
  },
  {
   "cell_type": "markdown",
   "id": "b02e6503-2333-475a-a006-c1caf4273333",
   "metadata": {},
   "source": [
    "### 📙 3. ENCAPSULATION\n",
    "Encapsulation restricts direct access to some components of an object."
   ]
  },
  {
   "cell_type": "code",
   "execution_count": 8,
   "id": "8deef273-91af-4d53-895e-86c0cce1c144",
   "metadata": {},
   "outputs": [
    {
     "name": "stdout",
     "output_type": "stream",
     "text": [
      "1500\n"
     ]
    }
   ],
   "source": [
    "class BankAccount:\n",
    "    def __init__(self, owner, balance):\n",
    "        self.owner = owner\n",
    "        self.__balance = balance  # private attribute\n",
    "\n",
    "    def deposit(self, amount):\n",
    "        self.__balance += amount\n",
    "\n",
    "    def get_balance(self):\n",
    "        return self.__balance\n",
    "\n",
    "acc = BankAccount(\"John\", 1000)\n",
    "acc.deposit(500)\n",
    "print(acc.get_balance())  # 1500\n",
    "# print(acc.__balance)  # ❌ Error: 'BankAccount' object has no attribute '__balance'\n"
   ]
  },
  {
   "cell_type": "markdown",
   "id": "4cb7bca1-4471-4c77-a746-7db49b8f9721",
   "metadata": {},
   "source": [
    "🔒 Tips:\n",
    "\n",
    "Prefix variable with __ to make it private.\n",
    "\n",
    "Access private variables via getter/setter methods."
   ]
  },
  {
   "cell_type": "markdown",
   "id": "88ecc1ae-863e-4a07-8cf8-0cf2d1d9ed46",
   "metadata": {},
   "source": [
    "### 📕 4. INHERITANCE\n",
    "Inheritance lets one class use the properties and methods of another."
   ]
  },
  {
   "cell_type": "code",
   "execution_count": 9,
   "id": "e0b68325-5f0a-4331-94b0-98480904c35b",
   "metadata": {},
   "outputs": [
    {
     "name": "stdout",
     "output_type": "stream",
     "text": [
      "Dog barks\n"
     ]
    }
   ],
   "source": [
    "class Animal:\n",
    "    def speak(self):\n",
    "        print(\"Animal makes a sound\")\n",
    "\n",
    "class Dog(Animal):\n",
    "    def speak(self):\n",
    "        print(\"Dog barks\")\n",
    "\n",
    "d = Dog()\n",
    "d.speak()\n"
   ]
  },
  {
   "cell_type": "markdown",
   "id": "2a4c3b22-120d-4779-b6ce-9dede75f3596",
   "metadata": {},
   "source": [
    "#### 💡 Notes:\n",
    "Child class inherits all methods and properties from parent.\n",
    "\n",
    "Use super() to call methods from parent class."
   ]
  },
  {
   "cell_type": "code",
   "execution_count": 10,
   "id": "b9dfdbc4-4014-4790-9b7f-3067ddb2e593",
   "metadata": {},
   "outputs": [],
   "source": [
    "class Dog(Animal):\n",
    "    def speak(self):\n",
    "        super().speak()\n",
    "        print(\"Dog barks\")\n"
   ]
  },
  {
   "cell_type": "markdown",
   "id": "1ae05841-2c75-4360-a1e3-6511d0d58698",
   "metadata": {},
   "source": [
    "### 📘 5. POLYMORPHISM\n",
    "Polymorphism means \"many forms\". A method can act differently based on the object."
   ]
  },
  {
   "cell_type": "code",
   "execution_count": 28,
   "id": "420b076d-32ce-4ecc-9f7a-2cc63d31b6e3",
   "metadata": {},
   "outputs": [
    {
     "name": "stdout",
     "output_type": "stream",
     "text": [
      "Tweet\n",
      "Meow\n"
     ]
    }
   ],
   "source": [
    "class Bird:\n",
    "    def sound(self):\n",
    "        return \"Tweet\"\n",
    "\n",
    "class Cat:\n",
    "    def sound(self):\n",
    "        return \"Meow\"\n",
    "\n",
    "animals = [Bird(), Cat()]\n",
    "for a in animals:\n",
    "    print(a.sound())  # Tweet, Meow\n"
   ]
  },
  {
   "cell_type": "markdown",
   "id": "9b767669-58d5-44bb-a3bb-cd40e768ae40",
   "metadata": {},
   "source": [
    "📒 6. ABSTRACTION (Brief Overview)\n",
    "Abstraction means hiding complex logic and showing only what's necessary."
   ]
  },
  {
   "cell_type": "code",
   "execution_count": 12,
   "id": "696aef9f-7309-429b-99ae-550685a7b283",
   "metadata": {},
   "outputs": [
    {
     "name": "stdout",
     "output_type": "stream",
     "text": [
      "78.5\n"
     ]
    }
   ],
   "source": [
    "#✅ Example with Abstract Base Class (ABC):\n",
    "from abc import ABC, abstractmethod\n",
    "\n",
    "class Shape(ABC):\n",
    "    @abstractmethod\n",
    "    def area(self):\n",
    "        pass\n",
    "\n",
    "class Circle(Shape):\n",
    "    def __init__(self, radius):\n",
    "        self.radius = radius\n",
    "\n",
    "    def area(self):\n",
    "        return 3.14 * self.radius ** 2\n",
    "\n",
    "c = Circle(5)\n",
    "print(c.area())\n"
   ]
  },
  {
   "cell_type": "markdown",
   "id": "44a8c306-9552-4636-a40e-1933074ca0b9",
   "metadata": {},
   "source": [
    "# ✅ QUICK SUMMARY TABLE\n",
    "| Feature              | Syntax & Notes                        |\n",
    "| -------------------- | ------------------------------------- |\n",
    "| **Class**            | `class MyClass:`                      |\n",
    "| **Object**           | `obj = MyClass()`                     |\n",
    "| **Constructor**      | `def __init__(self, ...)`             |\n",
    "| **Private Variable** | `self.__var`                          |\n",
    "| **Inheritance**      | `class B(A)`                          |\n",
    "| **Polymorphism**     | Same method name in different classes |\n",
    "| **super()**          | Call parent class methods             |\n",
    "| **@abstractmethod**  | Enforce method in subclass            |\n"
   ]
  },
  {
   "cell_type": "markdown",
   "id": "bf1db274-548f-4f3c-a9d4-d19f54f8367a",
   "metadata": {},
   "source": [
    "#### 🧪 PRACTICE PROBLEMS"
   ]
  },
  {
   "cell_type": "code",
   "execution_count": 16,
   "id": "9aecfc68-2853-458f-ade8-14607df86474",
   "metadata": {},
   "outputs": [
    {
     "name": "stdout",
     "output_type": "stream",
     "text": [
      "sbc written by efg\n"
     ]
    }
   ],
   "source": [
    "#1Basic Class:\n",
    "class Book:\n",
    "    def __init__(self,title,author):\n",
    "        self.title=title\n",
    "        self.author=author\n",
    "    def display(self):\n",
    "        print(f\"{self.title} written by {self.author}\")\n",
    "book=Book(\"sbc\",\"efg\")\n",
    "book.display()"
   ]
  },
  {
   "cell_type": "code",
   "execution_count": 22,
   "id": "d8fc032e-f9a5-4666-adcb-cf0f242fbb18",
   "metadata": {},
   "outputs": [
    {
     "name": "stdout",
     "output_type": "stream",
     "text": [
      "name: abc id:101 dept:efg\n"
     ]
    }
   ],
   "source": [
    "# 2 Employee System:\n",
    "\n",
    "class Employee:\n",
    "    def __init__(self,name,ID):\n",
    "        self.name=name\n",
    "        self.ID=ID\n",
    "    def manager(self,department):\n",
    "        self.department=department\n",
    "    def display(self):\n",
    "        print(f\"name: {self.name} id:{self.ID} dept:{self.department}\")\n",
    "employee=Employee(\"abc\",101)\n",
    "employee.manager(\"efg\")\n",
    "employee.display()\n",
    "        \n",
    "    \n",
    "\n",
    "    \n",
    "    "
   ]
  },
  {
   "cell_type": "code",
   "execution_count": null,
   "id": "e385c6e4-3878-4050-87d5-c7e8f69e91af",
   "metadata": {},
   "outputs": [],
   "source": [
    "#3 bank app"
   ]
  },
  {
   "cell_type": "code",
   "execution_count": 23,
   "id": "310168af-51f4-40ee-b754-35dcf442a194",
   "metadata": {},
   "outputs": [
    {
     "name": "stdout",
     "output_type": "stream",
     "text": [
      "1400\n"
     ]
    }
   ],
   "source": [
    "class BankAccount:\n",
    "    def __init__(self, owner, balance):\n",
    "        self.owner = owner\n",
    "        self.__balance = balance  # private attribute\n",
    "\n",
    "    def deposit(self, amount):\n",
    "        self.__balance += amount\n",
    "\n",
    "    def withraw(self,amount):\n",
    "        self.__balance-= amount\n",
    "\n",
    "    def get_balance(self):\n",
    "        return self.__balance\n",
    "\n",
    "acc = BankAccount(\"John\", 1000)\n",
    "acc.deposit(500)\n",
    "acc.withraw(100)\n",
    "print(acc.get_balance())  # 1500\n",
    "# print(acc.__balance)  # ❌ Error: 'BankAccount' object has no attribute '__balance'\n"
   ]
  },
  {
   "cell_type": "code",
   "execution_count": 27,
   "id": "5007133b-d773-4a3d-8087-267818d2d584",
   "metadata": {},
   "outputs": [
    {
     "name": "stdout",
     "output_type": "stream",
     "text": [
      "bark\n",
      "None\n",
      "meow\n",
      "None\n",
      "moo\n",
      "None\n"
     ]
    }
   ],
   "source": [
    "# 4\n",
    "class dog:\n",
    "    def speak(self):\n",
    "        print(\"bark\")\n",
    "class cat:\n",
    "    def speak(self):\n",
    "        print(\"meow\")\n",
    "class cow:\n",
    "    def speak(self):\n",
    "        print(\"moo\")\n",
    "animals = [dog(),cat(),cow()]\n",
    "for a in animals:\n",
    "    print(a.speak())  # Tweet, Meow\n"
   ]
  },
  {
   "cell_type": "code",
   "execution_count": 29,
   "id": "05bd1476-1f81-4a1c-a6ec-9e3a54540c80",
   "metadata": {},
   "outputs": [
    {
     "name": "stdout",
     "output_type": "stream",
     "text": [
      "bark\n",
      "meow\n",
      "moo\n"
     ]
    }
   ],
   "source": [
    "# 4\n",
    "class dog:\n",
    "    def speak(self):\n",
    "        return \"bark\"\n",
    "class cat:\n",
    "    def speak(self):\n",
    "        return \"meow\"\n",
    "class cow:\n",
    "    def speak(self):\n",
    "        return \"moo\"\n",
    "animals = [dog(),cat(),cow()]\n",
    "for a in animals:\n",
    "    print(a.speak())  # Tweet, Meow"
   ]
  },
  {
   "cell_type": "code",
   "execution_count": 34,
   "id": "02360aed-e3cf-4f61-8024-ef60488ca571",
   "metadata": {},
   "outputs": [
    {
     "name": "stdout",
     "output_type": "stream",
     "text": [
      "vechicle\n",
      "Brand: Yamaha, Model: FZ\n",
      "Yamaha FZ gives about 50-80 km/l (engine: 150cc)\n",
      "\n",
      "\n",
      "vechicle\n",
      "Brand: Tesla, Model: Model 3\n",
      "Tesla Model 3 gives 200-300 km per charge (Electric)\n"
     ]
    }
   ],
   "source": [
    "# 5\n",
    "class Vehicle:\n",
    "    def __init__(self,brand,model):\n",
    "        self.brand=brand\n",
    "        self.model=model\n",
    "        print(\"vechicle\")\n",
    "    def fuel_efficiency(self):\n",
    "        print(\"fuel efficiency\")\n",
    "    def display_info(self):\n",
    "        print(f\"Brand: {self.brand}, Model: {self.model}\")\n",
    "class Bike(vehicle):\n",
    "    def __init__(self, brand, model, engine_capacity):\n",
    "        super().__init__(brand, model)\n",
    "        self.engine_capacity = engine_capacity  # in CC\n",
    "\n",
    "    def fuel_efficiency(self):\n",
    "        print(f\"{self.brand} {self.model} gives about 50-80 km/l (engine: {self.engine_capacity}cc)\")\n",
    "class Car(Vehicle):\n",
    "    def __init__(self, brand, model, fuel_type):\n",
    "        super().__init__(brand, model)\n",
    "        self.fuel_type = fuel_type\n",
    "\n",
    "    def fuel_efficiency(self):\n",
    "        if self.fuel_type == \"petrol\":\n",
    "            print(f\"{self.brand} {self.model} gives around 15-20 km/l (Petrol)\")\n",
    "        elif self.fuel_type == \"diesel\":\n",
    "            print(f\"{self.brand} {self.model} gives around 20-25 km/l (Diesel)\")\n",
    "        elif self.fuel_type == \"electric\":\n",
    "            print(f\"{self.brand} {self.model} gives 200-300 km per charge (Electric)\")\n",
    "        else:\n",
    "            print(\"Unknown fuel type\")\n",
    "# Create Bike\n",
    "bike1 = Bike(\"Yamaha\", \"FZ\", 150)\n",
    "bike1.display_info()\n",
    "bike1.fuel_efficiency()\n",
    "\n",
    "print(\"\\n\")\n",
    "\n",
    "# Create Car\n",
    "car1 = Car(\"Tesla\", \"Model 3\", \"electric\")\n",
    "car1.display_info()\n",
    "car1.fuel_efficiency()\n"
   ]
  },
  {
   "cell_type": "markdown",
   "id": "e4dfb947-d3c9-4846-9ce4-f827e8c77784",
   "metadata": {},
   "source": [
    "### 🧠 TIPS FOR MASTERING OOP\n",
    "Think in terms of objects (real-world analogies help).\n",
    "\n",
    "Keep your classes small and focused.\n",
    "\n",
    "Use __init__ to prepare objects with data.\n",
    "\n",
    "Keep variables private when needed.\n",
    "\n",
    "Use inheritance to avoid code repetition.\n",
    "\n",
    "Always keep common properties in the parent class.\n",
    "\n",
    "Override methods for custom behavior in child classes.\n",
    "\n",
    "Use super() to initialize parent attributes."
   ]
  },
  {
   "cell_type": "markdown",
   "id": "4d4bbe65-d136-4c41-ba7f-b9af40b0813f",
   "metadata": {},
   "source": [
    "# Task 10: \n",
    "## Pythonic Features\n",
    " PART 1: List & Dictionary Comprehensions\n",
    " \n",
    " 🔸 Concept:Comprehensions are a concise way to create lists or dictionaries.\n",
    " "
   ]
  },
  {
   "cell_type": "markdown",
   "id": "04fb2083-1d69-4d1e-85f9-66d57e793f9b",
   "metadata": {},
   "source": [
    "#### sytax\n",
    "````\n",
    "# List\n",
    "[expression for item in iterable if condition]\n",
    "\n",
    "# Dictionary\n",
    "{key: value for item in iterable if condition}\n"
   ]
  },
  {
   "cell_type": "markdown",
   "id": "c9fcb8bb-fe0f-4804-8625-4a47111730ab",
   "metadata": {},
   "source": [
    "#### examples"
   ]
  },
  {
   "cell_type": "code",
   "execution_count": null,
   "id": "660d36ab-056a-4b02-9ba0-c7ee46a1d8d9",
   "metadata": {},
   "outputs": [],
   "source": [
    "# List Comprehension\n",
    "# Square of numbers from 1 to 5\n",
    "squares = [x**2 for x in range(1, 6)]\n",
    "print(squares)  # [1, 4, 9, 16, 25]\n",
    "\n",
    "# Even numbers only\n",
    "evens = [x for x in range(10) if x % 2 == 0]\n",
    "print(evens)  # [0, 2, 4, 6, 8]\n"
   ]
  },
  {
   "cell_type": "code",
   "execution_count": null,
   "id": "d34a1d9e-6dbe-4e5c-a219-c1b0be818405",
   "metadata": {},
   "outputs": [],
   "source": [
    "# Dictionary Comprehension\n",
    "# Squares in a dictionary\n",
    "squares_dict = {x: x**2 for x in range(1, 6)}\n",
    "print(squares_dict)  # {1: 1, 2: 4, 3: 9, 4: 16, 5: 25}\n"
   ]
  },
  {
   "cell_type": "markdown",
   "id": "ccf5bf0e-1b3a-4ed9-8f5f-757cd26ccdfe",
   "metadata": {},
   "source": [
    "🔸 Tips:\n",
    "\n",
    "Use comprehensions instead of loops when possible.\n",
    "\n",
    "Avoid making them too long (readability matters).\n",
    "\n",
    "Can be nested too!\n",
    "\n",
    "✅ Practice:\n",
    "\n",
    "Create a list of words with more than 5 letters from a sentence.\n",
    "\n",
    "Convert a dictionary of temperatures in Celsius to Fahrenheit."
   ]
  },
  {
   "cell_type": "code",
   "execution_count": 7,
   "id": "ee0bb64f-9dc3-4f77-b5a6-ba802bcfa48d",
   "metadata": {},
   "outputs": [
    {
     "name": "stdout",
     "output_type": "stream",
     "text": [
      "['abccdff']\n"
     ]
    }
   ],
   "source": [
    "# p1 Create a list of words with more than 5 letters from a sentence\n",
    "sentence=\" abccdff abc\"\n",
    "words=[x for x in sentence.split() if len(x)>5]\n",
    "print(words)\n"
   ]
  },
  {
   "cell_type": "code",
   "execution_count": 8,
   "id": "9a7688cf-b9b3-4589-9025-c2bb3e9bc239",
   "metadata": {},
   "outputs": [
    {
     "name": "stdout",
     "output_type": "stream",
     "text": [
      "{'New York': 71.6, 'London': 64.4, 'Delhi': 95.0, 'Tokyo': 78.8}\n"
     ]
    }
   ],
   "source": [
    "# p2 Convert a dictionary of temperatures in Celsius to Fahrenheit\n",
    "# Original temperature in Celsius\n",
    "celsius_temps = {\n",
    "    \"New York\": 22,\n",
    "    \"London\": 18,\n",
    "    \"Delhi\": 35,\n",
    "    \"Tokyo\": 26\n",
    "}\n",
    "\n",
    "# Convert to Fahrenheit\n",
    "fahrenheit_temps = {city: (temp * 9/5) + 32 for city, temp in celsius_temps.items()}\n",
    "print(fahrenheit_temps)\n"
   ]
  },
  {
   "cell_type": "markdown",
   "id": "0d5a6dfa-e60a-448b-ab3b-d5d5d1a1b1a8",
   "metadata": {},
   "source": [
    "### 🔹 PART 2: Generators & Iterators\n",
    "🔸 Iterators\n",
    "Any object with __iter__() and __next__() is an iterator.\n",
    "\n",
    "Example: list, string, tuple"
   ]
  },
  {
   "cell_type": "code",
   "execution_count": 9,
   "id": "538a3057-7606-4861-88a5-83130de38dff",
   "metadata": {},
   "outputs": [
    {
     "name": "stdout",
     "output_type": "stream",
     "text": [
      "1\n",
      "2\n"
     ]
    }
   ],
   "source": [
    "nums = [1, 2, 3]\n",
    "it = iter(nums)\n",
    "print(next(it))  # 1\n",
    "print(next(it))  # 2\n"
   ]
  },
  {
   "cell_type": "markdown",
   "id": "b163fbbd-00e7-4510-80fa-03513ec6482f",
   "metadata": {},
   "source": [
    "### 🔸 Generators\n",
    "A simpler way to create iterators using yield instead of return."
   ]
  },
  {
   "cell_type": "code",
   "execution_count": 10,
   "id": "b7321131-c825-4e43-9c79-036d71b590de",
   "metadata": {},
   "outputs": [
    {
     "name": "stdout",
     "output_type": "stream",
     "text": [
      "1\n",
      "2\n",
      "3\n"
     ]
    }
   ],
   "source": [
    "def count_up_to(n):\n",
    "    i = 1\n",
    "    while i <= n:\n",
    "        yield i\n",
    "        i += 1\n",
    "\n",
    "gen = count_up_to(3)\n",
    "for num in gen:\n",
    "    print(num)\n"
   ]
  },
  {
   "cell_type": "code",
   "execution_count": 14,
   "id": "4d39de92-cb95-43b6-a47c-883781885340",
   "metadata": {},
   "outputs": [
    {
     "name": "stdout",
     "output_type": "stream",
     "text": [
      "0\n"
     ]
    }
   ],
   "source": [
    "# 🔸 Generator Expressions:\n",
    "gen_exp = (x**2 for x in range(5))\n",
    "print(next(gen_exp))  # 0\n"
   ]
  },
  {
   "cell_type": "markdown",
   "id": "eba082b1-3473-4d9a-8d4a-6a899a0c2153",
   "metadata": {},
   "source": [
    "### 🔸 Tips:\n",
    "yield pauses function state; resumes from there later.\n",
    "\n",
    "Saves memory (lazy evaluation).\n",
    "\n",
    "Use for large data, streams, pipelines."
   ]
  },
  {
   "cell_type": "code",
   "execution_count": 16,
   "id": "367f7489-0699-451d-ba4f-02ec6ffa8d52",
   "metadata": {},
   "outputs": [
    {
     "name": "stdout",
     "output_type": "stream",
     "text": [
      "0\n"
     ]
    }
   ],
   "source": [
    "n=50\n",
    "gen_exp = (x=x/2 for x in range(n))\n",
    "print(next(gen_exp))  # 0\n"
   ]
  },
  {
   "cell_type": "code",
   "execution_count": 6,
   "id": "d2bf9ad7-0aa6-499d-a14c-62caae774989",
   "metadata": {},
   "outputs": [
    {
     "name": "stdout",
     "output_type": "stream",
     "text": [
      "0\n",
      "2\n",
      "4\n",
      "6\n",
      "8\n",
      "10\n"
     ]
    }
   ],
   "source": [
    "\n",
    "def even_up_to(n):\n",
    "    for i in range(0,n+1):\n",
    "        if i%2 == 0:\n",
    "            yield i\n",
    "            \n",
    "\n",
    "# Create generator object\n",
    "even_gen = even_up_to(10)\n",
    "\n",
    "# Print each value generated\n",
    "for num in even_gen:\n",
    "    print(num)\n",
    "\n",
    "\n"
   ]
  },
  {
   "cell_type": "code",
   "execution_count": 8,
   "id": "88035eb2-9d0e-4cbe-95d2-133d89b8f82a",
   "metadata": {},
   "outputs": [
    {
     "name": "stdout",
     "output_type": "stream",
     "text": [
      "0\n",
      "1\n",
      "1\n",
      "2\n",
      "3\n",
      "5\n",
      "8\n",
      "13\n",
      "21\n",
      "34\n"
     ]
    }
   ],
   "source": [
    "class FibonacciIterator:\n",
    "    def __init__(self, max_terms):\n",
    "        self.max_terms = max_terms  # how many terms to generate\n",
    "        self.count = 0              # to track the number of generated terms\n",
    "        self.a = 0                  # first term\n",
    "        self.b = 1                  # second term\n",
    "\n",
    "    def __iter__(self):\n",
    "        return self  # this class is the iterator\n",
    "\n",
    "    def __next__(self):\n",
    "        if self.count >= self.max_terms:\n",
    "            raise StopIteration\n",
    "\n",
    "        # Generate the next term\n",
    "        if self.count == 0:\n",
    "            self.count += 1\n",
    "            return 0\n",
    "        elif self.count == 1:\n",
    "            self.count += 1\n",
    "            return 1\n",
    "        else:\n",
    "            fib = self.a + self.b\n",
    "            self.a, self.b = self.b, fib\n",
    "            self.count += 1\n",
    "            return fib\n",
    "# Create an iterator to get first 10 Fibonacci numbers\n",
    "fib = FibonacciIterator(10)\n",
    "\n",
    "for num in fib:\n",
    "    print(num)\n"
   ]
  },
  {
   "cell_type": "code",
   "execution_count": 9,
   "id": "42b6a317-04c3-414a-ac19-908e5f91ae2e",
   "metadata": {},
   "outputs": [
    {
     "name": "stdout",
     "output_type": "stream",
     "text": [
      "0\n",
      "1\n",
      "1\n",
      "2\n",
      "3\n",
      "5\n",
      "8\n",
      "13\n",
      "21\n",
      "34\n"
     ]
    }
   ],
   "source": [
    "def fibonacci_generator(n):\n",
    "    a, b = 0, 1\n",
    "    count = 0\n",
    "    while count < n:\n",
    "        yield a\n",
    "        a, b = b, a + b\n",
    "        count += 1\n",
    "# Get first 10 Fibonacci numbers using generator\n",
    "for num in fibonacci_generator(10):\n",
    "    print(num)\n"
   ]
  },
  {
   "cell_type": "markdown",
   "id": "5704f39e-8d3d-4c6f-9931-1e5c2c5926d3",
   "metadata": {},
   "source": [
    "### PART 3: Decorators\n",
    "🔸 Concept:\n",
    "\n",
    "Decorators are functions that wrap another function to add extra features."
   ]
  },
  {
   "cell_type": "code",
   "execution_count": 17,
   "id": "4ba0fc2a-e96a-4833-a606-4fd20e71556b",
   "metadata": {},
   "outputs": [
    {
     "name": "stdout",
     "output_type": "stream",
     "text": [
      "Before the function runs\n",
      "Hello!\n",
      "After the function runs\n"
     ]
    }
   ],
   "source": [
    "#  Syntax:\n",
    "\n",
    "\n",
    "def decorator_function(original_function):\n",
    "    def wrapper():\n",
    "        print(\"Before the function runs\")\n",
    "        original_function()\n",
    "        print(\"After the function runs\")\n",
    "    return wrapper\n",
    "\n",
    "@decorator_function\n",
    "def say_hello():\n",
    "    print(\"Hello!\")\n",
    "\n",
    "say_hello()\n"
   ]
  },
  {
   "cell_type": "markdown",
   "id": "f19bb52d-ccf7-4659-bcab-aaf416949db3",
   "metadata": {},
   "source": [
    " Use Cases:\n",
    "\n",
    "Logging\n",
    "\n",
    "Access control\n",
    "\n",
    "Measuring execution time\n",
    "\n",
    "Input validation\n",
    "\n",
    " Tips:\n",
    "\n",
    "Use @ to apply a decorator.\n",
    "\n",
    "functools.wraps() can preserve metadata of the original function.\n",
    "\n",
    "Can be stacked (@d1, @d2)."
   ]
  },
  {
   "cell_type": "code",
   "execution_count": 18,
   "id": "fefac3f6-cc0a-48e2-9844-be5c5bc1925f",
   "metadata": {},
   "outputs": [
    {
     "name": "stdout",
     "output_type": "stream",
     "text": [
      "Start\n",
      "Hello Alice\n",
      "End\n"
     ]
    }
   ],
   "source": [
    "#Decorator with Arguments\n",
    "def greet_decorator(func):\n",
    "    def wrapper(name):\n",
    "        print(\"Start\")\n",
    "        func(name)\n",
    "        print(\"End\")\n",
    "    return wrapper\n",
    "\n",
    "@greet_decorator\n",
    "def greet(name):\n",
    "    print(f\"Hello {name}\")\n",
    "\n",
    "greet(\"Alice\")\n"
   ]
  },
  {
   "cell_type": "code",
   "execution_count": 22,
   "id": "d3f4c072-698e-4717-a657-1fed290cc767",
   "metadata": {},
   "outputs": [
    {
     "name": "stdout",
     "output_type": "stream",
     "text": [
      "Welcome to your dashboard, Alice!\n",
      "Access denied. Please login first.\n"
     ]
    }
   ],
   "source": [
    "#p1 Decorator to Check Authentication\n",
    "def authenticated_only(func):\n",
    "    def wrapper(user, *args, **kwargs):\n",
    "        if not user.get(\"authenticated\", False):\n",
    "            print(\"Access denied. Please login first.\")\n",
    "            return\n",
    "        return func(user, *args, **kwargs)\n",
    "    return wrapper\n",
    "\n",
    "@authenticated_only\n",
    "def view_dashboard(user):\n",
    "    print(f\"Welcome to your dashboard, {user['name']}!\")\n",
    "\n",
    "# Test\n",
    "user1 = {\"name\": \"Alice\", \"authenticated\": True}\n",
    "user2 = {\"name\": \"Bob\", \"authenticated\": False}\n",
    "\n",
    "view_dashboard(user1)  # ✅ Allowed\n",
    "view_dashboard(user2)  # ❌ Denied\n"
   ]
  },
  {
   "cell_type": "code",
   "execution_count": 20,
   "id": "a0beab83-f37d-4b1a-b098-786cfc96fa95",
   "metadata": {},
   "outputs": [
    {
     "name": "stdout",
     "output_type": "stream",
     "text": [
      "🔧 Running: slow_function\n",
      "Done with the task.\n",
      "⏱️ Finished in 2.0015 seconds\n"
     ]
    }
   ],
   "source": [
    "#p2. Decorator to Log Function Name and Execution Time\n",
    "import time\n",
    "\n",
    "def log_execution(func):\n",
    "    def wrapper(*args, **kwargs):\n",
    "        start_time = time.time()\n",
    "        print(f\"🔧 Running: {func.__name__}\")\n",
    "        result = func(*args, **kwargs)\n",
    "        end_time = time.time()\n",
    "        print(f\"⏱️ Finished in {end_time - start_time:.4f} seconds\")\n",
    "        return result\n",
    "    return wrapper\n",
    "\n",
    "@log_execution\n",
    "def slow_function():\n",
    "    time.sleep(2)\n",
    "    print(\"Done with the task.\")\n",
    "\n",
    "slow_function()\n"
   ]
  },
  {
   "cell_type": "markdown",
   "id": "50ddb414-f356-48ed-82e0-1e70645ac83d",
   "metadata": {},
   "source": [
    "\n",
    "| Feature        | Tip/Trick                                       |\n",
    "| -------------- | ----------------------------------------------- |\n",
    "| Comprehensions | Think: `[What for Who if Condition]`            |\n",
    "| Generators     | Use when dealing with *huge* data               |\n",
    "| Decorators     | Functions that \"decorate\" or \"wrap\" other funcs |\n",
    "\n",
    "Use list comprehension and the split() method to break the sentence into words.\n",
    "\n",
    " Python Iterator Class – Key Concepts:\n",
    "\n",
    "To make a class iterable, we must:\n",
    "\n",
    "Define __iter__(self) → returns the iterator object itself.\n",
    "\n",
    "Define __next__(self) → returns the next value, and raises StopIteration when done.\n",
    "\n",
    "| Concept     | Generator Function               | Iterator Class                 |\n",
    "| ----------- | -------------------------------- | ------------------------------ |\n",
    "| Syntax      | Uses `yield`                     | Uses `__iter__` and `__next__` |\n",
    "| Code size   | Short & clean                    | More verbose                   |\n",
    "| State mgmt  | Automatic                        | Manual tracking of state       |\n",
    "| When to use | Quick sequence, memory-efficient | Full control/custom behavior   |\n",
    "\n",
    "| Decorator             | Purpose                                | Key Concept          |\n",
    "| --------------------- | -------------------------------------- | -------------------- |\n",
    "| `@authenticated_only` | Check user permission before execution | Access control       |\n",
    "| `@log_execution`      | Log function name and time taken       | Monitoring/debugging |\n"
   ]
  },
  {
   "cell_type": "markdown",
   "id": "f4fdaf6b-94ac-4059-a7c0-63356078fe8c",
   "metadata": {},
   "source": [
    "# Task 11\n"
   ]
  },
  {
   "cell_type": "markdown",
   "id": "3c8b34c5-2027-4aca-bd67-e42ec34a3d51",
   "metadata": {},
   "source": [
    "## Regular Expressions in Python\n",
    "\n",
    "📌 What is Regex?\n",
    "\n",
    "Regular Expressions (regex) are patterns used to match, search, and manipulate text. Think of it like \"smart search.\"\n",
    "\n",
    "Python provides regex support using the re module.(import reimport re)\n",
    "### Common Functions\n",
    "| Function       | Purpose                                      |\n",
    "| -------------- | -------------------------------------------- |\n",
    "| `re.match()`   | Matches at the **start** of a string         |\n",
    "| `re.search()`  | Scans entire string for a **match anywhere** |\n",
    "| `re.findall()` | Returns **all matches** in a list            |\n",
    "| `re.sub()`     | Substitutes (replaces) matching strings      |\n",
    "\n",
    "### Basic Syntax\n",
    "| Symbol  | Meaning                      | Example                                |       |       |\n",
    "| ------- | ---------------------------- | -------------------------------------- | ----- | ----- |\n",
    "| `.`     | Any character except newline | `a.b` matches `acb`, `a9b`             |       |       |\n",
    "| `^`     | Start of string              | `^a` matches strings starting with 'a' |       |       |\n",
    "| `$`     | End of string                | `b$` matches strings ending with 'b'   |       |       |\n",
    "| `[]`    | Set of characters            | `[a-z]`, `[A-Z]`, `[0-9]`              |       |       |\n",
    "| `\\d`    | Any digit (0-9)              | `\\d\\d\\d` matches 3 digits              |       |       |\n",
    "| `\\w`    | Any alphanumeric character   | `[A-Za-z0-9_]`                         |       |       |\n",
    "| `\\s`    | Whitespace                   | space, tab, newline                    |       |       |\n",
    "| `*`     | 0 or more repetitions        | `ab*` → `a`, `ab`, `abbb`              |       |       |\n",
    "| `+`     | 1 or more repetitions        | `ab+` → `ab`, `abbb`                   |       |       |\n",
    "| `{m,n}` | Between m and n repetitions  | `\\d{2,4}`                              |       |       |\n",
    "| \\`      | \\`                           | OR operator                            | \\`cat | dog\\` |\n",
    "| `()`    | Grouping                     | `(abc)+`                               |       |       |\n"
   ]
  },
  {
   "cell_type": "markdown",
   "id": "4a2ad229-12f0-47be-82b8-2ac4c707e1a7",
   "metadata": {},
   "source": [
    "### re.match() – Match from the beginning"
   ]
  },
  {
   "cell_type": "code",
   "execution_count": 27,
   "id": "0c9cdc5d-725f-48ae-a2c7-fe0556ae0ba4",
   "metadata": {},
   "outputs": [
    {
     "name": "stdout",
     "output_type": "stream",
     "text": [
      "<re.Match object; span=(0, 5), match='Hello'>\n",
      "None\n"
     ]
    }
   ],
   "source": [
    "import re\n",
    "\n",
    "result = re.match(r\"Hello\", \"Hello World\")\n",
    "print(result)  # ✅ Match object\n",
    "result = re.match(r\"Hello\", \"hello World\")\n",
    "print(result)  # ✅ Match object\n",
    "#  ❗Only matches at the beginning of the string"
   ]
  },
  {
   "cell_type": "markdown",
   "id": "61b51270-4e6c-46fa-9fdf-1770528949c4",
   "metadata": {},
   "source": [
    "### re.search() – Find anywhere in the string"
   ]
  },
  {
   "cell_type": "code",
   "execution_count": 28,
   "id": "9a08f59d-c8cc-4d1f-83cb-1b07139ceb26",
   "metadata": {},
   "outputs": [
    {
     "name": "stdout",
     "output_type": "stream",
     "text": [
      "abc@example.com\n"
     ]
    }
   ],
   "source": [
    "text = \"My email is abc@example.com\"\n",
    "match = re.search(r\"\\w+@\\w+\\.\\w+\", text)\n",
    "print(match.group())  # ✅ abc@example.com\n",
    "#Use .group() to get matched string"
   ]
  },
  {
   "cell_type": "markdown",
   "id": "7bb6070f-0a94-40df-b5a5-55b4426f42a5",
   "metadata": {},
   "source": [
    "### re.findall() – Return all matches as a list"
   ]
  },
  {
   "cell_type": "code",
   "execution_count": 29,
   "id": "c49bff0f-25b9-4f93-9caa-9db807ad5594",
   "metadata": {},
   "outputs": [
    {
     "name": "stdout",
     "output_type": "stream",
     "text": [
      "['john@gmail.com', 'alice@yahoo.com']\n"
     ]
    }
   ],
   "source": [
    "text = \"Emails: john@gmail.com, alice@yahoo.com\"\n",
    "emails = re.findall(r\"\\w+@\\w+\\.\\w+\", text)\n",
    "print(emails)  # ['john@gmail.com', 'alice@yahoo.com']\n"
   ]
  },
  {
   "cell_type": "markdown",
   "id": "d98e0812-556d-48b8-9ddc-140fb2b08f52",
   "metadata": {},
   "source": [
    "### re.sub() – Substitute matching patterns"
   ]
  },
  {
   "cell_type": "code",
   "execution_count": 30,
   "id": "4ba5cd8e-31e3-47b9-8680-2d57dd812e77",
   "metadata": {},
   "outputs": [
    {
     "name": "stdout",
     "output_type": "stream",
     "text": [
      "Phone: 1234567890\n"
     ]
    }
   ],
   "source": [
    "text = \"Phone: 123-456-7890\"\n",
    "clean = re.sub(r\"-\", \"\", text)\n",
    "print(clean)  # Phone: 1234567890\n"
   ]
  },
  {
   "cell_type": "code",
   "execution_count": 32,
   "id": "19cf253b-d487-4278-a10d-b0074f10b166",
   "metadata": {},
   "outputs": [
    {
     "name": "stdout",
     "output_type": "stream",
     "text": [
      "✅ Valid email\n"
     ]
    }
   ],
   "source": [
    "# Email Validation Example\n",
    "email = \"test123@gmail.com\"\n",
    "pattern = r'^[\\w\\.-]+@[\\w\\.-]+\\.\\w{2,4}$'\n",
    "\n",
    "if re.match(pattern, email):\n",
    "    print(\"✅ Valid email\")\n",
    "else:\n",
    "    print(\"❌ Invalid email\")"
   ]
  },
  {
   "cell_type": "code",
   "execution_count": 31,
   "id": "9d41c00a-be36-4c7a-a92e-c96fe3ec3398",
   "metadata": {},
   "outputs": [
    {
     "name": "stdout",
     "output_type": "stream",
     "text": [
      "✅ Valid phone number\n"
     ]
    }
   ],
   "source": [
    "#  Phone Number Validation (10-digit)\n",
    "phone = \"9876543210\"\n",
    "pattern = r'^\\d{10}$'\n",
    "\n",
    "if re.match(pattern, phone):\n",
    "    print(\"✅ Valid phone number\")\n",
    "else:\n",
    "    print(\"❌ Invalid phone number\")\n"
   ]
  },
  {
   "cell_type": "markdown",
   "id": "e4e73a15-9c1b-4313-9cf8-807da8e94d9c",
   "metadata": {},
   "source": [
    "## Tips to Remember\n",
    "\n",
    "| Tip                            | Explanation                                                            |\n",
    "| ------------------------------ | ---------------------------------------------------------------------- |\n",
    "| Always use raw strings `r\"\"`   | Avoids escaping issues like `\\\\`                                       |\n",
    "| `match()` ≠ `search()`         | `match()` checks only the beginning                                    |\n",
    "| `findall()` returns list       | Use to extract multiple values                                         |\n",
    "| Use `^` and `$` for full match | Anchors start and end                                                  |\n",
    "| Test regex online              | Sites like [regex101.com](https://regex101.com) help visualize matches |\n"
   ]
  },
  {
   "cell_type": "code",
   "execution_count": 33,
   "id": "9dfeb588-a014-41b7-aba1-10008c2a0b44",
   "metadata": {},
   "outputs": [
    {
     "name": "stdout",
     "output_type": "stream",
     "text": [
      "✅ Valid\n"
     ]
    }
   ],
   "source": [
    "#p1. Validate a password (8+ chars, alphanumeric, at least one digit):\n",
    "password = \"pass1234\"\n",
    "pattern = r'^(?=.*\\d)(?=.*[a-zA-Z]).{8,}$'\n",
    "print(\"✅ Valid\" if re.match(pattern, password) else \"❌ Invalid\")\n"
   ]
  },
  {
   "cell_type": "code",
   "execution_count": 34,
   "id": "170ee3dc-8382-4e25-9e90-f4901f313293",
   "metadata": {},
   "outputs": [
    {
     "name": "stdout",
     "output_type": "stream",
     "text": [
      "['#sun', '#beach']\n"
     ]
    }
   ],
   "source": [
    "#p2. Extract hashtags from a string\n",
    "text = \"Loving the #sun and #beach!\"\n",
    "hashtags = re.findall(r\"#\\w+\", text)\n",
    "print(hashtags)  # ['#sun', '#beach']\n"
   ]
  },
  {
   "cell_type": "code",
   "execution_count": 35,
   "id": "00e1fb33-d4de-40e3-86bd-787e894b1a8e",
   "metadata": {},
   "outputs": [
    {
     "name": "stdout",
     "output_type": "stream",
     "text": [
      "My pin is **** and phone is ****\n"
     ]
    }
   ],
   "source": [
    "#p3 Replace all digits with *\n",
    "\n",
    "sentence = \"My pin is 1234 and phone is 9876\"\n",
    "masked = re.sub(r'\\d', '*', sentence)\n",
    "print(masked)  # My pin is **** and phone is ****\n"
   ]
  },
  {
   "cell_type": "code",
   "execution_count": 36,
   "id": "bb70fc8b-42d6-4afa-a770-a83e0d4b325d",
   "metadata": {},
   "outputs": [
    {
     "name": "stdout",
     "output_type": "stream",
     "text": [
      "['google.com', 'outlook.com']\n"
     ]
    }
   ],
   "source": [
    "# p4. Extract domain names from emails\n",
    "text = \"Emails: jack@google.com, jane@outlook.com\"\n",
    "domains = re.findall(r'@(\\w+\\.\\w+)', text)\n",
    "print(domains)  # ['google.com', 'outlook.com']\n"
   ]
  },
  {
   "cell_type": "markdown",
   "id": "e2fe5f8d-fb3d-4b62-90d0-9bb99273bd81",
   "metadata": {},
   "source": [
    "re.match() — match from beginning\n",
    "\n",
    "re.search() — match anywhere\n",
    "\n",
    "re.findall() — find all matches\n",
    "\n",
    "re.sub() — replace text\n",
    "\n",
    "Use ^ and $ for exact matching\n",
    "\n",
    "Use \\d, \\w, . to build smart patterns"
   ]
  },
  {
   "cell_type": "code",
   "execution_count": null,
   "id": "febf8434-8926-4697-86b8-8caaa5620add",
   "metadata": {},
   "outputs": [],
   "source": []
  }
 ],
 "metadata": {
  "kernelspec": {
   "display_name": "Python 3 (ipykernel)",
   "language": "python",
   "name": "python3"
  },
  "language_info": {
   "codemirror_mode": {
    "name": "ipython",
    "version": 3
   },
   "file_extension": ".py",
   "mimetype": "text/x-python",
   "name": "python",
   "nbconvert_exporter": "python",
   "pygments_lexer": "ipython3",
   "version": "3.12.7"
  }
 },
 "nbformat": 4,
 "nbformat_minor": 5
}
