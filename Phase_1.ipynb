{
 "cells": [
  {
   "cell_type": "markdown",
   "id": "99520788-01b4-4a75-8269-13cdba9fe0ed",
   "metadata": {},
   "source": [
    "# Phase 1"
   ]
  },
  {
   "cell_type": "markdown",
   "id": "155a1b2c-0b7f-4283-ab2b-763ee314a8b2",
   "metadata": {},
   "source": [
    "# 📘 Index\n",
    "\n",
    "- [Task 1](#task-1)\n",
    "- [Task 2](#task-2)\n",
    "- [Task 3](#task-3)\n",
    "- [Task 4](#task-4)\n",
    "- [Task 5](#task-5)\n",
    "- [Task 6](#task-6)\n",
    "- [Task 7](#task-7)\n",
    "- [Task 8](#task-8)\n"
   ]
  },
  {
   "cell_type": "markdown",
   "id": "12a986c8-0e20-4202-8147-b881c279c56c",
   "metadata": {},
   "source": [
    "# Task 1"
   ]
  },
  {
   "cell_type": "code",
   "execution_count": 1,
   "id": "fd26435c-cf7f-48f0-9381-111b4777ba97",
   "metadata": {},
   "outputs": [
    {
     "name": "stdout",
     "output_type": "stream",
     "text": [
      "Hello, World!\n"
     ]
    }
   ],
   "source": [
    "print(\"Hello, World!\")\n"
   ]
  },
  {
   "cell_type": "markdown",
   "id": "22fb4c96-1451-42bb-b597-03585bbcefaf",
   "metadata": {},
   "source": [
    "# Task 2"
   ]
  },
  {
   "cell_type": "code",
   "execution_count": 2,
   "id": "5e22e8c9-4783-4385-902d-d497964db0b5",
   "metadata": {},
   "outputs": [
    {
     "name": "stdout",
     "output_type": "stream",
     "text": [
      "Name:Vaishnav\n",
      "Age:23\n"
     ]
    }
   ],
   "source": [
    "print(\"Name:Vaishnav\")\n",
    "print(\"Age:23\")"
   ]
  },
  {
   "cell_type": "code",
   "execution_count": 3,
   "id": "d6d3bc45-95d5-4876-8b72-78425a7ce1b6",
   "metadata": {},
   "outputs": [
    {
     "name": "stdout",
     "output_type": "stream",
     "text": [
      "This line runs.\n"
     ]
    }
   ],
   "source": [
    "# This is a comment\n",
    "print(\"This line runs.\")  # This is an inline comment\n"
   ]
  },
  {
   "cell_type": "markdown",
   "id": "1940ec10-cf92-4895-afe2-9e55623108ae",
   "metadata": {},
   "source": [
    "#  Variables & Naming Rules\n",
    "🔹 Rules:\n",
    "\n",
    "Start with a letter or _\n",
    "\n",
    "Use lowercase with underscores (e.g., user_age)\n",
    "\n",
    "Don’t use reserved keywords (like class, if)"
   ]
  },
  {
   "cell_type": "code",
   "execution_count": 4,
   "id": "38ad1906-271d-4647-aeab-3a129eab5e12",
   "metadata": {},
   "outputs": [
    {
     "name": "stdout",
     "output_type": "stream",
     "text": [
      "AK 22 5.5 True\n"
     ]
    }
   ],
   "source": [
    "name = \"AK\"\n",
    "age = 22\n",
    "height = 5.5\n",
    "is_student = True\n",
    "print(name,age,height,is_student)"
   ]
  },
  {
   "cell_type": "code",
   "execution_count": 5,
   "id": "fa6f4013-8ab2-464c-b43b-c03ed9bc81d0",
   "metadata": {},
   "outputs": [
    {
     "name": "stdout",
     "output_type": "stream",
     "text": [
      "<class 'int'> <class 'float'> <class 'str'> <class 'bool'>\n"
     ]
    }
   ],
   "source": [
    "a = 10        # int\n",
    "b = 3.14      # float\n",
    "c = \"Python\"  # str\n",
    "d = False     # bool\n",
    "\n",
    "print(type(a), type(b), type(c), type(d))\n"
   ]
  },
  {
   "cell_type": "code",
   "execution_count": 6,
   "id": "185e3036-150c-4bbb-abb2-a5ab224b9ea1",
   "metadata": {},
   "outputs": [
    {
     "name": "stdout",
     "output_type": "stream",
     "text": [
      "5 3.14 100 0 False\n",
      "<class 'int'> <class 'float'> <class 'str'> <class 'int'> <class 'bool'>\n"
     ]
    }
   ],
   "source": [
    "x = int(\"5\")         # str to int\n",
    "y = float(\"3.14\")    # str to float\n",
    "z = str(100)         # int to str\n",
    "b=int(d)\n",
    "print(x,y,z,b,d)\n",
    "print(type(x), type(y), type(z), type(b),type(d))"
   ]
  },
  {
   "cell_type": "code",
   "execution_count": 7,
   "id": "65ef801d-c6d3-4ad9-bc76-7c37bcfe761d",
   "metadata": {},
   "outputs": [
    {
     "name": "stdout",
     "output_type": "stream",
     "text": [
      "15\n"
     ]
    }
   ],
   "source": [
    "num1 = \"10\"\n",
    "num2 = 5\n",
    "result = int(num1) + num2\n",
    "print(result)  # 15\n"
   ]
  },
  {
   "cell_type": "code",
   "execution_count": 8,
   "id": "185a778e-67e2-4b42-8559-15b990cfdbc2",
   "metadata": {},
   "outputs": [
    {
     "name": "stdout",
     "output_type": "stream",
     "text": [
      "Hello World\n",
      "hello world\n"
     ]
    }
   ],
   "source": [
    "first = \"Hello\"\n",
    "last = \"World\"\n",
    "print(first + \" \" + last)\n",
    "print(\"hello\"+\" \"+\"world\")\n"
   ]
  },
  {
   "cell_type": "code",
   "execution_count": 9,
   "id": "8fea93e0-8fd8-4496-8553-bf058bc517a8",
   "metadata": {},
   "outputs": [
    {
     "name": "stdout",
     "output_type": "stream",
     "text": [
      "PYTHON\n",
      "python\n",
      "P\n",
      "6\n"
     ]
    }
   ],
   "source": [
    "text = \"Python\"\n",
    "print(text.upper())     # \"PYTHON\"\n",
    "print(text.lower())     # \"python\"\n",
    "print(text[0])          # First letter\n",
    "print(len(text))        # Length\n"
   ]
  },
  {
   "cell_type": "code",
   "execution_count": 10,
   "id": "2535be32-28ee-4a69-a232-20207f0b47ca",
   "metadata": {},
   "outputs": [
    {
     "name": "stdout",
     "output_type": "stream",
     "text": [
      "PYTHON\n"
     ]
    }
   ],
   "source": [
    "text=text.upper()\n",
    "print(text)"
   ]
  },
  {
   "cell_type": "markdown",
   "id": "e919a3a1-ba56-4565-849e-529284993bd7",
   "metadata": {},
   "source": [
    " P1. Print your name, age, and a fun fact about yourself."
   ]
  },
  {
   "cell_type": "code",
   "execution_count": 11,
   "id": "ccddc44f-d0e3-4896-9476-99bddf62f843",
   "metadata": {},
   "outputs": [
    {
     "name": "stdout",
     "output_type": "stream",
     "text": [
      "My name is AK\n",
      "I am 23 years old.\n",
      "Fun fact: I love snakes.\n"
     ]
    }
   ],
   "source": [
    "name = \"AK\"\n",
    "age = 23\n",
    "fact = \"I love snakes.\"\n",
    "print(\"My name is\", name)\n",
    "print(\"I am\", age, \"years old.\")\n",
    "print(\"Fun fact:\", fact)\n"
   ]
  },
  {
   "cell_type": "markdown",
   "id": "c4474b64-b916-4e18-ab5e-0953dd7991bb",
   "metadata": {},
   "source": [
    "P2. Temperature Converter (Celsius to Fahrenheit)"
   ]
  },
  {
   "cell_type": "code",
   "execution_count": 12,
   "id": "cca406b4-6f40-4639-b5f1-9ba6fdaf20cd",
   "metadata": {},
   "outputs": [
    {
     "name": "stdout",
     "output_type": "stream",
     "text": [
      "Temperature in Fahrenheit: 96.8\n"
     ]
    }
   ],
   "source": [
    "celsius=36\n",
    "fahrenheit=(celsius * 9/5) + 32\n",
    "print(\"Temperature in Fahrenheit:\", fahrenheit)"
   ]
  },
  {
   "cell_type": "markdown",
   "id": "54a08127-e983-48da-a054-46f087e10131",
   "metadata": {},
   "source": [
    "P3.Simple Interest Calculator"
   ]
  },
  {
   "cell_type": "code",
   "execution_count": 13,
   "id": "e6f907f4-8a3f-4b85-8598-d3627674be9f",
   "metadata": {},
   "outputs": [
    {
     "name": "stdout",
     "output_type": "stream",
     "text": [
      "simple interest is 3000.0\n"
     ]
    }
   ],
   "source": [
    "rate_of_interest=10\n",
    "principle_year=3\n",
    "principle_amount=10000\n",
    "simple_interest=(principle_year*principle_amount*rate_of_interest)/100\n",
    "print(\"simple interest is\",simple_interest)"
   ]
  },
  {
   "cell_type": "markdown",
   "id": "152193ad-bbe9-4f55-9b9d-779c34c5082b",
   "metadata": {},
   "source": [
    "# 📝 Tips & Notes\n",
    "* 💡 Tips:\n",
    "  \n",
    "Use type() to check variable types\n",
    "\n",
    "Strings are immutable (can’t be changed directly)\n",
    "\n",
    "Python is case-sensitive (Name ≠ name)\n",
    "\n",
    "Practice writing and running code repeatedly\n",
    "\n",
    "* 🧠 Common Beginner Mistakes:\n",
    "\n",
    "Forgetting quotes around strings\n",
    "\n",
    "Using = instead of == in comparisons \n",
    "\n",
    "Typos in variable names"
   ]
  },
  {
   "cell_type": "markdown",
   "id": "da0e8732-0fb8-428a-8661-e24e9cf1cae3",
   "metadata": {},
   "source": [
    "# Task 3"
   ]
  },
  {
   "cell_type": "markdown",
   "id": "04fc789c-976a-470c-a6d2-0b9e50aad202",
   "metadata": {},
   "source": [
    "What Are Operators?\n",
    "\n",
    "Operators are symbols or words that perform operations on variables and values."
   ]
  },
  {
   "cell_type": "markdown",
   "id": "1a396bd2-39ff-4b81-9fc4-f3024b9cb632",
   "metadata": {},
   "source": [
    "```\n",
    "Type\t                  Description\n",
    "Arithmetic\t          Math operations like +, -, *, /\n",
    "Comparison\t          Compare values (>, <, ==, !=, etc.)\n",
    "Logical\t                  Combine conditions (and, or, not)\n",
    "Assignment\t          Assign values (=, +=, -=, etc.)\n",
    "Bitwise       \t          Work with bits (&,\n",
    "Identity / Membership     is, in\n",
    "```"
   ]
  },
  {
   "cell_type": "markdown",
   "id": "f7336427-2bbb-4d4a-be79-cad06260814b",
   "metadata": {},
   "source": [
    "```\n",
    "✅ 1. Arithmetic Operators\n",
    "Operator\tName\tExample\n",
    "+\tAddition\ta + b\n",
    "-\tSubtraction\ta - b\n",
    "*\tMultiplication\ta * b\n",
    "/\tDivision\ta / b\n",
    "//\tFloor Division\ta // b\n",
    "%\tModulus\t        a % b\n",
    "**\tExponentiation\ta ** b\n",
    "```"
   ]
  },
  {
   "cell_type": "code",
   "execution_count": 14,
   "id": "8860a510-bbc2-4f8d-b3b6-3c4db17a786f",
   "metadata": {},
   "outputs": [
    {
     "name": "stdout",
     "output_type": "stream",
     "text": [
      "Addition: 19\n",
      "Subtraction: 11\n",
      "Multiplication: 60\n",
      "Division: 3.75\n",
      "Floor Division: 3\n",
      "Modulus: 3\n",
      "Exponentiation: 50625\n"
     ]
    }
   ],
   "source": [
    "a = 15\n",
    "b = 4\n",
    "\n",
    "print(\"Addition:\", a + b)          # 19\n",
    "print(\"Subtraction:\", a - b)       # 11\n",
    "print(\"Multiplication:\", a * b)    # 60\n",
    "print(\"Division:\", a / b)          # 3.75\n",
    "print(\"Floor Division:\", a // b)   # 3\n",
    "print(\"Modulus:\", a % b)           # 3\n",
    "print(\"Exponentiation:\", a ** b)   # 50625\n"
   ]
  },
  {
   "cell_type": "markdown",
   "id": "fc0565ec-a901-4707-b432-810e220dab11",
   "metadata": {},
   "source": [
    "```\n",
    "✅ 2. Comparison Operators\n",
    "Used to compare two values. Returns a Boolean (True or False).\n",
    "\n",
    "Operator\tDescription\n",
    "==\tEqual to\n",
    "!=\tNot equal to\n",
    ">\tGreater than\n",
    "<\tLess than\n",
    ">=\tGreater than or equal to\n",
    "<=\tLess than or equal to\n",
    "```\n"
   ]
  },
  {
   "cell_type": "code",
   "execution_count": 15,
   "id": "2a88e611-462c-48af-b5dc-0b88f7485670",
   "metadata": {},
   "outputs": [
    {
     "name": "stdout",
     "output_type": "stream",
     "text": [
      "False\n",
      "True\n",
      "False\n",
      "True\n"
     ]
    }
   ],
   "source": [
    "x = 10\n",
    "y = 20\n",
    "\n",
    "print(x == y)   # False\n",
    "print(x != y)   # True\n",
    "print(x > y)    # False\n",
    "print(x <= y)   # True\n"
   ]
  },
  {
   "cell_type": "markdown",
   "id": "c5e943e9-2f45-4af5-9b02-608d866be54a",
   "metadata": {},
   "source": [
    "```\n",
    "✅ 3. Logical Operators\n",
    "Used to combine multiple comparison expressions.\n",
    "\n",
    "Operator\tDescription\n",
    "and\tReturns True if both are True\n",
    "or\tReturns True if one is True\n",
    "not\tReverses the result"
   ]
  },
  {
   "cell_type": "code",
   "execution_count": 16,
   "id": "43df4546-457b-482f-a69e-633f27e51b81",
   "metadata": {},
   "outputs": [
    {
     "name": "stdout",
     "output_type": "stream",
     "text": [
      "True\n",
      "True\n",
      "False\n"
     ]
    }
   ],
   "source": [
    "age = 25\n",
    "has_license = True\n",
    "\n",
    "print(age >= 18 and has_license)    # True\n",
    "print(age < 18 or has_license)      # True\n",
    "print(not has_license)              # False\n"
   ]
  },
  {
   "cell_type": "markdown",
   "id": "469198a0-e017-424c-b460-5ab3bca98498",
   "metadata": {},
   "source": [
    "```\n",
    "✅ 4. Assignment Operators\n",
    "Used to assign or update the value of variables.\n",
    "\n",
    "Operator Example Meaning\n",
    "=\tx = 5\tAssign value\n",
    "+=\tx += 3\tx = x + 3\n",
    "-=\tx -= 2\tx = x - 2\n",
    "*=\tx *= 4\tx = x * 4\n",
    "/=\tx /= 2\tx = x / 2\n"
   ]
  },
  {
   "cell_type": "code",
   "execution_count": 17,
   "id": "2bd4827c-4532-4138-9eec-07f02850a6a8",
   "metadata": {},
   "outputs": [
    {
     "name": "stdout",
     "output_type": "stream",
     "text": [
      "15\n"
     ]
    }
   ],
   "source": [
    "x = 10\n",
    "x += 5  # x = x + 5 → x = 15\n",
    "print(x)\n"
   ]
  },
  {
   "cell_type": "markdown",
   "id": "18e2b35e-35b2-4bf8-9be0-9691b255211b",
   "metadata": {},
   "source": [
    "# 📝 Notes & Tips\n",
    "\n",
    "== is not = → == compares, = assigns.\n",
    "\n",
    "Use parentheses () for complex logic to make it readable.\n",
    "\n",
    "and, or, and not are powerful tools in conditions.\n",
    "\n",
    "// (floor division) always returns whole numbers.\n",
    "\n",
    "% gives the remainder → useful in even/odd checks."
   ]
  },
  {
   "cell_type": "markdown",
   "id": "31152eb6-7b26-4ec5-93d7-7ebb37aa43d4",
   "metadata": {},
   "source": [
    "## Practice Programs"
   ]
  },
  {
   "cell_type": "markdown",
   "id": "fc503810-424a-448c-abcd-4e2877e15a18",
   "metadata": {},
   "source": [
    " 1. Even or Odd Checker"
   ]
  },
  {
   "cell_type": "code",
   "execution_count": 18,
   "id": "fa92217f-17d2-4b21-9a11-d6ff2037e2b7",
   "metadata": {},
   "outputs": [
    {
     "name": "stdout",
     "output_type": "stream",
     "text": [
      "Even\n"
     ]
    }
   ],
   "source": [
    "num=20\n",
    "remainder=num%2\n",
    "if remainder==0:\n",
    "    print(\"Even\")\n",
    "else:\n",
    "    print(\"odd\")\n"
   ]
  },
  {
   "cell_type": "markdown",
   "id": "8310c2c8-1c46-4230-95fb-2a762600e3fa",
   "metadata": {},
   "source": [
    "2. Voter Eligibility Checker2. Voter Eligibility Checker"
   ]
  },
  {
   "cell_type": "code",
   "execution_count": 19,
   "id": "c09ac59a-8e66-4f08-b09f-1f9d4cbcd693",
   "metadata": {},
   "outputs": [
    {
     "name": "stdout",
     "output_type": "stream",
     "text": [
      "eligible to vote\n"
     ]
    }
   ],
   "source": [
    "age=19\n",
    "citizen=True\n",
    "if age>=18 and citizen:\n",
    "    print(\"eligible to vote\")\n",
    "else:\n",
    "    print(\"not eligible to vote\")\n"
   ]
  },
  {
   "cell_type": "markdown",
   "id": "3ad9e0b6-95cd-4ae0-867c-bb185361b40a",
   "metadata": {},
   "source": [
    "3. Simple Calculator"
   ]
  },
  {
   "cell_type": "code",
   "execution_count": 20,
   "id": "1c9a4dfb-bacc-4ff6-bf02-dd16172785b9",
   "metadata": {},
   "outputs": [
    {
     "name": "stdout",
     "output_type": "stream",
     "text": [
      "addition= 25 substraction= 15 multiplication= 100 division= 4.0 remainder= 0 floor division= 4\n"
     ]
    }
   ],
   "source": [
    "a=20\n",
    "b=5\n",
    "add=a+b\n",
    "sub=a-b\n",
    "mul=a*b\n",
    "div=a/b\n",
    "rem=a%b\n",
    "fdiv=a//b\n",
    "print(\"addition=\",add,\"substraction=\",sub,\"multiplication=\",mul,\"division=\",div,\"remainder=\",rem,\"floor division=\",fdiv)"
   ]
  },
  {
   "cell_type": "markdown",
   "id": "d39306c1-1278-4c6d-95da-69e47a0fe733",
   "metadata": {},
   "source": [
    "4. Max of 3 Numbers"
   ]
  },
  {
   "cell_type": "code",
   "execution_count": 21,
   "id": "4b95e08e-0f13-4d66-afc5-66dce5ee036b",
   "metadata": {},
   "outputs": [
    {
     "name": "stdout",
     "output_type": "stream",
     "text": [
      "biggest is 4\n"
     ]
    }
   ],
   "source": [
    "a=3\n",
    "b=4\n",
    "c=1\n",
    "if a>=b and a>=c:\n",
    "    print(\"biggest is \",a)\n",
    "elif b>=c:\n",
    "    print(\"biggest is\",b)\n",
    "else:\n",
    "    print(\"biggest is \",c)\n",
    "    "
   ]
  },
  {
   "cell_type": "markdown",
   "id": "f4332c1e-5b9c-490f-ad75-c941dff58330",
   "metadata": {},
   "source": [
    "5. Grade Classifier"
   ]
  },
  {
   "cell_type": "code",
   "execution_count": 22,
   "id": "88740822-8525-49f9-9eb3-44b3cff99913",
   "metadata": {},
   "outputs": [
    {
     "name": "stdout",
     "output_type": "stream",
     "text": [
      "F\n"
     ]
    }
   ],
   "source": [
    "mark= 36\n",
    "if mark >=90:\n",
    "    print(\"A+\")\n",
    "elif mark >= 80:\n",
    "    print(\"A\")\n",
    "elif mark >=70 :\n",
    "    print(\"B+\")\n",
    "elif mark >=60:\n",
    "    print(\"B\")\n",
    "elif mark >=50:\n",
    "    print(\"c+\")\n",
    "elif mark >=40:\n",
    "    print(\"c\")\n",
    "else:\n",
    "    print(\"F\")"
   ]
  },
  {
   "cell_type": "markdown",
   "id": "c51e7fcc-9553-4f8d-86e9-55e339850eed",
   "metadata": {},
   "source": [
    "# Task 4"
   ]
  },
  {
   "cell_type": "markdown",
   "id": "6a1a65f4-55f2-482f-a859-3eea4bb1069a",
   "metadata": {},
   "source": [
    "# conditional statements syntax(if,elif,else)\n",
    "````\n",
    "if condition:\n",
    "    # runs if condition is True\n",
    "elif another_condition:\n",
    "    # runs if previous False, this True\n",
    "else:\n",
    "    # runs if none above are True\n"
   ]
  },
  {
   "cell_type": "markdown",
   "id": "e68ad717-0ed3-45f7-b8a4-15994ee24a3f",
   "metadata": {},
   "source": [
    "✅ Notes:\n",
    "\n",
    "Conditions use comparison/logical operators.\n",
    "\n",
    "Use indentation (4 spaces) correctly.\n",
    "\n",
    "You can skip elif or else if not needed."
   ]
  },
  {
   "cell_type": "markdown",
   "id": "6752bbd9-a472-4e7b-92fc-d9086167999c",
   "metadata": {},
   "source": [
    "E1 grade classifier"
   ]
  },
  {
   "cell_type": "code",
   "execution_count": 24,
   "id": "95686b0f-3dd8-4552-9d7c-04953b9f3193",
   "metadata": {},
   "outputs": [
    {
     "name": "stdout",
     "output_type": "stream",
     "text": [
      "Grade: B\n"
     ]
    }
   ],
   "source": [
    "marks = 82\n",
    "\n",
    "if marks >= 90:\n",
    "    print(\"Grade: A\")\n",
    "elif marks >= 75:\n",
    "    print(\"Grade: B\")\n",
    "else:\n",
    "    print(\"Grade: C\")\n"
   ]
  },
  {
   "cell_type": "code",
   "execution_count": 25,
   "id": "06edff5d-6caf-4fa2-84eb-faba94fe78b3",
   "metadata": {},
   "outputs": [
    {
     "name": "stdout",
     "output_type": "stream",
     "text": [
      "Teen\n"
     ]
    }
   ],
   "source": [
    "# P1 Age category\n",
    "age = 17\n",
    "if age < 13:\n",
    "    print(\"Child\")\n",
    "elif age < 20:\n",
    "    print(\"Teen\")\n",
    "else:\n",
    "    print(\"Adult\")\n"
   ]
  },
  {
   "cell_type": "code",
   "execution_count": 26,
   "id": "11f98217-656c-4195-99a1-1fed250a13f8",
   "metadata": {},
   "outputs": [
    {
     "name": "stdout",
     "output_type": "stream",
     "text": [
      "leap year\n"
     ]
    }
   ],
   "source": [
    "#p2 leap year\n",
    "year=2024\n",
    "if 2024%4 ==0:\n",
    "    print(\"leap year\")\n",
    "else:\n",
    "    print(\"not a leap year\")"
   ]
  },
  {
   "cell_type": "markdown",
   "id": "f245f213-d456-449d-8cc0-2383564e58cc",
   "metadata": {},
   "source": [
    "## for Loops sytax\n",
    "Iterates over a sequence (list, string, range, etc.)\n",
    "\n",
    "for variable in sequence: \\\n",
    "____repeat this block\n"
   ]
  },
  {
   "cell_type": "code",
   "execution_count": 27,
   "id": "af769798-8816-4848-8f09-72521e29f4e0",
   "metadata": {},
   "outputs": [
    {
     "name": "stdout",
     "output_type": "stream",
     "text": [
      "1\n",
      "2\n",
      "3\n",
      "4\n",
      "5\n",
      "P\n",
      "y\n",
      "t\n",
      "h\n",
      "o\n",
      "n\n"
     ]
    }
   ],
   "source": [
    "\n",
    "# E1 Print numbers 1 to 5\n",
    "for i in range(1, 6):\n",
    "    print(i)\n",
    "\n",
    "# Print each character in a string\n",
    "for ch in \"Python\":\n",
    "    print(ch)\n"
   ]
  },
  {
   "cell_type": "markdown",
   "id": "40042905-4cb3-4f18-93cc-e8f511a3e19c",
   "metadata": {},
   "source": [
    "## range() Function:\n",
    "range(start, stop, step) → includes start, excludes stop.\n",
    "````               \n",
    "|range(5)        | # 0, 1, 2, 3, 4|\n",
    "|range(1, 6)     |# 1 to 5        |\n",
    "|range(1, 10, 2) |# 1, 3, 5, 7, 9 |\n"
   ]
  },
  {
   "cell_type": "code",
   "execution_count": 28,
   "id": "88fe27c1-8959-47bc-8a43-bdfc49dc6060",
   "metadata": {},
   "outputs": [
    {
     "name": "stdout",
     "output_type": "stream",
     "text": [
      "2\n",
      "4\n",
      "6\n",
      "8\n",
      "10\n",
      "12\n",
      "14\n",
      "16\n",
      "18\n",
      "20\n"
     ]
    }
   ],
   "source": [
    "# p1 Print Even Numbers 1 to 20\n",
    "for i in range(2,21,2):\n",
    "    print(i)"
   ]
  },
  {
   "cell_type": "code",
   "execution_count": 29,
   "id": "a70af803-e295-409a-8f53-c66499fd3337",
   "metadata": {},
   "outputs": [
    {
     "name": "stdout",
     "output_type": "stream",
     "text": [
      "2\n",
      "4\n",
      "6\n",
      "8\n",
      "10\n",
      "12\n",
      "14\n",
      "16\n",
      "18\n",
      "20\n"
     ]
    }
   ],
   "source": [
    "for i in range(1, 21):\n",
    "    if i % 2 == 0:\n",
    "        print(i)\n"
   ]
  },
  {
   "cell_type": "code",
   "execution_count": 30,
   "id": "bf8808c3-35dd-4890-94ca-11c524d65b75",
   "metadata": {},
   "outputs": [
    {
     "name": "stdout",
     "output_type": "stream",
     "text": [
      "7\n",
      "14\n",
      "21\n",
      "28\n",
      "35\n",
      "42\n",
      "49\n",
      "56\n",
      "63\n",
      "70\n"
     ]
    }
   ],
   "source": [
    "#p2 Print Multiplication Table\n",
    "num=7\n",
    "for i in range(1,11):\n",
    "    print(i*7)"
   ]
  },
  {
   "cell_type": "code",
   "execution_count": 31,
   "id": "895371cb-bdba-480b-a451-5af01ff38b8e",
   "metadata": {},
   "outputs": [
    {
     "name": "stdout",
     "output_type": "stream",
     "text": [
      "7 x 11 = 77\n",
      "7 x 10 = 70\n",
      "7 x 9 = 63\n",
      "7 x 8 = 56\n",
      "7 x 7 = 49\n",
      "7 x 6 = 42\n",
      "7 x 5 = 35\n",
      "7 x 4 = 28\n",
      "7 x 3 = 21\n",
      "7 x 2 = 14\n"
     ]
    }
   ],
   "source": [
    "num = 7\n",
    "for i in range(11,1,-1):\n",
    "    print(f\"{num} x {i} = {num * i}\")\n"
   ]
  },
  {
   "cell_type": "code",
   "execution_count": 32,
   "id": "4729c903-8966-4e10-ad04-9039dd51299b",
   "metadata": {},
   "outputs": [
    {
     "name": "stdout",
     "output_type": "stream",
     "text": [
      "55\n"
     ]
    }
   ],
   "source": [
    "# p3:Sum of First 10 Numbers\n",
    "sum=0\n",
    "for i in range(1,11):\n",
    "    sum=sum+i\n",
    "print(sum)"
   ]
  },
  {
   "cell_type": "markdown",
   "id": "22746352-bd85-415b-abaa-0a4a4e21550c",
   "metadata": {},
   "source": [
    "## while Syntax :\n",
    "Repeats as long as a condition is True.\n",
    "\n",
    "Use when you don’t know how many times to loop.\n",
    "\n",
    "while condition:\n",
    "\n",
    "____ repeat this block"
   ]
  },
  {
   "cell_type": "code",
   "execution_count": 33,
   "id": "d29060cc-98eb-48cd-913d-e77dfe09ec82",
   "metadata": {},
   "outputs": [
    {
     "name": "stdout",
     "output_type": "stream",
     "text": [
      "1\n",
      "2\n",
      "3\n",
      "4\n",
      "5\n"
     ]
    }
   ],
   "source": [
    "#E1 \n",
    "x = 1\n",
    "while x <= 5:\n",
    "    print(x)\n",
    "    x += 1\n"
   ]
  },
  {
   "cell_type": "code",
   "execution_count": 34,
   "id": "8c59d031-5468-4f0e-b6f1-47dd2cd41b1d",
   "metadata": {},
   "outputs": [
    {
     "name": "stdin",
     "output_type": "stream",
     "text": [
      "Enter 'stop' to exit:  stop\n"
     ]
    }
   ],
   "source": [
    "# p1 Print numbers until user says stop\n",
    "while True:\n",
    "    user_input = input(\"Enter 'stop' to exit: \")\n",
    "    if user_input == 'stop':\n",
    "        break\n",
    "    print(\"You entered:\", user_input)\n"
   ]
  },
  {
   "cell_type": "markdown",
   "id": "ed474fbe-d066-48a3-ba14-4ec04277ce45",
   "metadata": {},
   "source": [
    "# p2 password checker(max 3 tries)\n",
    "i=0\n",
    "while i<3:\n",
    "    user_input = input(\"Enter password: \")\n",
    "    if user_input == 'abcd':\n",
    "        print(\"access granded\")\n",
    "        break\n",
    "    else:\n",
    "        print(\"wrong password\")\n",
    "        i+=1\n",
    "    "
   ]
  },
  {
   "cell_type": "markdown",
   "id": "27f0c893-8c83-417f-9f3a-38d940e11ee0",
   "metadata": {},
   "source": [
    "## Loop Control Statements\n",
    "Keyword\tUse\n",
    "break\tExit the loop immediately\n",
    "continue\tSkip current iteration, go next\n",
    "pass\tDo nothing (placeholder)"
   ]
  },
  {
   "cell_type": "markdown",
   "id": "2b6fea03-a736-462f-94ad-c16a5b52942d",
   "metadata": {},
   "source": [
    "| Syntax      |        Description        |\n",
    "Keyword\t              Use\n",
    "break\tExit the loop immediately\n",
    "continue\tSkip current iteration, go next\n",
    "pass\tDo nothing (placeholder)"
   ]
  },
  {
   "cell_type": "markdown",
   "id": "2dd204dd-fed6-4b40-9ace-557d9cc281a1",
   "metadata": {},
   "source": [
    "| Keyword | Use |\n",
    "---\n",
    "continue   skip current iteration,go next\n",
    "|break    |Exit the loop immediately|"
   ]
  },
  {
   "cell_type": "code",
   "execution_count": 36,
   "id": "209dd841-8d11-47bd-8b47-07db9cb0ea02",
   "metadata": {},
   "outputs": [
    {
     "name": "stdout",
     "output_type": "stream",
     "text": [
      "0\n",
      "1\n",
      "2\n",
      "3\n",
      "4\n"
     ]
    }
   ],
   "source": [
    "# break:\n",
    "for i in range(10):\n",
    "    if i == 5:\n",
    "        break\n",
    "    print(i)  # prints 0 to 4\n"
   ]
  },
  {
   "cell_type": "code",
   "execution_count": 37,
   "id": "0e0bfe9d-88de-493c-b303-0459d6685ce3",
   "metadata": {},
   "outputs": [
    {
     "name": "stdout",
     "output_type": "stream",
     "text": [
      "0\n",
      "1\n",
      "3\n",
      "4\n"
     ]
    }
   ],
   "source": [
    "# continue:\n",
    "for i in range(5):\n",
    "    if i == 2:\n",
    "        continue\n",
    "    print(i)  # skips 2\n"
   ]
  },
  {
   "cell_type": "code",
   "execution_count": 38,
   "id": "5403302d-2397-470f-86bf-3e4d33872650",
   "metadata": {},
   "outputs": [],
   "source": [
    "# pass:\n",
    "for i in range(3):\n",
    "    pass  # does nothing, just placeholder\n"
   ]
  },
  {
   "cell_type": "markdown",
   "id": "3ead0996-98d1-4302-818a-ee13fe290ecc",
   "metadata": {},
   "source": [
    "📚 NOTES & TIPS\n",
    "\n",
    "Use for with known ranges, while with unknown limits.\n",
    "\n",
    "Always increment/decrement in while loops to avoid infinite loops.\n",
    "\n",
    "Indentation matters in Python — stick to 4 spaces."
   ]
  },
  {
   "cell_type": "code",
   "execution_count": 39,
   "id": "63b3c80a-5893-4692-a667-279c391f4868",
   "metadata": {},
   "outputs": [
    {
     "name": "stdin",
     "output_type": "stream",
     "text": [
      "Enter a number:  10\n"
     ]
    },
    {
     "name": "stdout",
     "output_type": "stream",
     "text": [
      "Not prime\n"
     ]
    }
   ],
   "source": [
    "num = int(input(\"Enter a number: \"))\n",
    "\n",
    "if num <= 1:\n",
    "    print(\"Not prime\")\n",
    "else:\n",
    "    for i in range(2, num):\n",
    "        if num % i == 0:\n",
    "            print(\"Not prime\")\n",
    "            break\n",
    "    else:\n",
    "        print(\"Prime number\")\n"
   ]
  },
  {
   "cell_type": "markdown",
   "id": "57886023-d0cc-46f6-be94-bd8f6fa55251",
   "metadata": {},
   "source": [
    "# Task 5:"
   ]
  },
  {
   "cell_type": "markdown",
   "id": "5f687574-9af6-49a9-b599-a4c2b4edc139",
   "metadata": {},
   "source": [
    "List-Ordered,changeablr ,allows duplicates\n",
    "tuble-ordered ,unchangeable,allows duplicates\n",
    "set-unordered,no duplicates\n",
    "dictionary-Key-value pairs,fast lookup"
   ]
  },
  {
   "cell_type": "markdown",
   "id": "eb95a6e5-0bbc-422b-8cc3-30d0483bc9a4",
   "metadata": {},
   "source": [
    "## 1.list\n",
    "\n",
    "✅ What is a List?\n",
    "\n",
    "A list is an ordered, changeable collection of items."
   ]
  },
  {
   "cell_type": "code",
   "execution_count": 40,
   "id": "4c8d14e7-68b2-4e74-8a0f-4db7334da5fc",
   "metadata": {},
   "outputs": [
    {
     "name": "stdout",
     "output_type": "stream",
     "text": [
      "10\n",
      "30\n",
      "[10, 20]\n",
      "[20]\n"
     ]
    }
   ],
   "source": [
    "my_list = [10, 20, 30]\n",
    "print(my_list[0])  # 10\n",
    "print(my_list[-1]) # 30 (last item)\n",
    "print(my_list[0:2])\n",
    "print(my_list[1:2])\n",
    "\n"
   ]
  },
  {
   "cell_type": "code",
   "execution_count": 41,
   "id": "e9671548-8ac8-4363-83eb-3b4e14e42ca3",
   "metadata": {},
   "outputs": [
    {
     "name": "stdout",
     "output_type": "stream",
     "text": [
      "[10, 50, 30]\n"
     ]
    }
   ],
   "source": [
    "# can modify items\n",
    "my_list[1] = 50\n",
    "print(my_list)  # [10, 50, 30]"
   ]
  },
  {
   "cell_type": "markdown",
   "id": "8fce2ffd-b9b7-48f5-b4d6-599535b2f869",
   "metadata": {},
   "source": [
    "|Method\t                 | Use                              |\n",
    "|--------                |--------                          |\n",
    "|append(x)\t             |Add x to the end                  |\n",
    "|insert(i, x)\t         |Add x at index i                  |\n",
    "|remove(x)\t             |Remove first occurrence of x      |\n",
    "|pop(i)\t                 |Remove and return item at index i |\n",
    "|sort()\t                 |Sorts the list                    |\n",
    "|reverse()\t             |Reverses the list                 |\n",
    "|clear()\t             |Empties the list                  |\n",
    "|len(list)\t             |Returns number of items           |"
   ]
  },
  {
   "cell_type": "code",
   "execution_count": 42,
   "id": "644f5d78-11e4-4dc2-924a-e17a37f9a8ff",
   "metadata": {},
   "outputs": [
    {
     "name": "stdout",
     "output_type": "stream",
     "text": [
      "['apple', 'cherry', 'mango']\n",
      "['apple', 'cherry', 'mango']\n"
     ]
    }
   ],
   "source": [
    "fruits = [\"apple\", \"banana\", \"cherry\"]\n",
    "fruits.append(\"mango\")\n",
    "fruits.remove(\"banana\")\n",
    "print(fruits)\n",
    "fruits.sort()\n",
    "print(fruits)"
   ]
  },
  {
   "cell_type": "markdown",
   "id": "cd47be77-7803-4f11-a6f3-6443b9ddcc1c",
   "metadata": {},
   "source": [
    "p1 add 5 elements to a list using input"
   ]
  },
  {
   "cell_type": "code",
   "execution_count": 44,
   "id": "b1724de1-ac90-431e-b1c5-eb758a335d86",
   "metadata": {},
   "outputs": [
    {
     "name": "stdin",
     "output_type": "stream",
     "text": [
      "enter a number 1: 5\n",
      "enter a number 2: 4\n",
      "enter a number 3: 4\n",
      "enter a number 4: 5\n",
      "enter a number 5: 8\n"
     ]
    },
    {
     "name": "stdout",
     "output_type": "stream",
     "text": [
      "[5, 4, 4, 5, 8]\n"
     ]
    }
   ],
   "source": [
    "list1=[]\n",
    "for i in range(5):\n",
    "    element=int(input(f\"enter a number {i+1}:\"))\n",
    "    list1.append(element)\n",
    "print(list1)\n",
    "              "
   ]
  },
  {
   "cell_type": "code",
   "execution_count": 45,
   "id": "12e66632-5804-4707-bd7f-5972adb7331f",
   "metadata": {},
   "outputs": [
    {
     "name": "stdout",
     "output_type": "stream",
     "text": [
      "[5, 4, 5, 8]\n"
     ]
    }
   ],
   "source": [
    "# Remove the second element\n",
    "list1.remove(list1[1])\n",
    "print(list1)"
   ]
  },
  {
   "cell_type": "code",
   "execution_count": 46,
   "id": "80008c0f-9135-4110-8f75-0d57ca90f82a",
   "metadata": {},
   "outputs": [
    {
     "name": "stdout",
     "output_type": "stream",
     "text": [
      "[8, 5, 4, 5]\n"
     ]
    }
   ],
   "source": [
    "# Reverse and print the list.\n",
    "list1.reverse()\n",
    "print(list1)"
   ]
  },
  {
   "cell_type": "code",
   "execution_count": 47,
   "id": "04773b0e-441b-48c5-8157-c6dc072beaf1",
   "metadata": {},
   "outputs": [
    {
     "name": "stdout",
     "output_type": "stream",
     "text": [
      "[8, 2, 5, 4, 5]\n"
     ]
    }
   ],
   "source": [
    "list1.insert(1,2)\n",
    "print(list1)"
   ]
  },
  {
   "cell_type": "code",
   "execution_count": 48,
   "id": "0b70e248-7218-4e4d-b8b6-fd38eb2a4bc4",
   "metadata": {},
   "outputs": [
    {
     "name": "stdout",
     "output_type": "stream",
     "text": [
      "[8, 5, 4, 5]\n"
     ]
    }
   ],
   "source": [
    "list1.pop(1)\n",
    "print(list1)"
   ]
  },
  {
   "cell_type": "code",
   "execution_count": 49,
   "id": "192d2f01-4669-4301-b3ef-d7e25adfeb0c",
   "metadata": {},
   "outputs": [
    {
     "name": "stdout",
     "output_type": "stream",
     "text": [
      "4\n"
     ]
    }
   ],
   "source": [
    "print(len(list1))"
   ]
  },
  {
   "cell_type": "code",
   "execution_count": 50,
   "id": "6f9df83a-053e-4d34-9a77-d4ac3dfc0170",
   "metadata": {},
   "outputs": [
    {
     "name": "stdout",
     "output_type": "stream",
     "text": [
      "[]\n"
     ]
    }
   ],
   "source": [
    "list1.clear()\n",
    "print(list1)"
   ]
  },
  {
   "cell_type": "markdown",
   "id": "3a95e1ae-ff6c-4a6e-95bc-1a1894e8e1ad",
   "metadata": {},
   "source": [
    "## 2.tuple\n",
    "\n",
    "✅ What is a Tuple?\n",
    "\n",
    "A tuple is like a list, but immutable (cannot change after creation).\n",
    "\n",
    "✅ Why use Tuples?\n",
    "\n",
    "Faster than lists.\n",
    "\n",
    "Safe: can't be accidentally modified.\n",
    "\n",
    "Good for fixed data."
   ]
  },
  {
   "cell_type": "code",
   "execution_count": 51,
   "id": "7775f50f-ea8a-4ada-9afb-8d7b113c1310",
   "metadata": {},
   "outputs": [],
   "source": [
    "my_tuple = (10, 20, 30)\n"
   ]
  },
  {
   "cell_type": "code",
   "execution_count": 52,
   "id": "f8eb8bb2-9fa8-411b-a5fd-301a068479e5",
   "metadata": {},
   "outputs": [
    {
     "name": "stdout",
     "output_type": "stream",
     "text": [
      "10\n"
     ]
    }
   ],
   "source": [
    "print(my_tuple[0])  # 10\n"
   ]
  },
  {
   "cell_type": "code",
   "execution_count": 53,
   "id": "4fe65f19-0bef-4a49-8f4b-322cac017e3a",
   "metadata": {},
   "outputs": [
    {
     "name": "stdout",
     "output_type": "stream",
     "text": [
      "10\n"
     ]
    }
   ],
   "source": [
    "a, b, c = (10, 20, 30)\n",
    "print(a)  # 1\n"
   ]
  },
  {
   "cell_type": "markdown",
   "id": "b32ad945-f432-4114-82a6-7d88ae95e47a",
   "metadata": {},
   "source": [
    "## 3: SETS\n",
    "\n",
    "✅ What is a Set?\n",
    "\n",
    "Unordered\n",
    "\n",
    "No duplicates\n",
    "\n",
    "Useful for membership tests, removing duplicates\n",
    "\n",
    "✅ Key Features:\n",
    "\n",
    "Cannot access by index\n",
    "\n",
    "Cannot have duplicates\n",
    "\n",
    "Can add/remove elements\n",
    "\n",
    "|Method\t         |Use                                  |\n",
    "|---------      | ------\n",
    "|add(x)\t        |Add x                            |\n",
    "|remove(x)\t    |Remove x (error if not found)    |\n",
    "|discard(x)\t    |Remove x (no error if not found) |\n",
    "|clear()\t    |Remove all items                 |\n",
    "|union()\t    |Combine sets\n",
    "|intersection() |Common elements"
   ]
  },
  {
   "cell_type": "code",
   "execution_count": 54,
   "id": "6215523f-f1a3-480e-88e5-e58454e9fd6a",
   "metadata": {},
   "outputs": [
    {
     "name": "stdout",
     "output_type": "stream",
     "text": [
      "{50, 20, 40, 10, 30}\n",
      "{30}\n"
     ]
    }
   ],
   "source": [
    "set1 = {10, 20, 30}\n",
    "set2 = {30, 40, 50}\n",
    "print(set1.union(set2))        # {10, 20, 30, 40, 50}\n",
    "print(set1.intersection(set2)) # {30}\n",
    "\n"
   ]
  },
  {
   "cell_type": "code",
   "execution_count": 55,
   "id": "cec70fe1-3d50-400c-9cba-82b2f24353da",
   "metadata": {},
   "outputs": [
    {
     "name": "stdout",
     "output_type": "stream",
     "text": [
      "{10, 20, 30} {40, 50, 30}\n",
      "{10, 20, 30} {40, 50, 30}\n",
      "{10, 20, 5, 30} {40, 50, 5, 30}\n"
     ]
    }
   ],
   "source": [
    "print(set1,set2)\n",
    "set1.discard(5)\n",
    "set2.discard(5)\n",
    "print(set1,set2)\n",
    "set1.add(5)\n",
    "set2.add(5)\n",
    "print(set1,set2)\n"
   ]
  },
  {
   "cell_type": "markdown",
   "id": "8b1cf3a4-1f23-4400-9b62-afc669f7efeb",
   "metadata": {},
   "source": [
    " Practice:\n",
    " \n",
    "Create a set with 5 numbers.\n",
    "\n",
    "Add 2, remove 1.\n",
    "\n",
    "Combine with another set and print."
   ]
  },
  {
   "cell_type": "code",
   "execution_count": 56,
   "id": "1abbf9ad-e6fe-455c-a264-dcefec59e5fa",
   "metadata": {},
   "outputs": [
    {
     "name": "stdout",
     "output_type": "stream",
     "text": [
      "{2, 3, 4, 5}\n",
      "{2, 3, 4, 5, 40, 10, 50, 20, 30}\n"
     ]
    }
   ],
   "source": [
    "my_set={1,2,3,4,5}\n",
    "my_set.add(2)\n",
    "my_set.remove(1)\n",
    "combined_set=my_set.union(set1,set2)\n",
    "print(my_set)\n",
    "print(combined_set)"
   ]
  },
  {
   "cell_type": "markdown",
   "id": "c4732cc4-b8bc-4ac6-be34-4a89e3964d91",
   "metadata": {},
   "source": [
    " 4: DICTIONARIES\n",
    "\n",
    "✅ What is a Dictionary?\n",
    "\n",
    "Collection of key-value pairs\n",
    "\n",
    "Unordered (Python 3.6+ keeps insertion order)\n",
    "\n",
    "Super useful for fast lookups\n",
    "\n",
    "| Method     | Use                        |\n",
    "| ---------- | -------------------------- |\n",
    "| `get(key)` | Get value (safe)           |\n",
    "| `keys()`   | Get all keys               |\n",
    "| `values()` | Get all values             |\n",
    "| `items()`  | Get all key-value pairs    |\n",
    "| `update()` | Add/update key-value pairs |\n",
    "| `pop(key)` | Remove key                 |\n",
    "| `clear()`  | Remove all                 |\n"
   ]
  },
  {
   "cell_type": "code",
   "execution_count": 57,
   "id": "27ae1685-da0e-415a-94b1-4e99d5c63636",
   "metadata": {},
   "outputs": [
    {
     "data": {
      "text/plain": [
       "{'name': 'Alice', 'age': 25}"
      ]
     },
     "execution_count": 57,
     "metadata": {},
     "output_type": "execute_result"
    }
   ],
   "source": [
    "my_dict = {\"name\": \"Alice\", \"age\": 25}\n",
    "my_dict"
   ]
  },
  {
   "cell_type": "code",
   "execution_count": 58,
   "id": "37fd6a3b-cdaf-44cf-bfb6-ef9dd084a65a",
   "metadata": {},
   "outputs": [
    {
     "name": "stdout",
     "output_type": "stream",
     "text": [
      "Alice\n"
     ]
    }
   ],
   "source": [
    "print(my_dict[\"name\"])  # Alice\n",
    "my_dict[\"age\"] = 30\n"
   ]
  },
  {
   "cell_type": "code",
   "execution_count": 59,
   "id": "015ec863-51d4-467d-9c40-345cb85c7c9b",
   "metadata": {},
   "outputs": [
    {
     "name": "stdout",
     "output_type": "stream",
     "text": [
      "{'name': 'Tom', 'marks': 97, 'grade': 'A'}\n"
     ]
    }
   ],
   "source": [
    "student = {\"name\": \"Tom\", \"marks\": 95}\n",
    "student[\"marks\"] = 97\n",
    "student[\"grade\"] = \"A\"\n",
    "print(student)\n"
   ]
  },
  {
   "cell_type": "markdown",
   "id": "ba69e31e-cc0e-462f-8940-46defc3fd69b",
   "metadata": {},
   "source": [
    "🧪 Practice:\n",
    "\n",
    "Create a dictionary of 3 friends and phone numbers.\n",
    "\n",
    "Add a new friend.\n",
    "\n",
    "Update one number.\n",
    "\n",
    "Delete a friend.\n",
    "\n",
    "Print all keys and values."
   ]
  },
  {
   "cell_type": "code",
   "execution_count": 60,
   "id": "69a134d3-2426-4354-818e-3529ff0adcb6",
   "metadata": {},
   "outputs": [
    {
     "name": "stdout",
     "output_type": "stream",
     "text": [
      "{'name1': 5845625425, 'name2': 6123501235, 'name3': 56548956215}\n"
     ]
    }
   ],
   "source": [
    "contact={\"name1\":5845625425,\"name2\":6123501235,\"name3\":56548956215}\n",
    "print(contact)"
   ]
  },
  {
   "cell_type": "code",
   "execution_count": 61,
   "id": "23ea1378-ba38-40ce-8f4f-482cf999e2a8",
   "metadata": {},
   "outputs": [
    {
     "data": {
      "text/plain": [
       "{'name1': 5845625425,\n",
       " 'name2': 6123501235,\n",
       " 'name3': 56548956215,\n",
       " 'name4': '545256585956'}"
      ]
     },
     "execution_count": 61,
     "metadata": {},
     "output_type": "execute_result"
    }
   ],
   "source": [
    "# Step 2: Add a new friend\n",
    "contact[\"name4\"]=\"545256585956\"\n",
    "contact"
   ]
  },
  {
   "cell_type": "code",
   "execution_count": 62,
   "id": "7a4cb6f0-172c-4110-9c32-5944a7b9a687",
   "metadata": {},
   "outputs": [],
   "source": [
    "contact[\"name4\"]=\"5452568888\""
   ]
  },
  {
   "cell_type": "markdown",
   "id": "4f21acf0-dcd0-4ba3-bc85-2bc42ee942ed",
   "metadata": {},
   "source": [
    "## get(key) – Get Value Safely\n",
    "\n",
    "✅ Use:\n",
    "\n",
    "Returns the value for the given key.\n",
    "\n",
    "Safe because it returns None (or a default) if the key is not found instead of raising an error.\n",
    "\n",
    "dictionary.get(key, default_value)\n"
   ]
  },
  {
   "cell_type": "code",
   "execution_count": 63,
   "id": "7f51d646-e3ae-408b-a997-e54c682900b7",
   "metadata": {},
   "outputs": [
    {
     "data": {
      "text/plain": [
       "56548956215"
      ]
     },
     "execution_count": 63,
     "metadata": {},
     "output_type": "execute_result"
    }
   ],
   "source": [
    "contact.get(\"name3\")"
   ]
  },
  {
   "cell_type": "markdown",
   "id": "881a0ea3-519b-4bb2-9188-fb912b5477b0",
   "metadata": {},
   "source": [
    " ## keys() – Get All Keys\n",
    "\n",
    "✅ Use:\n",
    "\n",
    "Returns a view object of all keys in the dictionary."
   ]
  },
  {
   "cell_type": "code",
   "execution_count": 64,
   "id": "a933af09-b32b-4b65-b736-e2ebe91a3924",
   "metadata": {},
   "outputs": [
    {
     "name": "stdout",
     "output_type": "stream",
     "text": [
      "dict_keys(['name1', 'name2', 'name3', 'name4'])\n"
     ]
    }
   ],
   "source": [
    "print(contact.keys())"
   ]
  },
  {
   "cell_type": "code",
   "execution_count": 65,
   "id": "c36c1eef-3127-462f-97e3-f7d6866dd8dd",
   "metadata": {},
   "outputs": [
    {
     "name": "stdout",
     "output_type": "stream",
     "text": [
      "['name1', 'name2', 'name3', 'name4']\n"
     ]
    }
   ],
   "source": [
    "print(list(contact.keys()))"
   ]
  },
  {
   "cell_type": "markdown",
   "id": "b8e817ad-b653-4372-8e94-ffa58b4d0852",
   "metadata": {},
   "source": [
    "## values() – Get All Values\n",
    "\n",
    "✅ Use:\n",
    "\n",
    "Returns a view object of all values in the dictionary."
   ]
  },
  {
   "cell_type": "code",
   "execution_count": 66,
   "id": "3eedd4ff-016f-4133-8e4a-be51c8b89348",
   "metadata": {},
   "outputs": [
    {
     "name": "stdout",
     "output_type": "stream",
     "text": [
      "dict_values([5845625425, 6123501235, 56548956215, '5452568888'])\n"
     ]
    }
   ],
   "source": [
    "print(contact.values())"
   ]
  },
  {
   "cell_type": "markdown",
   "id": "be78330d-f279-40fe-8443-b93c984c1c43",
   "metadata": {},
   "source": [
    "## items() – Get All Key-Value Pairs\n",
    "\n",
    "✅ Use:\n",
    "\n",
    "Returns a view object of all (key, value) pairs as tuples."
   ]
  },
  {
   "cell_type": "code",
   "execution_count": 67,
   "id": "d75ffdf0-990a-43fe-af8c-3868469b7d6c",
   "metadata": {},
   "outputs": [
    {
     "name": "stdout",
     "output_type": "stream",
     "text": [
      "dict_items([('name1', 5845625425), ('name2', 6123501235), ('name3', 56548956215), ('name4', '5452568888')])\n"
     ]
    }
   ],
   "source": [
    "print(contact.items())"
   ]
  },
  {
   "cell_type": "markdown",
   "id": "ef3ea9d9-485b-4752-9602-2d07080b463e",
   "metadata": {},
   "source": [
    " ## update() – Add or Update Items\n",
    "\n",
    "✅ Use:\n",
    "\n",
    "Adds new key-value pairs.\n",
    "\n",
    "Updates value if the key already exists."
   ]
  },
  {
   "cell_type": "code",
   "execution_count": 68,
   "id": "36cf0322-0f6e-439a-a8ab-ea32f6d55753",
   "metadata": {},
   "outputs": [
    {
     "data": {
      "text/plain": [
       "{'name1': 5845625425,\n",
       " 'name2': 6123501235,\n",
       " 'name3': 56548956215,\n",
       " 'name4': '5452568888',\n",
       " 'name5': '5858585858'}"
      ]
     },
     "execution_count": 68,
     "metadata": {},
     "output_type": "execute_result"
    }
   ],
   "source": [
    "contact.update({\"name5\":\"5858585858\"})\n",
    "contact"
   ]
  },
  {
   "cell_type": "markdown",
   "id": "440b6c3a-83d2-4d22-93ef-c4b7bedb7539",
   "metadata": {},
   "source": [
    " ## pop(key) – Remove a Key\n",
    "\n",
    "✅ Use:\n",
    "\n",
    "Removes the item with the specified key.\n",
    "\n",
    "Returns the value of the removed item.\n",
    "\n",
    "**Raises an error if key not found (unless default is given).**"
   ]
  },
  {
   "cell_type": "code",
   "execution_count": 69,
   "id": "11e4bfba-665d-489e-9327-71460c6e587c",
   "metadata": {},
   "outputs": [
    {
     "name": "stdout",
     "output_type": "stream",
     "text": [
      "20\n",
      "{'name': 'John'}\n",
      "Not Found\n"
     ]
    }
   ],
   "source": [
    "student = {\"name\": \"John\", \"age\": 20}\n",
    "age = student.pop(\"age\")\n",
    "print(age)       # 20\n",
    "print(student)   # {'name': 'John'}\n",
    "\n",
    "# With default\n",
    "print(student.pop(\"grade\", \"Not Found\"))  # Not Found\n"
   ]
  },
  {
   "cell_type": "code",
   "execution_count": 70,
   "id": "0f28bb1e-2b0e-4fff-8a98-0442760044bc",
   "metadata": {},
   "outputs": [
    {
     "name": "stdout",
     "output_type": "stream",
     "text": [
      "{'name1': 5845625425, 'name2': 6123501235, 'name4': '5452568888', 'name5': '5858585858'}\n",
      "56548956215\n"
     ]
    }
   ],
   "source": [
    "i=contact.pop(\"name3\")\n",
    "print(contact)\n",
    "print(i)"
   ]
  },
  {
   "cell_type": "markdown",
   "id": "58a3bcec-4696-4772-9e79-d61f3ec5a231",
   "metadata": {},
   "source": [
    "clear() – Remove All Items\n",
    "\n",
    "✅ Use:\n",
    "\n",
    "Empties the entire dictionary."
   ]
  },
  {
   "cell_type": "code",
   "execution_count": 71,
   "id": "adbfa467-867a-4b04-9a22-4ff74161e61d",
   "metadata": {},
   "outputs": [
    {
     "name": "stdout",
     "output_type": "stream",
     "text": [
      "{}\n"
     ]
    }
   ],
   "source": [
    "contact.clear()\n",
    "print(contact)"
   ]
  },
  {
   "cell_type": "markdown",
   "id": "f28af858-4149-49e1-9da2-b5d173e76087",
   "metadata": {},
   "source": [
    "# 📚 Tips & Notes:\n",
    "\n",
    "Use lists when order matters and items can change.\n",
    "\n",
    "Use tuples for fixed data.\n",
    "\n",
    "Use sets for unique data.\n",
    "\n",
    "Use dictionaries for keyed data, like lookup tables."
   ]
  },
  {
   "cell_type": "markdown",
   "id": "4691c19a-1d66-43c2-920c-8608b416510c",
   "metadata": {},
   "source": [
    "##### students = {}\n",
    "\n",
    "for _ in range(3):\n",
    "    name = input(\"Enter name: \")\n",
    "    grade = int(input(\"Enter marks: \"))\n",
    "    students[name] = grade\n",
    "\n",
    "print(\"All students:\", students)\n"
   ]
  },
  {
   "cell_type": "markdown",
   "id": "728e9774-e7e8-4b67-b790-31c93ace701a",
   "metadata": {},
   "source": [
    "# Task 6"
   ]
  },
  {
   "cell_type": "markdown",
   "id": "0d4ef0e4-c3b1-400b-8662-65d1b9285945",
   "metadata": {},
   "source": [
    "## 🔷 What is a Function?\n",
    "\n",
    "A function is a block of reusable code that performs a specific task. Functions help you:\n",
    "\n",
    "Avoid repetition\n",
    "\n",
    "Make code organized, readable, and testable\n",
    "\n",
    "Break a complex program into smaller pieces\n",
    "\n",
    "### 🔹 Types of Functions\n",
    "\n",
    "Built-in Functions – Already available in Python (e.g., print(), len(), type(), range())\n",
    "\n",
    "User-defined Functions – Functions you define using the def keyword"
   ]
  },
  {
   "cell_type": "markdown",
   "id": "e8b9e800-685f-4698-9739-9ae1ace22edb",
   "metadata": {},
   "source": [
    "## 🔶 SYNTAX: Defining and Calling a Function python\n"
   ]
  },
  {
   "cell_type": "code",
   "execution_count": 73,
   "id": "9326f851-af0a-4216-ac25-729237852887",
   "metadata": {},
   "outputs": [],
   "source": [
    "def function_name(parameters):\n",
    "    # code block\n",
    "    return value\n"
   ]
  },
  {
   "cell_type": "code",
   "execution_count": 74,
   "id": "48fff931-222f-4028-9f1d-5c4492ba57db",
   "metadata": {},
   "outputs": [
    {
     "name": "stdout",
     "output_type": "stream",
     "text": [
      "Hello Alice\n"
     ]
    }
   ],
   "source": [
    "# Example:\n",
    "def greet(name):\n",
    "    print(\"Hello\", name)\n",
    "\n",
    "greet(\"Alice\")\n"
   ]
  },
  {
   "cell_type": "markdown",
   "id": "eb6d5ef5-a710-4693-8acd-dca7d21858c4",
   "metadata": {},
   "source": [
    "| Part            | Description                           |\n",
    "| --------------- | ------------------------------------- |\n",
    "| `def`           | Keyword to define a function          |\n",
    "| `function_name` | Name of the function                  |\n",
    "| `parameters`    | Input variables (optional)            |\n",
    "| `return`        | (Optional) Sends value back to caller |\n"
   ]
  },
  {
   "cell_type": "markdown",
   "id": "1202b899-ed18-44f7-b2b8-6a2bbaaa9da3",
   "metadata": {},
   "source": [
    "### Examples of functions"
   ]
  },
  {
   "cell_type": "code",
   "execution_count": 75,
   "id": "0af290be-11a8-4d25-affe-4d7142daf7d3",
   "metadata": {},
   "outputs": [
    {
     "name": "stdout",
     "output_type": "stream",
     "text": [
      "Hello!\n"
     ]
    }
   ],
   "source": [
    "# 1. Function Without Parameters and Return\n",
    "def say_hello():\n",
    "    print(\"Hello!\")\n",
    "\n",
    "say_hello()\n"
   ]
  },
  {
   "cell_type": "code",
   "execution_count": 76,
   "id": "05b91063-9adf-4328-a338-23f74a844a56",
   "metadata": {},
   "outputs": [
    {
     "name": "stdout",
     "output_type": "stream",
     "text": [
      "Welcome, John\n"
     ]
    }
   ],
   "source": [
    "# 2. Function With Parameters\n",
    "def greet(name):              #name -parameter\n",
    "    print(\"Welcome,\", name)\n",
    "\n",
    "greet(\"John\")\n"
   ]
  },
  {
   "cell_type": "code",
   "execution_count": 77,
   "id": "6986a7e3-df29-4e47-bbc0-b578b331947e",
   "metadata": {},
   "outputs": [
    {
     "name": "stdout",
     "output_type": "stream",
     "text": [
      "Sum: 8\n"
     ]
    }
   ],
   "source": [
    "# 3. Function With Return Value\n",
    "def add(a, b):            # a,b - parameters\n",
    "    return a + b\n",
    "\n",
    "result = add(3, 5)        # returns value to result after the calling function\n",
    "print(\"Sum:\", result)\n"
   ]
  },
  {
   "cell_type": "code",
   "execution_count": 78,
   "id": "7c55d533-88f4-4bba-bd0c-40a8399e4f31",
   "metadata": {},
   "outputs": [
    {
     "name": "stdout",
     "output_type": "stream",
     "text": [
      "Hello Guest\n",
      "Hello Alice\n"
     ]
    }
   ],
   "source": [
    "# 4. Function With Default Parameters\n",
    "def greet(name=\"Guest\"):   #name _parameter with default value\n",
    "    print(\"Hello\", name)\n",
    "\n",
    "greet()           # Hello Guest  \n",
    "greet(\"Alice\")    # Hello Alice  \n",
    "# returns value  to function parameter while the calling function\n"
   ]
  },
  {
   "cell_type": "code",
   "execution_count": 79,
   "id": "7f0ca76a-e5ec-4219-b6be-d8b729f4c390",
   "metadata": {},
   "outputs": [
    {
     "name": "stdout",
     "output_type": "stream",
     "text": [
      "15 50 5\n"
     ]
    }
   ],
   "source": [
    "# 5. Function With Multiple Returns\n",
    "def stats(x, y):     # x,y - parameter\n",
    "    return x+y, x*y, x-y \n",
    "\n",
    "s, m, d = stats(10, 5) # returns values in corresponding order while the calling function\n",
    "print(s, m, d)\n"
   ]
  },
  {
   "cell_type": "markdown",
   "id": "cadd9ebb-fe22-4f31-87e5-132e1a90b824",
   "metadata": {},
   "source": [
    "### 🔶 Practice Programs:"
   ]
  },
  {
   "cell_type": "code",
   "execution_count": 80,
   "id": "74b301b0-2cc2-4bad-9863-4d88bf6eb1cc",
   "metadata": {},
   "outputs": [
    {
     "name": "stdin",
     "output_type": "stream",
     "text": [
      "enter the number 50\n"
     ]
    },
    {
     "name": "stdout",
     "output_type": "stream",
     "text": [
      "2500\n"
     ]
    },
    {
     "name": "stdin",
     "output_type": "stream",
     "text": [
      "enter the number 5\n"
     ]
    },
    {
     "name": "stdout",
     "output_type": "stream",
     "text": [
      "25\n"
     ]
    },
    {
     "name": "stdin",
     "output_type": "stream",
     "text": [
      "enter the number 2\n"
     ]
    },
    {
     "name": "stdout",
     "output_type": "stream",
     "text": [
      "4\n",
      "16\n"
     ]
    },
    {
     "name": "stdin",
     "output_type": "stream",
     "text": [
      "enter the number 5\n"
     ]
    },
    {
     "name": "stdout",
     "output_type": "stream",
     "text": [
      "25\n"
     ]
    }
   ],
   "source": [
    "# 🧪 1. Find the square of a number\n",
    "# 1. Function Without Parameters and Return\n",
    "def say_hello():\n",
    "    num=int(input(\"enter the number\"))\n",
    "    print(num*num)\n",
    "\n",
    "say_hello()\n",
    "# 2. Function With Parameters\n",
    "def greet(num):              #num -parameter\n",
    "    print(num*num)\n",
    "\n",
    "greet(int(input(\"enter the number\")))\n",
    "# 3. Function With Return Value\n",
    "def add(a):            # a, - parameters\n",
    "    return a * a\n",
    "\n",
    "result = add(int(input(\"enter the number\")))       # returns value to result after the calling function\n",
    "print( result)\n",
    "# 4. Function With Default Parameters\n",
    "def greet(name=4):   #name _parameter with default value\n",
    "    square = name ** 2\n",
    "    print(square)\n",
    "\n",
    "greet()           # 16 \n",
    "greet(int(input(\"enter the number\")))    # 25 \n",
    "# returns value  to function parameter while the calling function\n",
    "\n"
   ]
  },
  {
   "cell_type": "code",
   "execution_count": 81,
   "id": "78dde93b-8cbd-48fc-97a4-8438569c2427",
   "metadata": {},
   "outputs": [
    {
     "name": "stdin",
     "output_type": "stream",
     "text": [
      "enter the number 5\n"
     ]
    },
    {
     "name": "stdout",
     "output_type": "stream",
     "text": [
      "number is odd\n"
     ]
    },
    {
     "name": "stdin",
     "output_type": "stream",
     "text": [
      "enter the number 4\n"
     ]
    },
    {
     "name": "stdout",
     "output_type": "stream",
     "text": [
      "number is even\n"
     ]
    },
    {
     "name": "stdin",
     "output_type": "stream",
     "text": [
      "enter the number 4\n"
     ]
    },
    {
     "name": "stdout",
     "output_type": "stream",
     "text": [
      "True\n",
      "True\n"
     ]
    },
    {
     "name": "stdin",
     "output_type": "stream",
     "text": [
      "enter the number 665\n"
     ]
    },
    {
     "name": "stdout",
     "output_type": "stream",
     "text": [
      "False\n"
     ]
    }
   ],
   "source": [
    "##### 🧪 2. Check if number is even\n",
    "\n",
    "# 1. Function Without Parameters and Return\n",
    "def say_hello():\n",
    "    num=int(input(\"enter the number\"))\n",
    "    if num % 2 == 0:\n",
    "        print(\"number is even\")\n",
    "    else:\n",
    "        print(\"number is odd\")\n",
    "\n",
    "say_hello()\n",
    "# 2. Function With Parameters\n",
    "def greet(num):              #num -parameter\n",
    "    if num % 2 == 0:\n",
    "        print(\"number is even\")\n",
    "    else:\n",
    "        print(\"number is odd\")\n",
    "\n",
    "greet(int(input(\"enter the number\")))\n",
    "# 3. Function With Return Value\n",
    "def add(a):            # a, - parameters\n",
    "    return a % 2 ==0\n",
    "\n",
    "result = add(int(input(\"enter the number\")))       # returns value to result after the calling function\n",
    "print( result)\n",
    "# 4. Function With Default Parameters\n",
    "def greet(name=4):   #name _parameter with default value\n",
    "    square = name % 2 ==0\n",
    "    print(square)\n",
    "\n",
    "greet()           # true \n",
    "greet(int(input(\"enter the number\")))    \n",
    "# returns value  to function parameter while the calling function\n",
    "\n"
   ]
  },
  {
   "cell_type": "code",
   "execution_count": 82,
   "id": "14ce4c94-cd92-4c0b-a862-99c4ed680d1d",
   "metadata": {},
   "outputs": [
    {
     "name": "stdin",
     "output_type": "stream",
     "text": [
      "enter a number 5\n"
     ]
    },
    {
     "name": "stdout",
     "output_type": "stream",
     "text": [
      "120\n"
     ]
    }
   ],
   "source": [
    "# 🧪 3. Calculate factorial\n",
    "def fact(a):\n",
    "    result=1\n",
    "    for i in range(1,a+1):\n",
    "        result*=i\n",
    "    return result\n",
    "print(fact(int(input(\"enter a number\"))))"
   ]
  },
  {
   "cell_type": "markdown",
   "id": "416e2f05-f9b3-4664-ba3e-6fb8081abda6",
   "metadata": {},
   "source": [
    "## 🧠 Tips\n",
    "Functions can call other functions.\n",
    "\n",
    "Use meaningful names for functions and parameters.\n",
    "\n",
    "Avoid too many parameters – keep functions small and specific.\n",
    "\n",
    "Functions with return can be used in expressions.\n",
    "\n",
    "## 📝 Notes & Best Practices\n",
    "\n",
    "Use docstrings (\"\"\"Comment\"\"\") to describe what your function does.\n",
    "\n",
    "Define helper functions if a task is too long.\n",
    "\n",
    "Avoid using global variables inside functions. Use parameters instead.\n",
    "\n",
    "Functions improve reusability and unit testing.\n",
    "\n",
    "## 🔍 Real-World Analogy\n",
    "Think of a function as a coffee machine:\n",
    "\n",
    "You give it ingredients (inputs)\n",
    "\n",
    "It makes coffee (logic)\n",
    "\n",
    "It gives you the coffee (output)"
   ]
  },
  {
   "cell_type": "markdown",
   "id": "e08955a1-3444-4e07-8aa9-af8c5174323f",
   "metadata": {},
   "source": [
    "## ✅ Built-in Functions in Python\n",
    "| **Function**     | **Use / Description**                                             |\n",
    "| ---------------- | ----------------------------------------------------------------- |\n",
    "| `abs()`          | Returns absolute value of a number                                |\n",
    "| `all()`          | Returns `True` if all elements in an iterable are true            |\n",
    "| `any()`          | Returns `True` if any element in an iterable is true              |\n",
    "| `ascii()`        | Returns a readable version of an object (escapes non-ASCII chars) |\n",
    "| `bin()`          | Converts an integer to a binary string                            |\n",
    "| `bool()`         | Converts value to Boolean (`True` or `False`)                     |\n",
    "| `breakpoint()`   | Inserts a debugging breakpoint                                    |\n",
    "| `bytearray()`    | Returns a mutable byte array                                      |\n",
    "| `bytes()`        | Returns an immutable bytes object                                 |\n",
    "| `callable()`     | Returns `True` if the object is callable (like a function)        |\n",
    "| `chr()`          | Returns character from Unicode code                               |\n",
    "| `classmethod()`  | Converts a method to a class method                               |\n",
    "| `compile()`      | Compiles source into code object                                  |\n",
    "| `complex()`      | Creates a complex number                                          |\n",
    "| `delattr()`      | Deletes an attribute from an object                               |\n",
    "| `dict()`         | Creates a dictionary                                              |\n",
    "| `dir()`          | Lists valid attributes of an object                               |\n",
    "| `divmod()`       | Returns a tuple of (quotient, remainder)                          |\n",
    "| `enumerate()`    | Adds counter to iterable and returns as enumerate object          |\n",
    "| `eval()`         | Executes a Python expression as code                              |\n",
    "| `exec()`         | Executes Python code dynamically                                  |\n",
    "| `filter()`       | Filters elements using a function                                 |\n",
    "| `float()`        | Converts to floating point number                                 |\n",
    "| `format()`       | Formats a value into a specific string format                     |\n",
    "| `frozenset()`    | Returns an immutable set                                          |\n",
    "| `getattr()`      | Returns the value of a named attribute                            |\n",
    "| `globals()`      | Returns the global symbol table dictionary                        |\n",
    "| `hasattr()`      | Checks if object has a named attribute                            |\n",
    "| `hash()`         | Returns the hash value of an object                               |\n",
    "| `help()`         | Shows the help text for object                                    |\n",
    "| `hex()`          | Converts an integer to a hexadecimal string                       |\n",
    "| `id()`           | Returns the identity (memory address) of an object                |\n",
    "| `input()`        | Takes input from the user                                         |\n",
    "| `int()`          | Converts a value to integer                                       |\n",
    "| `isinstance()`   | Checks if an object is an instance of a class                     |\n",
    "| `issubclass()`   | Checks if a class is a subclass of another class                  |\n",
    "| `iter()`         | Returns an iterator object                                        |\n",
    "| `len()`          | Returns the length of an object                                   |\n",
    "| `list()`         | Creates a list                                                    |\n",
    "| `locals()`       | Returns the local symbol table dictionary                         |\n",
    "| `map()`          | Applies a function to all items in an iterable                    |\n",
    "| `max()`          | Returns the largest item                                          |\n",
    "| `memoryview()`   | Returns a memory view object                                      |\n",
    "| `min()`          | Returns the smallest item                                         |\n",
    "| `next()`         | Retrieves the next item from an iterator                          |\n",
    "| `object()`       | Creates a new base object                                         |\n",
    "| `oct()`          | Converts an integer to octal string                               |\n",
    "| `open()`         | Opens a file and returns a file object                            |\n",
    "| `ord()`          | Returns Unicode code of a character                               |\n",
    "| `pow()`          | Returns value of x to the power y (x^y)                           |\n",
    "| `print()`        | Prints to the console                                             |\n",
    "| `property()`     | Gets, sets, and deletes properties                                |\n",
    "| `range()`        | Creates a sequence of numbers                                     |\n",
    "| `repr()`         | Returns a string representation of an object                      |\n",
    "| `reversed()`     | Returns a reversed iterator                                       |\n",
    "| `round()`        | Rounds a number to nearest integer or decimal places              |\n",
    "| `set()`          | Creates a set                                                     |\n",
    "| `setattr()`      | Sets the value of an attribute of an object                       |\n",
    "| `slice()`        | Returns a slice object to slice strings/lists/tuples              |\n",
    "| `sorted()`       | Returns a sorted list of the iterable                             |\n",
    "| `staticmethod()` | Converts a method to a static method                              |\n",
    "| `str()`          | Converts a value to string                                        |\n",
    "| `sum()`          | Returns the sum of all items in an iterable                       |\n",
    "| `super()`        | Returns a proxy object to refer to the parent class               |\n",
    "| `tuple()`        | Creates a tuple                                                   |\n",
    "| `type()`         | Returns the type of an object                                     |\n",
    "| `vars()`         | Returns the `__dict__` of an object                               |\n",
    "| `zip()`          | Combines multiple iterables into tuples                           |\n",
    "| `__import__()`   | Advanced: Imports a module programmatically                       |\n"
   ]
  },
  {
   "cell_type": "markdown",
   "id": "52718ced-c95f-4d05-b9ec-a58339ca4d1b",
   "metadata": {},
   "source": [
    "### ✅ Exercises"
   ]
  },
  {
   "cell_type": "code",
   "execution_count": 83,
   "id": "ef226b72-01da-4e16-8999-c3b198c3a401",
   "metadata": {},
   "outputs": [
    {
     "name": "stdout",
     "output_type": "stream",
     "text": [
      "biggest is 9\n"
     ]
    }
   ],
   "source": [
    "# 1 Write a function that returns the maximum of 3 numbers.\n",
    "def max(a,b,c):\n",
    "    if a>=b and a>=c:\n",
    "        return a\n",
    "    elif b>=a and b>=c:\n",
    "        return b\n",
    "    else:\n",
    "        return c\n",
    "print(\"biggest is\",max(2,8,9))  "
   ]
  },
  {
   "cell_type": "code",
   "execution_count": 84,
   "id": "37fc9ff7-6357-4740-ac41-a6f2d0d2847b",
   "metadata": {},
   "outputs": [
    {
     "name": "stdin",
     "output_type": "stream",
     "text": [
      "enter the string abc\n"
     ]
    },
    {
     "name": "stdout",
     "output_type": "stream",
     "text": [
      "cba\n"
     ]
    }
   ],
   "source": [
    "# 2 Write a function that reverses a string.\n",
    "\n",
    "def rev(a):\n",
    "    b=\"\"\n",
    "    length=len(a)\n",
    "    for i in range (length-1,-1,-1):\n",
    "        b+=a[i]\n",
    "    return b\n",
    "string=input(\"enter the string\")\n",
    "print(rev(string))"
   ]
  },
  {
   "cell_type": "code",
   "execution_count": 85,
   "id": "3646a991-007a-4162-b35a-3aabffb190d9",
   "metadata": {},
   "outputs": [
    {
     "name": "stdin",
     "output_type": "stream",
     "text": [
      "enter the string abcd\n"
     ]
    },
    {
     "name": "stdout",
     "output_type": "stream",
     "text": [
      "dcba\n"
     ]
    }
   ],
   "source": [
    "def reverse_string(text):\n",
    "    return text[::-1]\n",
    "string=input(\"enter the string\")\n",
    "print(reverse_string(string))"
   ]
  },
  {
   "cell_type": "code",
   "execution_count": 86,
   "id": "b91ec344-e5bb-4811-b88f-a3caa8651b27",
   "metadata": {},
   "outputs": [
    {
     "name": "stdin",
     "output_type": "stream",
     "text": [
      "enter the string abcd\n"
     ]
    },
    {
     "name": "stdout",
     "output_type": "stream",
     "text": [
      "dcba\n"
     ]
    }
   ],
   "source": [
    "def reverse_string_loop(text):\n",
    "    reversed_text = \"\"\n",
    "    for char in text:\n",
    "        reversed_text = char + reversed_text\n",
    "    return reversed_text\n",
    "string=input(\"enter the string\")\n",
    "print(reverse_string_loop(string))"
   ]
  },
  {
   "cell_type": "code",
   "execution_count": 87,
   "id": "1f64aa4c-d682-4ccc-b247-dc60ed383d62",
   "metadata": {},
   "outputs": [
    {
     "name": "stdout",
     "output_type": "stream",
     "text": [
      "True\n"
     ]
    }
   ],
   "source": [
    "#3 Write a function to check if a string is a palindrome.\n",
    "def palindrome(text):\n",
    "    reversed_text = \"\"\n",
    "    for char in text:\n",
    "        reversed_text = char + reversed_text\n",
    "    return reversed_text==text\n",
    "print(palindrome(\"aba\"))\n",
    "      \n",
    "        \n",
    "    "
   ]
  },
  {
   "cell_type": "code",
   "execution_count": 88,
   "id": "fb3da1f3-932a-494b-86fa-415d168c6f68",
   "metadata": {},
   "outputs": [
    {
     "name": "stdin",
     "output_type": "stream",
     "text": [
      " abcduiou\n"
     ]
    },
    {
     "name": "stdout",
     "output_type": "stream",
     "text": [
      "5\n"
     ]
    }
   ],
   "source": [
    "#4.Write a function to count vowels in a string.\n",
    "def vowels(text):\n",
    "    i=0\n",
    "    for char in text:\n",
    "        if char=='a' or char=='e'or char=='i' or char=='o'or char=='u':\n",
    "            i+=1\n",
    "    return i\n",
    "print(vowels(input()))"
   ]
  },
  {
   "cell_type": "markdown",
   "id": "07f35d2c-ece2-4d2e-b2a7-c72be4438ce6",
   "metadata": {},
   "source": [
    "##### 5.Write a calculator function to add, subtract, multiply, divide.\n",
    "def add(a,b):\n",
    "    return a+b\n",
    "def subtract(a,b):\n",
    "    return a-b\n",
    "def multiply(a,b):\n",
    "    return a*b\n",
    "def divide(a,b):\n",
    "    return a/b\n",
    "a=int(input(\"enter number\"))\n",
    "b=int(input())\n",
    "print(\" add/subtract/multiply/divide\")\n",
    "print(add(a,b),subtract(a,b),multiply(a,b),divide(a,b))    "
   ]
  },
  {
   "cell_type": "markdown",
   "id": "4308d78b-b1ae-44b0-b284-5be35018c652",
   "metadata": {},
   "source": [
    "### ✅  Lambda Functions (Anonymous Functions)\n",
    "🔹 What is a Lambda Function?\n",
    "A lambda is a small anonymous function — used when you need a short, throwaway function.\n",
    "\n",
    "syntax\n",
    "\n",
    "**lambda arguments: expression**\n"
   ]
  },
  {
   "cell_type": "code",
   "execution_count": 90,
   "id": "12e85fce-8026-4964-8d5e-662d67670c1e",
   "metadata": {},
   "outputs": [
    {
     "name": "stdout",
     "output_type": "stream",
     "text": [
      "8\n"
     ]
    }
   ],
   "source": [
    "#  Example 1: Add two numbers\n",
    "add = lambda x, y: x + y\n",
    "print(add(3, 5))  # Output: 8\n"
   ]
  },
  {
   "cell_type": "code",
   "execution_count": 91,
   "id": "e1004822-969d-4cf2-804a-bd65f189268f",
   "metadata": {},
   "outputs": [
    {
     "name": "stdout",
     "output_type": "stream",
     "text": [
      "16\n"
     ]
    }
   ],
   "source": [
    "#Example 2: Square a number\n",
    "square = lambda x: x**2\n",
    "print(square(4))  # Output: 16\n"
   ]
  },
  {
   "cell_type": "code",
   "execution_count": 92,
   "id": "4f95e84e-1dfc-4ada-a4c7-74534b7d622b",
   "metadata": {},
   "outputs": [
    {
     "name": "stdout",
     "output_type": "stream",
     "text": [
      "[1, 4, 9, 16]\n"
     ]
    }
   ],
   "source": [
    "#Example 3: Use with map()\n",
    "\n",
    "nums = [1, 2, 3, 4]\n",
    "squares = list(map(lambda x: x**2, nums))\n",
    "print(squares)  # Output: [1, 4, 9, 16]\n"
   ]
  },
  {
   "cell_type": "markdown",
   "id": "273a9214-aa67-48e4-805c-bb6768f9112b",
   "metadata": {},
   "source": [
    "✅ When to Use:\n",
    "\n",
    "When a function is small and used once.\n",
    "\n",
    "With built-in functions like map(), filter(), sorted()."
   ]
  },
  {
   "cell_type": "markdown",
   "id": "1bca8f30-91b3-4ac1-aafe-e73430159538",
   "metadata": {},
   "source": [
    "## 🔹 What is Recursion?\n",
    "A function that calls itself."
   ]
  },
  {
   "cell_type": "code",
   "execution_count": 93,
   "id": "7ebad485-bbbf-49aa-9aec-5350b3ac02b6",
   "metadata": {},
   "outputs": [
    {
     "name": "stdout",
     "output_type": "stream",
     "text": [
      "120\n"
     ]
    }
   ],
   "source": [
    "# Example: Factorial (n!)\n",
    "def factorial(n):\n",
    "    if n == 0 or n == 1:\n",
    "        return 1\n",
    "    else:\n",
    "        return n * factorial(n - 1)\n",
    "\n",
    "print(factorial(5))  # Output: 120\n"
   ]
  },
  {
   "cell_type": "code",
   "execution_count": 94,
   "id": "3a76c165-1aab-4253-8efd-f751d3e4c46d",
   "metadata": {},
   "outputs": [
    {
     "name": "stdout",
     "output_type": "stream",
     "text": [
      "0 1 1 2 3 5 "
     ]
    }
   ],
   "source": [
    "# Example: Fibonacci Series\n",
    "def fibonacci(n):\n",
    "    if n <= 1:\n",
    "        return n\n",
    "    else:\n",
    "        return fibonacci(n-1) + fibonacci(n-2)\n",
    "\n",
    "for i in range(6):\n",
    "    print(fibonacci(i), end=\" \")  # Output: 0 1 1 2 3 5\n"
   ]
  },
  {
   "cell_type": "markdown",
   "id": "8a5cf631-6902-4181-a713-cb2b7c3ff628",
   "metadata": {},
   "source": [
    "# Task 7"
   ]
  },
  {
   "cell_type": "markdown",
   "id": "43c50b9b-a36b-429a-be5c-901cc1b7ef10",
   "metadata": {},
   "source": [
    "## File Handling \n",
    "\n",
    "Python allows you to work with files (text, CSV, etc.) for reading and writing data. You’ll often use this when handling data logs, user records, sensor values, ML data files, etc."
   ]
  },
  {
   "cell_type": "markdown",
   "id": "770a14aa-d4e7-474b-a339-1bf2d6e5f52c",
   "metadata": {},
   "source": [
    "### 📘 Part 1: Opening a File with open()\n",
    "🔹 Syntax:\n",
    "\n",
    "file_object = open(\"filename\", \"mode\")\n",
    "\n",
    "| Mode   | Meaning                                  |\n",
    "| ------ | ---------------------------------------- |\n",
    "| `'r'`  | Read (default) – error if file not found |\n",
    "| `'w'`  | Write – creates new/overwrites file      |\n",
    "| `'a'`  | Append – adds content to the end         |\n",
    "| `'x'`  | Create – error if file exists            |\n",
    "| `'b'`  | Binary mode                              |\n",
    "| `'t'`  | Text mode (default)                      |\n",
    "| `'r+'` | Read and write                           |\n"
   ]
  },
  {
   "cell_type": "code",
   "execution_count": 95,
   "id": "e3895657-2ef5-41e4-bd32-756a040be2ef",
   "metadata": {},
   "outputs": [],
   "source": [
    "# Part 3: Writing to Files\n",
    "f = open(\"data.txt\", \"w\")\n",
    "f.write(\"Hello World\")\n",
    "f.close()\n",
    "#If file doesn’t exist, it is created.\n",
    "\n",
    "#If it exists, it is overwritten."
   ]
  },
  {
   "cell_type": "code",
   "execution_count": 96,
   "id": "e208668b-7b23-45f9-8ea2-dd392afa1bed",
   "metadata": {},
   "outputs": [
    {
     "name": "stdout",
     "output_type": "stream",
     "text": [
      "Hello World\n"
     ]
    }
   ],
   "source": [
    "#✅ Example 1: Open and Read File\n",
    "f = open(\"data.txt\", \"r\")\n",
    "print(f.read())\n",
    "f.close()\n"
   ]
  },
  {
   "cell_type": "code",
   "execution_count": 97,
   "id": "d7253c2f-1070-416a-9e45-7f5b33f01682",
   "metadata": {},
   "outputs": [
    {
     "name": "stdout",
     "output_type": "stream",
     "text": [
      "Hello World\n"
     ]
    }
   ],
   "source": [
    "#Best Practice: Use with to manage files (auto-close)\n",
    "with open(\"data.txt\", \"r\") as f:\n",
    "    content = f.read()\n",
    "    print(content)"
   ]
  },
  {
   "cell_type": "markdown",
   "id": "c79b7fa4-4752-4a63-9630-3b985797cdc7",
   "metadata": {},
   "source": [
    "### 📘 Part 2: Reading from Files\n",
    "```\n",
    "f.read()       → Reads entire content\n",
    "f.readline()   → Reads one line\n",
    "f.readlines()  → Reads all lines into a list\n"
   ]
  },
  {
   "cell_type": "code",
   "execution_count": 98,
   "id": "f4c4844d-3856-4db1-8a18-6b8da82872aa",
   "metadata": {},
   "outputs": [
    {
     "name": "stdout",
     "output_type": "stream",
     "text": [
      "Hello World\n"
     ]
    }
   ],
   "source": [
    "#✅ Example 2: Read line by line\n",
    "with open(\"data.txt\", \"r\") as file:\n",
    "    for line in file:\n",
    "        print(line.strip())\n"
   ]
  },
  {
   "cell_type": "markdown",
   "id": "0770238a-f88a-43c7-9dd5-a3e3393f5b95",
   "metadata": {},
   "source": [
    "### 📘 Part 3: Writing to Files"
   ]
  },
  {
   "cell_type": "code",
   "execution_count": 99,
   "id": "b215c23b-6eb7-4edf-b2ad-05059f0f29e1",
   "metadata": {},
   "outputs": [],
   "source": [
    "\n",
    "\n",
    "f = open(\"data.txt\", \"w\")\n",
    "f.write(\"hallo python\")\n",
    "f.close()\n",
    "#If file doesn’t exist, it is created.\n",
    "\n",
    "#If it exists, it is overwritten."
   ]
  },
  {
   "cell_type": "markdown",
   "id": "585b47ad-c680-443a-bf99-ed733960f115",
   "metadata": {},
   "source": [
    "### 📘 Part 4: Appending to Files"
   ]
  },
  {
   "cell_type": "code",
   "execution_count": 100,
   "id": "be9a5dd9-ab58-4767-a962-52a07157b5f7",
   "metadata": {},
   "outputs": [],
   "source": [
    "f = open(\"data.txt\", \"a\")\n",
    "f.write(\"\\nThis line is appended.\")\n",
    "\n",
    "f.close()\n"
   ]
  },
  {
   "cell_type": "markdown",
   "id": "d84f2ad4-27de-4af5-ac7f-6c734a1c2706",
   "metadata": {},
   "source": [
    "### 📘 Part 5: Using Context Manager (with)\n",
    "Auto-closes the file\n",
    "\n",
    "Safer, especially when exceptions occur"
   ]
  },
  {
   "cell_type": "code",
   "execution_count": 101,
   "id": "9d33e757-119d-4dd7-99d7-330a9abb53b3",
   "metadata": {},
   "outputs": [],
   "source": [
    "#✅ Example 3: Append safely\n",
    "with open(\"data.txt\", \"a\") as f:\n",
    "    f.write(\"\\nLog entry: success\")\n",
    "    \n"
   ]
  },
  {
   "cell_type": "code",
   "execution_count": 102,
   "id": "93b1d410-c21c-4332-9fb9-791fd72fbbca",
   "metadata": {},
   "outputs": [
    {
     "name": "stdout",
     "output_type": "stream",
     "text": [
      "hallo python\n",
      "This line is appended.\n",
      "Log entry: success\n"
     ]
    }
   ],
   "source": [
    "#✅ Example 1: Open and Read File\n",
    "f = open(\"data.txt\", \"r\")\n",
    "print(f.read())\n",
    "f.close()\n"
   ]
  },
  {
   "cell_type": "markdown",
   "id": "0342d3e0-623e-48fa-b25a-8f5d35667967",
   "metadata": {},
   "source": [
    "### 📘 Part 6: Reading & Writing with r+\n",
    "Read + Write mode"
   ]
  },
  {
   "cell_type": "code",
   "execution_count": 103,
   "id": "e3c14e4c-0f05-4837-992e-ecaad0fe2541",
   "metadata": {},
   "outputs": [
    {
     "name": "stdout",
     "output_type": "stream",
     "text": [
      "hallo python\n",
      "This line is appended.\n",
      "Log entry: success\n",
      "\n"
     ]
    }
   ],
   "source": [
    "with open(\"data.txt\", \"r+\") as f:\n",
    "    print(f.read())\n",
    "    f.write(\"\\nNew line after read.\")\n",
    "    print(f.read())\n"
   ]
  },
  {
   "cell_type": "markdown",
   "id": "ee6cad47-d696-45fa-aa85-99195855cd8c",
   "metadata": {},
   "source": [
    "### 📘 Part 7: Working with CSV Files\n",
    "Python’s csv module makes it easy."
   ]
  },
  {
   "cell_type": "code",
   "execution_count": 104,
   "id": "c1b2b686-b02c-46ff-9e45-d074a413b43a",
   "metadata": {},
   "outputs": [],
   "source": [
    "#✅ Writing to CSV\n",
    "import csv\n",
    "\n",
    "with open(\"people.csv\", \"w\", newline=\"\") as file:\n",
    "    writer = csv.writer(file)\n",
    "    writer.writerow([\"Name\", \"Age\"])\n",
    "    writer.writerow([\"Alice\", 25])\n",
    "    writer.writerow([\"Bob\", 30])\n"
   ]
  },
  {
   "cell_type": "code",
   "execution_count": 105,
   "id": "7e6be563-7c09-4aca-b9e1-f1a2c1b0989f",
   "metadata": {},
   "outputs": [
    {
     "name": "stdout",
     "output_type": "stream",
     "text": [
      "['Name', 'Age']\n",
      "['Alice', '25']\n",
      "['Bob', '30']\n"
     ]
    }
   ],
   "source": [
    "#✅ Reading from CSV\n",
    "import csv\n",
    "\n",
    "with open(\"people.csv\", \"r\") as file:\n",
    "    reader = csv.reader(file)\n",
    "    for row in reader:\n",
    "        print(row)\n"
   ]
  },
  {
   "cell_type": "code",
   "execution_count": 106,
   "id": "4fae1bb5-eb8d-4fbd-8c49-8cb678444185",
   "metadata": {},
   "outputs": [
    {
     "name": "stdout",
     "output_type": "stream",
     "text": [
      "Alice 25\n"
     ]
    }
   ],
   "source": [
    "#✅ Using DictWriter and DictReader (More Flexible)\n",
    "import csv\n",
    "\n",
    "# Write with dictionary\n",
    "with open(\"data.csv\", \"w\", newline=\"\") as file:\n",
    "    writer = csv.DictWriter(file, fieldnames=[\"Name\", \"Age\"])\n",
    "    writer.writeheader()\n",
    "    writer.writerow({\"Name\": \"Alice\", \"Age\": 25})\n",
    "\n",
    "# Read as dictionary\n",
    "with open(\"data.csv\", \"r\") as file:\n",
    "    reader = csv.DictReader(file)\n",
    "    for row in reader:\n",
    "        print(row[\"Name\"], row[\"Age\"])\n"
   ]
  },
  {
   "cell_type": "markdown",
   "id": "0ebec03c-4d60-4e02-92a0-d9c4679be4e0",
   "metadata": {},
   "source": [
    "## 📌 Useful Tips:\n",
    "Use newline='' when writing CSV to avoid extra blank lines.\n",
    "\n",
    "Always prefer with for cleaner code and auto file close.\n",
    "\n",
    "Use .strip() while reading lines to remove \\n.\n",
    "\n",
    "Avoid w mode when you don't want to erase existing data."
   ]
  },
  {
   "cell_type": "markdown",
   "id": "04868cf0-f2af-4415-aeef-c590e699dc34",
   "metadata": {},
   "source": [
    "### Practice Programs"
   ]
  },
  {
   "cell_type": "code",
   "execution_count": 107,
   "id": "0bb762f3-7a4f-466b-aec4-a9e39de10424",
   "metadata": {},
   "outputs": [
    {
     "name": "stdin",
     "output_type": "stream",
     "text": [
      "Enter line:  hallo\n",
      "Enter line:  python\n",
      "Enter line:  learning\n"
     ]
    },
    {
     "name": "stdout",
     "output_type": "stream",
     "text": [
      "\n",
      "Your content:\n",
      "hallo\n",
      "python\n",
      "learning\n",
      "\n"
     ]
    }
   ],
   "source": [
    "#🔸 1. Write and Read Back User Input\n",
    "with open(\"notes.txt\", \"w\") as file:\n",
    "    for i in range(3):\n",
    "        line = input(\"Enter line: \")\n",
    "        file.write(line + \"\\n\")\n",
    "\n",
    "with open(\"notes.txt\", \"r\") as file:\n",
    "    print(\"\\nYour content:\")\n",
    "    print(file.read())\n"
   ]
  },
  {
   "cell_type": "code",
   "execution_count": 115,
   "id": "5a663e5f-d898-4389-b497-030992e34fc7",
   "metadata": {},
   "outputs": [
    {
     "name": "stdout",
     "output_type": "stream",
     "text": [
      "Lines: 3, Words: 3, Characters: 22\n"
     ]
    }
   ],
   "source": [
    "# 🔸 2. Count Lines, Words, Characters in a File\n",
    "# if already exists\n",
    "del sum\n",
    "\n",
    "with open(\"notes.txt\",\"r\")as file:\n",
    "    lines=file.readlines()\n",
    "count=len(lines)\n",
    "words=sum(len(line.split()) for line in lines)\n",
    "chars=sum(len(line) for line in lines)\n",
    "print(f\"Lines: {count}, Words: {words}, Characters: {chars}\")\n",
    "\n"
   ]
  },
  {
   "cell_type": "code",
   "execution_count": 116,
   "id": "b29b7fb6-c674-4bbd-9b1b-5ca41864c1c7",
   "metadata": {},
   "outputs": [
    {
     "name": "stdin",
     "output_type": "stream",
     "text": [
      "First name:  a\n",
      "Last name:  ab\n",
      "First name:  abc\n",
      "Last name:  abcd\n",
      "First name:  abcdf\n",
      "Last name:  abbcdef\n"
     ]
    }
   ],
   "source": [
    "#🔸 3. Save Names to CSV from User Input\n",
    "import csv\n",
    "\n",
    "with open(\"names.csv\", \"w\", newline=\"\") as file:\n",
    "    writer = csv.writer(file)\n",
    "    writer.writerow([\"First Name\", \"Last Name\"])\n",
    "\n",
    "    for i in range(3):\n",
    "        fn = input(\"First name: \")\n",
    "        ln = input(\"Last name: \")\n",
    "        writer.writerow([fn, ln])\n"
   ]
  },
  {
   "cell_type": "code",
   "execution_count": 117,
   "id": "19685e1d-e2e9-4e7f-b0aa-8be611fb6456",
   "metadata": {},
   "outputs": [
    {
     "name": "stdout",
     "output_type": "stream",
     "text": [
      "['First Name', 'Last Name']\n",
      "['a', 'ab']\n",
      "['abc', 'abcd']\n",
      "['abcdf', 'abbcdef']\n"
     ]
    }
   ],
   "source": [
    "#🔸 4. Read and Display CSV File\n",
    "import csv\n",
    "\n",
    "with open(\"names.csv\", \"r\") as file:\n",
    "    reader = csv.reader(file)\n",
    "    for row in reader:\n",
    "        print(row)\n",
    "\n"
   ]
  },
  {
   "cell_type": "code",
   "execution_count": 118,
   "id": "d74f4bfe-7f2b-4d3a-aa2f-f7360161daf0",
   "metadata": {},
   "outputs": [
    {
     "name": "stdout",
     "output_type": "stream",
     "text": [
      "File does not exist.\n"
     ]
    }
   ],
   "source": [
    "#🔸 5. Error-proof File Reader\n",
    "try:\n",
    "    with open(\"missing.txt\", \"r\") as f:\n",
    "        print(f.read())\n",
    "except FileNotFoundError:\n",
    "    print(\"File does not exist.\")\n"
   ]
  },
  {
   "cell_type": "markdown",
   "id": "15f6aa65-ebcc-4fc9-962f-d159a3d3f91c",
   "metadata": {},
   "source": [
    "# Task 8:"
   ]
  },
  {
   "cell_type": "markdown",
   "id": "e4f26286-e4dd-4603-9d8e-c18cf30f5549",
   "metadata": {},
   "source": [
    "\n",
    "## Error Handling :23/05/25\n",
    "\n",
    "### 🧠 Why Use Error Handling?\n",
    "Python programs crash when an unexpected error occurs (e.g., file not found, divide by zero).\n",
    "Error handling helps you:\n",
    "\n",
    "Prevent crashes\n",
    "\n",
    "Give user-friendly messages\n",
    "\n",
    "Log/debug issues\n",
    "\n",
    "Control program flow safely\n",
    "\n",
    "| Error Type          | What It Means                      |\n",
    "| ------------------- | ---------------------------------- |\n",
    "| `ZeroDivisionError` | Dividing by zero                   |\n",
    "| `ValueError`        | Invalid value (e.g., `int('abc')`) |\n",
    "| `TypeError`         | Wrong data type used               |\n",
    "| `FileNotFoundError` | File doesn’t exist                 |\n",
    "| `IndexError`        | Accessing index out of range       |\n",
    "| `KeyError`          | Accessing non-existing key in dict |\n",
    "| `NameError`         | Using undefined variable           |\n",
    "\n",
    "🔹 Basic Syntax\n",
    "```\n",
    "try:\n",
    "    # Code that might raise an error\n",
    "except SomeError:\n",
    "    # What to do if error occurs\n",
    "\n",
    "syntax:-\n",
    "try:\n",
    "    # risky code\n",
    "except ErrorType1:\n",
    "    # handle error 1\n",
    "except ErrorType2:\n",
    "    # handle error 2\n",
    "else:\n",
    "    # runs if no error\n",
    "finally:\n",
    "    # always runs\n",
    "\n"
   ]
  },
  {
   "cell_type": "code",
   "execution_count": 119,
   "id": "e0d18d36-ca1b-4fb0-ab18-29eed491839f",
   "metadata": {},
   "outputs": [
    {
     "name": "stdout",
     "output_type": "stream",
     "text": [
      "Cannot divide by zero.\n"
     ]
    }
   ],
   "source": [
    "#✅ Example 1: Divide by Zero\n",
    "try:\n",
    "    x = 5 / 0\n",
    "except ZeroDivisionError:\n",
    "    print(\"Cannot divide by zero.\")\n"
   ]
  },
  {
   "cell_type": "markdown",
   "id": "85c2c152-5e6a-47b7-b736-8f089900824c",
   "metadata": {},
   "source": [
    "#### 🔹 Multiple except Blocks\n",
    "You can handle different errors separately:"
   ]
  },
  {
   "cell_type": "code",
   "execution_count": 121,
   "id": "d7a9eda8-8ec3-4c9b-8a79-6d25f13b7baa",
   "metadata": {},
   "outputs": [
    {
     "name": "stdin",
     "output_type": "stream",
     "text": [
      "Enter number:  .\n"
     ]
    },
    {
     "name": "stdout",
     "output_type": "stream",
     "text": [
      "Please enter a valid number.\n"
     ]
    }
   ],
   "source": [
    "\n",
    "try:\n",
    "    num = int(input(\"Enter number: \"))\n",
    "    result = 10 / num\n",
    "except ZeroDivisionError:\n",
    "    print(\"Don't divide by zero.\")\n",
    "except ValueError:\n",
    "    print(\"Please enter a valid number.\")\n"
   ]
  },
  {
   "cell_type": "markdown",
   "id": "3b3728cb-209e-4d75-b964-b8705ccd5468",
   "metadata": {},
   "source": [
    "#### 🔹 Catching All Errors (Not Recommended Unless Logging)\n",
    "🧠 Exception is the base class of all built-in exceptions.\n",
    "`````\n",
    "try:\n",
    "    # some risky code\n",
    "except Exception as e:\n",
    "    print(\"Error:\", e)\n"
   ]
  },
  {
   "cell_type": "markdown",
   "id": "01bbba2e-94df-467a-8014-13ab70ac58ad",
   "metadata": {},
   "source": [
    "#### 🔹 else Block\n",
    "Runs only if no error occurred."
   ]
  },
  {
   "cell_type": "code",
   "execution_count": 122,
   "id": "996de9b7-a848-4085-93be-1ae6d83168fc",
   "metadata": {},
   "outputs": [
    {
     "name": "stdout",
     "output_type": "stream",
     "text": [
      "All okay.\n",
      "No errors!\n"
     ]
    }
   ],
   "source": [
    "\n",
    "try:\n",
    "    print(\"All okay.\")\n",
    "except:\n",
    "    print(\"Error occurred.\")\n",
    "else:\n",
    "    print(\"No errors!\")\n"
   ]
  },
  {
   "cell_type": "markdown",
   "id": "c35886db-b847-49b3-bfc0-c2d638f0cc66",
   "metadata": {},
   "source": [
    "#### 🔹 finally Block\n",
    "\n",
    "Runs no matter what — useful for cleanup like closing files, disconnecting resources."
   ]
  },
  {
   "cell_type": "code",
   "execution_count": 123,
   "id": "68c578f4-665d-4287-b606-5573c2fc930c",
   "metadata": {},
   "outputs": [
    {
     "name": "stdout",
     "output_type": "stream",
     "text": [
      "hallo python\n",
      "This line is appended.\n",
      "Log entry: success\n",
      "New line after read.\n",
      "File handling done.\n"
     ]
    }
   ],
   "source": [
    "try:\n",
    "    f = open(\"data.txt\", \"r\")\n",
    "    print(f.read())\n",
    "except FileNotFoundError:\n",
    "    print(\"File missing.\")\n",
    "finally:\n",
    "    print(\"File handling done.\")\n"
   ]
  },
  {
   "cell_type": "markdown",
   "id": "aa77672d-6add-4033-9b55-726cc2258775",
   "metadata": {},
   "source": [
    "#### 🔹 raise Statement (Manually Raise Errors)\n",
    "Useful for validations or custom exceptions."
   ]
  },
  {
   "cell_type": "code",
   "execution_count": 125,
   "id": "2ef99030-6abd-4400-920f-ac5bf5f45c64",
   "metadata": {},
   "outputs": [
    {
     "name": "stdin",
     "output_type": "stream",
     "text": [
      "Enter age:  -7\n"
     ]
    },
    {
     "ename": "ValueError",
     "evalue": "Age can't be negative.",
     "output_type": "error",
     "traceback": [
      "\u001b[1;31m---------------------------------------------------------------------------\u001b[0m",
      "\u001b[1;31mValueError\u001b[0m                                Traceback (most recent call last)",
      "Cell \u001b[1;32mIn[125], line 3\u001b[0m\n\u001b[0;32m      1\u001b[0m age \u001b[38;5;241m=\u001b[39m \u001b[38;5;28mint\u001b[39m(\u001b[38;5;28minput\u001b[39m(\u001b[38;5;124m\"\u001b[39m\u001b[38;5;124mEnter age: \u001b[39m\u001b[38;5;124m\"\u001b[39m))\n\u001b[0;32m      2\u001b[0m \u001b[38;5;28;01mif\u001b[39;00m age \u001b[38;5;241m<\u001b[39m \u001b[38;5;241m0\u001b[39m:\n\u001b[1;32m----> 3\u001b[0m     \u001b[38;5;28;01mraise\u001b[39;00m \u001b[38;5;167;01mValueError\u001b[39;00m(\u001b[38;5;124m\"\u001b[39m\u001b[38;5;124mAge can\u001b[39m\u001b[38;5;124m'\u001b[39m\u001b[38;5;124mt be negative.\u001b[39m\u001b[38;5;124m\"\u001b[39m)\n",
      "\u001b[1;31mValueError\u001b[0m: Age can't be negative."
     ]
    }
   ],
   "source": [
    "age = int(input(\"Enter age: \"))\n",
    "if age < 0:\n",
    "    raise ValueError(\"Age can't be negative.\")\n"
   ]
  },
  {
   "cell_type": "markdown",
   "id": "0d82f116-a9ef-443c-8ad5-54f0c2980019",
   "metadata": {},
   "source": [
    "#### 🔹 Define Custom Exceptions"
   ]
  },
  {
   "cell_type": "code",
   "execution_count": 126,
   "id": "bcbd7dc4-fb85-42fb-938c-78299be32ace",
   "metadata": {},
   "outputs": [
    {
     "ename": "NegativeValueError",
     "evalue": "Negative not allowed.",
     "output_type": "error",
     "traceback": [
      "\u001b[1;31m---------------------------------------------------------------------------\u001b[0m",
      "\u001b[1;31mNegativeValueError\u001b[0m                        Traceback (most recent call last)",
      "Cell \u001b[1;32mIn[126], line 6\u001b[0m\n\u001b[0;32m      4\u001b[0m x \u001b[38;5;241m=\u001b[39m \u001b[38;5;241m-\u001b[39m\u001b[38;5;241m5\u001b[39m\n\u001b[0;32m      5\u001b[0m \u001b[38;5;28;01mif\u001b[39;00m x \u001b[38;5;241m<\u001b[39m \u001b[38;5;241m0\u001b[39m:\n\u001b[1;32m----> 6\u001b[0m     \u001b[38;5;28;01mraise\u001b[39;00m NegativeValueError(\u001b[38;5;124m\"\u001b[39m\u001b[38;5;124mNegative not allowed.\u001b[39m\u001b[38;5;124m\"\u001b[39m)\n",
      "\u001b[1;31mNegativeValueError\u001b[0m: Negative not allowed."
     ]
    }
   ],
   "source": [
    "class NegativeValueError(Exception):\n",
    "    pass\n",
    "\n",
    "x = -5\n",
    "if x < 0:\n",
    "    raise NegativeValueError(\"Negative not allowed.\")\n"
   ]
  },
  {
   "cell_type": "markdown",
   "id": "027e13db-3c20-48e4-8c7d-74809b6c632a",
   "metadata": {},
   "source": [
    "#### 🧪 Practice Programs"
   ]
  },
  {
   "cell_type": "code",
   "execution_count": 128,
   "id": "baa4da0a-8996-43f6-8eab-933c3b002529",
   "metadata": {},
   "outputs": [
    {
     "name": "stdin",
     "output_type": "stream",
     "text": [
      "Enter numerator:  5\n",
      "Enter denominator:  0\n"
     ]
    },
    {
     "name": "stdout",
     "output_type": "stream",
     "text": [
      "You can't divide by zero.\n",
      "Division attempt completed.\n"
     ]
    }
   ],
   "source": [
    "#🔸 1. Robust Division\n",
    "def divide():\n",
    "    try:\n",
    "        a = int(input(\"Enter numerator: \"))\n",
    "        b = int(input(\"Enter denominator: \"))\n",
    "        result = a / b\n",
    "    except ZeroDivisionError:\n",
    "        print(\"You can't divide by zero.\")\n",
    "    except ValueError:\n",
    "        print(\"Please enter valid integers.\")\n",
    "    else:\n",
    "        print(\"Result:\", result)\n",
    "    finally:\n",
    "        print(\"Division attempt completed.\")\n",
    "\n",
    "divide()\n"
   ]
  },
  {
   "cell_type": "code",
   "execution_count": 129,
   "id": "72edbe56-146d-4d5f-8a2a-e8b5a5d65744",
   "metadata": {},
   "outputs": [
    {
     "name": "stdin",
     "output_type": "stream",
     "text": [
      "Enter file name:  6\n"
     ]
    },
    {
     "name": "stdout",
     "output_type": "stream",
     "text": [
      "File doesn't exist.\n"
     ]
    }
   ],
   "source": [
    "#🔸 2. Open a File Safely\n",
    "filename = input(\"Enter file name: \")\n",
    "\n",
    "try:\n",
    "    with open(filename, \"r\") as file:\n",
    "        print(file.read())\n",
    "except FileNotFoundError:\n",
    "    print(\"File doesn't exist.\")\n",
    "except Exception as e:\n",
    "    print(\"Unknown error:\", e)\n"
   ]
  },
  {
   "cell_type": "code",
   "execution_count": 131,
   "id": "267291be-8b9f-4178-8ac1-4821388aff66",
   "metadata": {},
   "outputs": [
    {
     "name": "stdin",
     "output_type": "stream",
     "text": [
      "Enter your name:  \n"
     ]
    },
    {
     "name": "stdout",
     "output_type": "stream",
     "text": [
      "Input error: Name can't be empty.\n"
     ]
    }
   ],
   "source": [
    "#🔸 3. Raise Error for Empty Name\n",
    "def get_name():\n",
    "    name = input(\"Enter your name: \")\n",
    "    if name.strip() == \"\":\n",
    "        raise ValueError(\"Name can't be empty.\")\n",
    "    print(\"Welcome,\", name)\n",
    "\n",
    "try:\n",
    "    get_name()\n",
    "except ValueError as e:\n",
    "    print(\"Input error:\", e)\n"
   ]
  },
  {
   "cell_type": "markdown",
   "id": "864ec622-bcdd-459e-a3cd-fdd75b712681",
   "metadata": {},
   "source": [
    "##### 💡 Tips\n",
    "Use specific except blocks first, then general.\n",
    "\n",
    "Always test finally to ensure resources (like files or DBs) close.\n",
    "\n",
    "Log actual exceptions (print(e)) for debugging.\n",
    "\n",
    "Use raise when validating user inputs or enforcing logic rules."
   ]
  },
  {
   "cell_type": "markdown",
   "id": "7432df0e-8db6-468f-b29b-31d87a0339a7",
   "metadata": {},
   "source": [
    "## 🧪 **Phase 1 Skill Assessment Programs**\n",
    "\n",
    "### 🔹 **Beginner-Level**\n",
    "\n",
    "1. **Even or Odd Checker**\n",
    "\n",
    "   * Take a number as input and print whether it’s even or odd.\n",
    "\n",
    "2. **Simple Calculator**\n",
    "\n",
    "   * Use `if-elif-else` to perform +, -, \\*, /, %, and \\*\\* operations between two numbers.\n",
    "\n",
    "3. **Grading System**\n",
    "\n",
    "   * Input a percentage and return the grade (A/B/C/D/Fail).\n",
    "\n",
    "4. **Multiplication Table Generator**\n",
    "\n",
    "   * Input a number and print its multiplication table up to 10 or 20.\n",
    "\n",
    "5. **Find the Largest of Three Numbers**\n",
    "\n",
    "   * Use `if` statements to compare three inputs and print the largest.\n",
    "\n",
    "---\n",
    "\n",
    "### 🔹 **Intermediate-Level**\n",
    "\n",
    "6. **Palindrome Checker**\n",
    "\n",
    "   * Check if an input string is a palindrome (same forward and backward).\n",
    "\n",
    "7. **Count Vowels, Consonants, Words, and Characters in a Sentence**\n",
    "\n",
    "   * Analyze an input sentence and count each element.\n",
    "\n",
    "8. **Fibonacci Series Generator**\n",
    "\n",
    "   * Generate the first `n` terms of the Fibonacci sequence using loops.\n",
    "\n",
    "9. **Factorial Calculator using Recursion**\n",
    "\n",
    "   * Write a function that returns the factorial of a number using recursion.\n",
    "\n",
    "10. **Student Marksheet Program (Using Dictionary)**\n",
    "\n",
    "* Add students and marks, update, delete, and print report cards using dictionary operations.\n",
    "\n",
    "---\n",
    "\n",
    "### 🔹 **File Handling Based**\n",
    "\n",
    "11. **File Word Counter**\n",
    "\n",
    "* Read a `.txt` file and count:\n",
    "\n",
    "  * Number of lines\n",
    "  * Words\n",
    "  * Characters\n",
    "\n",
    "12. **Save Notes to File**\n",
    "\n",
    "* Ask the user to input notes line by line and save them into a file.\n",
    "\n",
    "13. **Append Daily Logs**\n",
    "\n",
    "* Create a file that appends daily logs to a file with timestamps.\n",
    "\n",
    "---\n",
    "\n",
    "### 🔹 **Error Handling Focused**\n",
    "\n",
    "14. **Safe Division Calculator**\n",
    "\n",
    "* Accept two numbers and divide them. Handle errors like division by zero and invalid input.\n",
    "\n",
    "15. **File Reader with Error Handling**\n",
    "\n",
    "* Try opening a file and display a custom message if the file doesn’t exist.\n",
    "\n",
    "---\n",
    "\n",
    "### 🧠 **Mini Projects (All-in-One)**\n",
    "\n",
    "16. **Contact Book (Dictionary + File)**\n",
    "\n",
    "* Add, update, delete contacts (name, phone number).\n",
    "* Save and load from a file.\n",
    "* Search contact by name.\n",
    "\n",
    "17. **To-Do List Manager**\n",
    "\n",
    "* Add, view, and remove tasks from a to-do list stored in a text file.\n",
    "\n",
    "18. **Quiz Game**\n",
    "\n",
    "* Ask the user multiple-choice questions and calculate the score.\n",
    "* Use functions, loops, and conditionals.\n",
    "\n",
    "19. **Simple ATM Simulation**\n",
    "\n",
    "* Simulate login, balance check, deposit, withdraw (use functions and conditionals).\n",
    "\n",
    "20. **Text-Based Adventure Game**\n",
    "\n",
    "* Use conditions, loops, and user choices to simulate a game flow.\n",
    "\n",
    "\n"
   ]
  },
  {
   "cell_type": "code",
   "execution_count": null,
   "id": "4e60771d-10d1-486b-9169-a6357dbf05f6",
   "metadata": {},
   "outputs": [],
   "source": []
  }
 ],
 "metadata": {
  "kernelspec": {
   "display_name": "Python 3 (ipykernel)",
   "language": "python",
   "name": "python3"
  },
  "language_info": {
   "codemirror_mode": {
    "name": "ipython",
    "version": 3
   },
   "file_extension": ".py",
   "mimetype": "text/x-python",
   "name": "python",
   "nbconvert_exporter": "python",
   "pygments_lexer": "ipython3",
   "version": "3.12.7"
  }
 },
 "nbformat": 4,
 "nbformat_minor": 5
}
