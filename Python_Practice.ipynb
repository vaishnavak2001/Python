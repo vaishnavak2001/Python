{
 "cells": [
  {
   "cell_type": "markdown",
   "id": "32328d1e",
   "metadata": {},
   "source": [
    "# python using jupyter notes"
   ]
  },
  {
   "cell_type": "markdown",
   "id": "107dfe71",
   "metadata": {},
   "source": [
    "### jupyter cell commands :-"
   ]
  },
  {
   "cell_type": "markdown",
   "id": "125d6fad",
   "metadata": {},
   "source": [
    "shift + enter -- to excute a cell"
   ]
  },
  {
   "cell_type": "markdown",
   "id": "b68ef94a",
   "metadata": {},
   "source": [
    "esc+y -- to change into code line \\\n",
    "esc+m -- to chnage into markdown line\\\n",
    "esc+r -- to chnage into raw NBconvert "
   ]
  },
  {
   "cell_type": "markdown",
   "id": "6d528c9b",
   "metadata": {},
   "source": [
    "esc + a -- to get new cell above the current cell\\\n",
    "esc + b -- to get new cell below the current cell\\\n",
    "\\\n",
    "\\\n",
    "esc + c -- to create a copy of current cell\\\n",
    "esc + x -- to cut a cell\\\n",
    "\\\n",
    "\\\n",
    "esc + dd -- to delete a cell\\\n",
    "esc + z --undo deleted cell\\\n",
    "\\\n",
    "esc + c ,esc + b --- copy and paste cell below current cell\n",
    "\\\n",
    "\\\n",
    "esc + o -- if we want to hide the output \n"
   ]
  },
  {
   "cell_type": "markdown",
   "id": "770a910e",
   "metadata": {},
   "source": [
    "#### python keywords :- "
   ]
  },
  {
   "cell_type": "markdown",
   "id": "31ad4052",
   "metadata": {},
   "source": [
    "predefined and preserved words"
   ]
  },
  {
   "cell_type": "markdown",
   "id": "b8645703",
   "metadata": {},
   "source": [
    "first we have to import the build in module\n"
   ]
  },
  {
   "cell_type": "code",
   "execution_count": 1,
   "id": "fda3706c",
   "metadata": {},
   "outputs": [],
   "source": [
    "import keyword"
   ]
  },
  {
   "cell_type": "markdown",
   "id": "70c7cfaf",
   "metadata": {},
   "source": [
    "we have to use attribute-- kwlist to print keyword"
   ]
  },
  {
   "cell_type": "code",
   "execution_count": 2,
   "id": "93d389d7",
   "metadata": {},
   "outputs": [
    {
     "name": "stdout",
     "output_type": "stream",
     "text": [
      "['False', 'None', 'True', 'and', 'as', 'assert', 'async', 'await', 'break', 'class', 'continue', 'def', 'del', 'elif', 'else', 'except', 'finally', 'for', 'from', 'global', 'if', 'import', 'in', 'is', 'lambda', 'nonlocal', 'not', 'or', 'pass', 'raise', 'return', 'try', 'while', 'with', 'yield']\n"
     ]
    }
   ],
   "source": [
    "print(keyword.kwlist)"
   ]
  },
  {
   "cell_type": "code",
   "execution_count": 3,
   "id": "afbdce7c",
   "metadata": {},
   "outputs": [
    {
     "data": {
      "text/plain": [
       "35"
      ]
     },
     "execution_count": 3,
     "metadata": {},
     "output_type": "execute_result"
    }
   ],
   "source": [
    "len(keyword.kwlist)"
   ]
  },
  {
   "cell_type": "markdown",
   "id": "6c4b0806",
   "metadata": {},
   "source": [
    "#### python identifiers :-"
   ]
  },
  {
   "cell_type": "markdown",
   "id": "f1bf6d01",
   "metadata": {},
   "source": [
    "rules:-\\\n",
    "we cannot use numbers at starting of name function,variable ..\\\n",
    "we cannot use any special character expect underscore (_)\\\n",
    "we cannot use keywords for naming \n"
   ]
  },
  {
   "cell_type": "markdown",
   "id": "4f39f797",
   "metadata": {},
   "source": [
    "#### python comments :-\n"
   ]
  },
  {
   "cell_type": "markdown",
   "id": "b1df50df",
   "metadata": {},
   "source": [
    "use # to in single line comments\\\n",
    "use ''' or \"\"\" to multiple line comments\\\n",
    "use \\ to break line or carry on in next line without error"
   ]
  },
  {
   "cell_type": "code",
   "execution_count": 4,
   "id": "56033dd9",
   "metadata": {},
   "outputs": [
    {
     "name": "stdout",
     "output_type": "stream",
     "text": [
      "hi\n"
     ]
    }
   ],
   "source": [
    "\"\"\"\n",
    "print(\"hallo\")\n",
    "\"\"\"\n",
    "\\\n",
    "'''\n",
    "whatever wrote here cannot effect program\n",
    "'''\n",
    "print(\"hi\")  #hallo\n"
   ]
  },
  {
   "cell_type": "markdown",
   "id": "c2402335",
   "metadata": {},
   "source": [
    "#### python statements:-"
   ]
  },
  {
   "cell_type": "markdown",
   "id": "2c918a74",
   "metadata": {},
   "source": [
    "print statements, Assignment statements, Conditional statements, Looping statements."
   ]
  },
  {
   "cell_type": "code",
   "execution_count": 5,
   "id": "ec9e92f0",
   "metadata": {},
   "outputs": [
    {
     "name": "stdout",
     "output_type": "stream",
     "text": [
      "Area of rectangle: 50\n"
     ]
    }
   ],
   "source": [
    "# two assignment statements in a single\n",
    "l = 10; b = 5\n",
    "\n",
    "# print statement \n",
    "print('Area of rectangle:', l * b)\n"
   ]
  },
  {
   "cell_type": "markdown",
   "id": "eb26fe88",
   "metadata": {},
   "source": [
    "return statement:   we can return a value from a function when called\\\n",
    "del statement:      is used to delete objects/variables\\\n",
    "import statement:   is used to import modules\\\n",
    "break Statement:    The break statement is used inside the loop to exit out of the loop.\\\n",
    "continue Statement: The continue statement skip the current iteration and move to the next iteration."
   ]
  },
  {
   "cell_type": "markdown",
   "id": "8a1b4f77",
   "metadata": {},
   "source": [
    "looping statements:- \\\n",
    "\\\n",
    "if statement: It is a control flow statement that will execute statements under it if the condition is true. Also kown as a conditional statement.\\\n",
    "\\\n",
    "while statements: The while loop statement repeatedly executes a code block while a particular condition is true.\\\n",
    "for statement: Using for loop statement, we can iterate any sequence or iterable variable. The sequence can be string, list, dictionary, set, or tuple.\\\n",
    "\\\n",
    "try statement: specifies exception handlers.\\\n",
    "\\\n",
    "with statement: Used to cleanup code for a group of statements, while the with statement allows the execution of initialization and finalization code around a block of code."
   ]
  },
  {
   "cell_type": "markdown",
   "id": "da788757",
   "metadata": {},
   "source": [
    "#### python variable :-"
   ]
  },
  {
   "cell_type": "markdown",
   "id": "65aa731c",
   "metadata": {},
   "source": [
    "a value is stored in variable when we assign a value to variable \\\n",
    "every variable have some unique identification adddress"
   ]
  },
  {
   "cell_type": "markdown",
   "id": "435cb72b",
   "metadata": {},
   "source": [
    "use id(variable_name) -- to get the identification address"
   ]
  },
  {
   "cell_type": "code",
   "execution_count": 6,
   "id": "d370f7f8",
   "metadata": {},
   "outputs": [
    {
     "name": "stdout",
     "output_type": "stream",
     "text": [
      "2\n",
      "string variable\n",
      "True\n",
      "140732947731240\n",
      "140732947731240\n",
      "140732947731272\n",
      "2141291651888\n",
      "140732946262560\n"
     ]
    }
   ],
   "source": [
    "a=1\n",
    "b=1\n",
    "c=a+b\n",
    "d = \"string variable\"\n",
    "e = True #use True never true\n",
    "print(c)\n",
    "print(d)\n",
    "print(e)\n",
    "print (id(a))\n",
    "print (id(b))\n",
    "print (id(c))\n",
    "print (id(d))\n",
    "print (id(e))\n"
   ]
  },
  {
   "cell_type": "code",
   "execution_count": 7,
   "id": "0cb1707c",
   "metadata": {},
   "outputs": [
    {
     "name": "stdout",
     "output_type": "stream",
     "text": [
      "2\n",
      "266\n",
      "2.11\n",
      "string\n"
     ]
    }
   ],
   "source": [
    "\n",
    "a ,b, c ,d = 2,266,2.11,\"string\"\n",
    "print(a)\n",
    "print(b)\n",
    "print(c)\n",
    "print(d)"
   ]
  },
  {
   "cell_type": "markdown",
   "id": "8a009108",
   "metadata": {},
   "source": [
    "#### datatypes:-\n"
   ]
  },
  {
   "cell_type": "markdown",
   "id": "30324b95",
   "metadata": {},
   "source": [
    "integers,float,boolean,string,complex"
   ]
  },
  {
   "cell_type": "markdown",
   "id": "4ab08cbc",
   "metadata": {},
   "source": [
    "type(variable_name) -- to get type of variable\\\n",
    "getsizeof(variable_name) -- to get size of variable \\\n",
    "NOTE:- to use getsiseof we have to \\\n",
    "\\import sys"
   ]
  },
  {
   "cell_type": "code",
   "execution_count": 8,
   "id": "30d8b1c1",
   "metadata": {},
   "outputs": [
    {
     "name": "stdout",
     "output_type": "stream",
     "text": [
      "10\n",
      "<class 'int'>\n",
      "28\n",
      "10 is float? False\n",
      "10 is complex? False\n"
     ]
    }
   ],
   "source": [
    "import sys #IMP\n",
    "val1=10\n",
    "print(val1)\n",
    "print(type (val1))\n",
    "print(sys.getsizeof(val1))\n",
    "print(val1, \"is float?\",isinstance(val1,float))\n",
    "print(val1, \"is complex?\",isinstance(val1,complex))"
   ]
  },
  {
   "cell_type": "code",
   "execution_count": 9,
   "id": "76ba39c6",
   "metadata": {},
   "outputs": [
    {
     "name": "stdout",
     "output_type": "stream",
     "text": [
      "10.11\n",
      "<class 'float'>\n",
      "24\n",
      "10 is float? True\n",
      "10 is complex? False\n"
     ]
    }
   ],
   "source": [
    "val2=10.11\n",
    "print(val2)\n",
    "print(type (val2))\n",
    "print(sys.getsizeof(val2))\n",
    "print(val1, \"is float?\",isinstance(val2,float))\n",
    "print(val1, \"is complex?\",isinstance(val2,complex))"
   ]
  },
  {
   "cell_type": "markdown",
   "id": "da7c4b3a",
   "metadata": {},
   "source": [
    "day 2:-"
   ]
  },
  {
   "cell_type": "code",
   "execution_count": 10,
   "id": "b784b6d3",
   "metadata": {},
   "outputs": [
    {
     "name": "stdout",
     "output_type": "stream",
     "text": [
      "(1+2j)\n",
      "<class 'complex'>\n",
      "32\n",
      "10 is float? False\n",
      "10 is complex? True\n"
     ]
    }
   ],
   "source": [
    "val3= 1 + 2j\n",
    "print(val3)\n",
    "print(type (val3))\n",
    "print(sys.getsizeof(val3))\n",
    "print(val1, \"is float?\",isinstance(val3,float))\n",
    "print(val1, \"is complex?\",isinstance(val3,complex))"
   ]
  },
  {
   "cell_type": "code",
   "execution_count": 11,
   "id": "35eb8574",
   "metadata": {},
   "outputs": [],
   "source": [
    "b1=True # use capital T,True means 1"
   ]
  },
  {
   "cell_type": "code",
   "execution_count": 12,
   "id": "bca92e13",
   "metadata": {},
   "outputs": [],
   "source": [
    "b2=False #use capital F"
   ]
  },
  {
   "cell_type": "code",
   "execution_count": 13,
   "id": "618ac9b8",
   "metadata": {},
   "outputs": [
    {
     "data": {
      "text/plain": [
       "bool"
      ]
     },
     "execution_count": 13,
     "metadata": {},
     "output_type": "execute_result"
    }
   ],
   "source": [
    "type(b1)"
   ]
  },
  {
   "cell_type": "code",
   "execution_count": 14,
   "id": "b89c7b94",
   "metadata": {},
   "outputs": [
    {
     "data": {
      "text/plain": [
       "True"
      ]
     },
     "execution_count": 14,
     "metadata": {},
     "output_type": "execute_result"
    }
   ],
   "source": [
    "isinstance(b1,int) #bcz True means 1"
   ]
  },
  {
   "cell_type": "code",
   "execution_count": 15,
   "id": "7578ebcf",
   "metadata": {},
   "outputs": [
    {
     "data": {
      "text/plain": [
       "False"
      ]
     },
     "execution_count": 15,
     "metadata": {},
     "output_type": "execute_result"
    }
   ],
   "source": [
    "isinstance(b1,float)"
   ]
  },
  {
   "cell_type": "code",
   "execution_count": 16,
   "id": "4a8d3859",
   "metadata": {},
   "outputs": [
    {
     "data": {
      "text/plain": [
       "False"
      ]
     },
     "execution_count": 16,
     "metadata": {},
     "output_type": "execute_result"
    }
   ],
   "source": [
    "isinstance(b1,str)"
   ]
  },
  {
   "cell_type": "code",
   "execution_count": 17,
   "id": "569142a6",
   "metadata": {},
   "outputs": [
    {
     "data": {
      "text/plain": [
       "True"
      ]
     },
     "execution_count": 17,
     "metadata": {},
     "output_type": "execute_result"
    }
   ],
   "source": [
    "isinstance(b1,bool)"
   ]
  },
  {
   "cell_type": "code",
   "execution_count": 18,
   "id": "1154915d",
   "metadata": {},
   "outputs": [],
   "source": [
    "a = \"True\""
   ]
  },
  {
   "cell_type": "code",
   "execution_count": 19,
   "id": "fe06e29e",
   "metadata": {},
   "outputs": [
    {
     "data": {
      "text/plain": [
       "str"
      ]
     },
     "execution_count": 19,
     "metadata": {},
     "output_type": "execute_result"
    }
   ],
   "source": [
    "type(a)"
   ]
  },
  {
   "cell_type": "code",
   "execution_count": 20,
   "id": "064f9414",
   "metadata": {},
   "outputs": [
    {
     "name": "stdout",
     "output_type": "stream",
     "text": [
      "True\n"
     ]
    }
   ],
   "source": [
    "print(a)"
   ]
  },
  {
   "cell_type": "code",
   "execution_count": 21,
   "id": "153bb084",
   "metadata": {},
   "outputs": [
    {
     "data": {
      "text/plain": [
       "4"
      ]
     },
     "execution_count": 21,
     "metadata": {},
     "output_type": "execute_result"
    }
   ],
   "source": [
    "len(a)"
   ]
  },
  {
   "cell_type": "markdown",
   "id": "20e5824b",
   "metadata": {},
   "source": [
    "string indexing:-\\\n",
    "\\\n",
    "string is a collection of elements\\\n",
    "\n",
    "\\\n"
   ]
  },
  {
   "cell_type": "markdown",
   "id": "8c2e1aaa",
   "metadata": {},
   "source": [
    "str1=\"ABC\"\n",
    "positive index:-str1[ABC] where str1[0]=A,str1[1]=B.str1[2]=c "
   ]
  },
  {
   "cell_type": "code",
   "execution_count": 22,
   "id": "30318b2d",
   "metadata": {},
   "outputs": [],
   "source": [
    "str1 = \"ABC\""
   ]
  },
  {
   "cell_type": "code",
   "execution_count": 23,
   "id": "12a16b69",
   "metadata": {},
   "outputs": [
    {
     "name": "stdout",
     "output_type": "stream",
     "text": [
      "A\n"
     ]
    }
   ],
   "source": [
    "print(str1[0])"
   ]
  },
  {
   "cell_type": "code",
   "execution_count": 24,
   "id": "7d119a49",
   "metadata": {},
   "outputs": [
    {
     "name": "stdout",
     "output_type": "stream",
     "text": [
      "B\n"
     ]
    }
   ],
   "source": [
    "print(str1[1])"
   ]
  },
  {
   "cell_type": "code",
   "execution_count": 25,
   "id": "589605b4",
   "metadata": {},
   "outputs": [
    {
     "name": "stdout",
     "output_type": "stream",
     "text": [
      "C\n"
     ]
    }
   ],
   "source": [
    "print(str1[2])"
   ]
  },
  {
   "cell_type": "code",
   "execution_count": 26,
   "id": "ce8641b2",
   "metadata": {},
   "outputs": [
    {
     "name": "stdout",
     "output_type": "stream",
     "text": [
      "BC\n"
     ]
    }
   ],
   "source": [
    "print(str1[1:3])"
   ]
  },
  {
   "cell_type": "code",
   "execution_count": 27,
   "id": "395080cf",
   "metadata": {},
   "outputs": [
    {
     "name": "stdout",
     "output_type": "stream",
     "text": [
      "ABC\n"
     ]
    }
   ],
   "source": [
    "print(str1[:3])"
   ]
  },
  {
   "cell_type": "code",
   "execution_count": 28,
   "id": "06ccadb5",
   "metadata": {},
   "outputs": [
    {
     "name": "stdout",
     "output_type": "stream",
     "text": [
      "BC\n"
     ]
    }
   ],
   "source": [
    "print(str1[1:])"
   ]
  },
  {
   "cell_type": "code",
   "execution_count": 29,
   "id": "b1e58d2f",
   "metadata": {},
   "outputs": [
    {
     "name": "stdout",
     "output_type": "stream",
     "text": [
      "ABC\n"
     ]
    }
   ],
   "source": [
    "print(str1[:])"
   ]
  },
  {
   "cell_type": "markdown",
   "id": "aa14a6da",
   "metadata": {},
   "source": [
    "negative index:-\"ABC\" where str1[-3]=A, str1[12]=B, str1[-1]=C"
   ]
  },
  {
   "cell_type": "code",
   "execution_count": 30,
   "id": "29b9bba6",
   "metadata": {},
   "outputs": [
    {
     "name": "stdout",
     "output_type": "stream",
     "text": [
      "C\n"
     ]
    }
   ],
   "source": [
    "print(str1[-1])"
   ]
  },
  {
   "cell_type": "code",
   "execution_count": 31,
   "id": "702effcb",
   "metadata": {},
   "outputs": [
    {
     "name": "stdout",
     "output_type": "stream",
     "text": [
      "AB\n"
     ]
    }
   ],
   "source": [
    "print(str1[-3:-1])"
   ]
  },
  {
   "cell_type": "code",
   "execution_count": 32,
   "id": "ec6b393f",
   "metadata": {},
   "outputs": [
    {
     "name": "stdout",
     "output_type": "stream",
     "text": [
      "B\n"
     ]
    }
   ],
   "source": [
    "print(str1[-2:-1])"
   ]
  },
  {
   "cell_type": "code",
   "execution_count": 33,
   "id": "4939dc16",
   "metadata": {},
   "outputs": [
    {
     "name": "stdout",
     "output_type": "stream",
     "text": [
      "ABC\n"
     ]
    }
   ],
   "source": [
    "print(str1[-3:])"
   ]
  },
  {
   "cell_type": "code",
   "execution_count": 34,
   "id": "ae56dd80",
   "metadata": {},
   "outputs": [
    {
     "name": "stdout",
     "output_type": "stream",
     "text": [
      "AB\n"
     ]
    }
   ],
   "source": [
    "print(str1[:-1])"
   ]
  },
  {
   "cell_type": "code",
   "execution_count": 35,
   "id": "a8f2b89d",
   "metadata": {},
   "outputs": [
    {
     "name": "stdout",
     "output_type": "stream",
     "text": [
      "B A\n"
     ]
    }
   ],
   "source": [
    "print(str1[-2],str1[-3])"
   ]
  },
  {
   "cell_type": "code",
   "execution_count": 36,
   "id": "712291ce",
   "metadata": {},
   "outputs": [
    {
     "name": "stdout",
     "output_type": "stream",
     "text": [
      "A AB ABC A\n"
     ]
    }
   ],
   "source": [
    "print(str1[-3],str1[-3:-1],str1[-3:],str1[:-2])"
   ]
  },
  {
   "cell_type": "markdown",
   "id": "37e81334",
   "metadata": {},
   "source": [
    "slicing :- [starting element:ending element],or [starting element:ending element:step]\n"
   ]
  },
  {
   "cell_type": "code",
   "execution_count": 37,
   "id": "d092e1d8",
   "metadata": {},
   "outputs": [],
   "source": [
    "str2=\"ABCD  EFG\""
   ]
  },
  {
   "cell_type": "markdown",
   "id": "16c0c105",
   "metadata": {},
   "source": [
    "str2=\"ABCD  EFG\" \\\n",
    "where str2[0]=A,str2[1]=B,str2[2]=C ,str2[3]=D ,str1[4]= ,str2[5]= ,str1[6]=E,str=[7]=F,str2[8]=G \\\n",
    "str2[-1]=G,str2[-2]=F ,str2[-3]=E ,str1[-4]= ,str2[-5]= ,str2[-6]=D,str=[-7]=C,str2[-8]=B ,str2[-9]=A\n"
   ]
  },
  {
   "cell_type": "code",
   "execution_count": 38,
   "id": "f3f36080",
   "metadata": {},
   "outputs": [
    {
     "name": "stdout",
     "output_type": "stream",
     "text": [
      "9\n"
     ]
    }
   ],
   "source": [
    "print(len(str2))"
   ]
  },
  {
   "cell_type": "code",
   "execution_count": 39,
   "id": "cad393e4",
   "metadata": {},
   "outputs": [
    {
     "name": "stdout",
     "output_type": "stream",
     "text": [
      "AC EG\n"
     ]
    }
   ],
   "source": [
    "print(str2[0:9:2])"
   ]
  },
  {
   "cell_type": "code",
   "execution_count": 40,
   "id": "61bb4bf2",
   "metadata": {},
   "outputs": [
    {
     "name": "stdout",
     "output_type": "stream",
     "text": [
      "GFE  DCBA\n"
     ]
    }
   ],
   "source": [
    "print(str2[-1::-1])"
   ]
  },
  {
   "cell_type": "code",
   "execution_count": 41,
   "id": "44148dde",
   "metadata": {},
   "outputs": [
    {
     "name": "stdout",
     "output_type": "stream",
     "text": [
      "ABCD  EFG\n"
     ]
    }
   ],
   "source": [
    "print(str2[-9::1])"
   ]
  },
  {
   "cell_type": "code",
   "execution_count": 42,
   "id": "1cf4aee9",
   "metadata": {},
   "outputs": [],
   "source": [
    "str3=\"data is new fuel\""
   ]
  },
  {
   "cell_type": "code",
   "execution_count": 43,
   "id": "a360fe85",
   "metadata": {},
   "outputs": [
    {
     "name": "stdout",
     "output_type": "stream",
     "text": [
      " new data\n"
     ]
    }
   ],
   "source": [
    "print(str3[7:11],str3[0:4])"
   ]
  },
  {
   "cell_type": "markdown",
   "id": "36edac96",
   "metadata": {},
   "source": [
    "Update & delete string"
   ]
  },
  {
   "cell_type": "code",
   "execution_count": 44,
   "id": "6635ed9b",
   "metadata": {},
   "outputs": [],
   "source": [
    "str4=\"ABC\""
   ]
  },
  {
   "cell_type": "code",
   "execution_count": 45,
   "id": "ac04df34",
   "metadata": {},
   "outputs": [
    {
     "name": "stdout",
     "output_type": "stream",
     "text": [
      "ABC\n"
     ]
    }
   ],
   "source": [
    "print(str4)"
   ]
  },
  {
   "cell_type": "code",
   "execution_count": 46,
   "id": "ca4d5c96",
   "metadata": {},
   "outputs": [],
   "source": [
    "# str1[0:]='abc' #  we cannot replace/immuttable string but we can assign a new value to string"
   ]
  },
  {
   "cell_type": "code",
   "execution_count": 47,
   "id": "bdae0984",
   "metadata": {},
   "outputs": [],
   "source": [
    "str5= str4.replace('A','Z')"
   ]
  },
  {
   "cell_type": "code",
   "execution_count": 48,
   "id": "150980d6",
   "metadata": {},
   "outputs": [
    {
     "name": "stdout",
     "output_type": "stream",
     "text": [
      "ZBC\n"
     ]
    }
   ],
   "source": [
    "print(str5) #here we are replace a string to new string"
   ]
  },
  {
   "cell_type": "code",
   "execution_count": 49,
   "id": "96a3f3c4",
   "metadata": {},
   "outputs": [
    {
     "name": "stdout",
     "output_type": "stream",
     "text": [
      "ABC\n"
     ]
    }
   ],
   "source": [
    "print(str4)"
   ]
  },
  {
   "cell_type": "code",
   "execution_count": 50,
   "id": "a14713cf",
   "metadata": {},
   "outputs": [
    {
     "data": {
      "text/plain": [
       "5"
      ]
     },
     "execution_count": 50,
     "metadata": {},
     "output_type": "execute_result"
    }
   ],
   "source": [
    "a=5\n",
    "a"
   ]
  },
  {
   "cell_type": "code",
   "execution_count": 51,
   "id": "2849c99b",
   "metadata": {},
   "outputs": [],
   "source": [
    "a = 'abc'"
   ]
  },
  {
   "cell_type": "code",
   "execution_count": 52,
   "id": "52192b11",
   "metadata": {},
   "outputs": [],
   "source": [
    "a = a.replace('a','z') # here we are assign a new value to a"
   ]
  },
  {
   "cell_type": "code",
   "execution_count": 53,
   "id": "bdc1ada8",
   "metadata": {},
   "outputs": [
    {
     "name": "stdout",
     "output_type": "stream",
     "text": [
      "zbc\n"
     ]
    }
   ],
   "source": [
    "print(a)"
   ]
  },
  {
   "cell_type": "code",
   "execution_count": 54,
   "id": "53ae953d",
   "metadata": {},
   "outputs": [
    {
     "data": {
      "text/plain": [
       "'datascience'"
      ]
     },
     "execution_count": 54,
     "metadata": {},
     "output_type": "execute_result"
    }
   ],
   "source": [
    "'data'+'science'"
   ]
  },
  {
   "cell_type": "code",
   "execution_count": 55,
   "id": "5a72d28a",
   "metadata": {},
   "outputs": [
    {
     "data": {
      "text/plain": [
       "3"
      ]
     },
     "execution_count": 55,
     "metadata": {},
     "output_type": "execute_result"
    }
   ],
   "source": [
    "1+2"
   ]
  },
  {
   "cell_type": "code",
   "execution_count": 56,
   "id": "0fdbdbeb",
   "metadata": {},
   "outputs": [
    {
     "data": {
      "text/plain": [
       "'12'"
      ]
     },
     "execution_count": 56,
     "metadata": {},
     "output_type": "execute_result"
    }
   ],
   "source": [
    "'1'+'2'"
   ]
  },
  {
   "cell_type": "code",
   "execution_count": 57,
   "id": "17257492",
   "metadata": {},
   "outputs": [],
   "source": [
    "s1='data'\n",
    "s2='science'\n",
    "s3=s1+s2"
   ]
  },
  {
   "cell_type": "code",
   "execution_count": 58,
   "id": "c1624b7c",
   "metadata": {},
   "outputs": [
    {
     "data": {
      "text/plain": [
       "'datascience'"
      ]
     },
     "execution_count": 58,
     "metadata": {},
     "output_type": "execute_result"
    }
   ],
   "source": [
    "s3"
   ]
  },
  {
   "cell_type": "code",
   "execution_count": 59,
   "id": "693de5b9",
   "metadata": {},
   "outputs": [],
   "source": [
    "s1='data'\n",
    "s2='science'\n",
    "s3=s1+' ' +s2+ \" team\""
   ]
  },
  {
   "cell_type": "code",
   "execution_count": 60,
   "id": "2664c6a5",
   "metadata": {},
   "outputs": [
    {
     "data": {
      "text/plain": [
       "'data science team'"
      ]
     },
     "execution_count": 60,
     "metadata": {},
     "output_type": "execute_result"
    }
   ],
   "source": [
    "s3"
   ]
  },
  {
   "cell_type": "markdown",
   "id": "adfffbde",
   "metadata": {},
   "source": [
    "%who :- is used to show the variables created"
   ]
  },
  {
   "cell_type": "code",
   "execution_count": 61,
   "id": "6aae38bf",
   "metadata": {},
   "outputs": [
    {
     "name": "stdout",
     "output_type": "stream",
     "text": [
      "a\t b\t b1\t b2\t c\t d\t e\t keyword\t l\t \n",
      "s1\t s2\t s3\t str1\t str2\t str3\t str4\t str5\t sys\t \n",
      "val1\t val2\t val3\t \n"
     ]
    }
   ],
   "source": [
    "%who"
   ]
  },
  {
   "cell_type": "code",
   "execution_count": 62,
   "id": "efb11801",
   "metadata": {},
   "outputs": [
    {
     "data": {
      "text/plain": [
       "True"
      ]
     },
     "execution_count": 62,
     "metadata": {},
     "output_type": "execute_result"
    }
   ],
   "source": [
    "'data'in s3 #in is used check "
   ]
  },
  {
   "cell_type": "code",
   "execution_count": 63,
   "id": "9b47531c",
   "metadata": {},
   "outputs": [
    {
     "data": {
      "text/plain": [
       "False"
      ]
     },
     "execution_count": 63,
     "metadata": {},
     "output_type": "execute_result"
    }
   ],
   "source": [
    "'Data'in s3 #case sensitive"
   ]
  },
  {
   "cell_type": "markdown",
   "id": "1381c6cc",
   "metadata": {},
   "source": [
    "day 3:-\n"
   ]
  },
  {
   "cell_type": "markdown",
   "id": "05f77c46",
   "metadata": {},
   "source": [
    "#### string functions"
   ]
  },
  {
   "cell_type": "markdown",
   "id": "3c90645e",
   "metadata": {},
   "source": [
    "string partition:- search for a specific element and splits into 3 elemnts or parts\n"
   ]
  },
  {
   "cell_type": "code",
   "execution_count": 64,
   "id": "e1cfa39d",
   "metadata": {},
   "outputs": [],
   "source": [
    "sentence=\"first element second element third element\"\n"
   ]
  },
  {
   "cell_type": "code",
   "execution_count": 65,
   "id": "b9f4a1aa",
   "metadata": {},
   "outputs": [],
   "source": [
    "L=sentence.partition('second element')"
   ]
  },
  {
   "cell_type": "code",
   "execution_count": 66,
   "id": "1a607673",
   "metadata": {},
   "outputs": [
    {
     "data": {
      "text/plain": [
       "('first element ', 'second element', ' third element')"
      ]
     },
     "execution_count": 66,
     "metadata": {},
     "output_type": "execute_result"
    }
   ],
   "source": [
    "L"
   ]
  },
  {
   "cell_type": "code",
   "execution_count": 67,
   "id": "a27ac482",
   "metadata": {},
   "outputs": [
    {
     "data": {
      "text/plain": [
       "tuple"
      ]
     },
     "execution_count": 67,
     "metadata": {},
     "output_type": "execute_result"
    }
   ],
   "source": [
    "type(L)"
   ]
  },
  {
   "cell_type": "markdown",
   "id": "3a881814",
   "metadata": {},
   "source": [
    "tuple means a datastructure"
   ]
  },
  {
   "cell_type": "code",
   "execution_count": 68,
   "id": "7b22e24e",
   "metadata": {},
   "outputs": [
    {
     "data": {
      "text/plain": [
       "10"
      ]
     },
     "execution_count": 68,
     "metadata": {},
     "output_type": "execute_result"
    }
   ],
   "source": [
    "sentence.count('e')#counts NO OF elements in a string"
   ]
  },
  {
   "cell_type": "code",
   "execution_count": 69,
   "id": "9967ef9f",
   "metadata": {},
   "outputs": [],
   "source": [
    "str6 = \" abc def ghi \""
   ]
  },
  {
   "cell_type": "code",
   "execution_count": 70,
   "id": "13f08c0b",
   "metadata": {},
   "outputs": [
    {
     "data": {
      "text/plain": [
       "'abc def ghi'"
      ]
     },
     "execution_count": 70,
     "metadata": {},
     "output_type": "execute_result"
    }
   ],
   "source": [
    "str6.strip() # remove white space at begining and end"
   ]
  },
  {
   "cell_type": "code",
   "execution_count": 71,
   "id": "d6877d6b",
   "metadata": {},
   "outputs": [
    {
     "data": {
      "text/plain": [
       "' abc def ghi'"
      ]
     },
     "execution_count": 71,
     "metadata": {},
     "output_type": "execute_result"
    }
   ],
   "source": [
    "str6.rstrip()# removes white space at rightside /begining "
   ]
  },
  {
   "cell_type": "code",
   "execution_count": 72,
   "id": "6e759cc2",
   "metadata": {},
   "outputs": [
    {
     "data": {
      "text/plain": [
       "'abc def ghi '"
      ]
     },
     "execution_count": 72,
     "metadata": {},
     "output_type": "execute_result"
    }
   ],
   "source": [
    "str6.lstrip() #removes white space at leftside/ending"
   ]
  },
  {
   "cell_type": "markdown",
   "id": "8c39d562",
   "metadata": {},
   "source": [
    "lower and upper function:-converts case"
   ]
  },
  {
   "cell_type": "code",
   "execution_count": 73,
   "id": "94ea3857",
   "metadata": {},
   "outputs": [
    {
     "data": {
      "text/plain": [
       "' ABC DEF GHI '"
      ]
     },
     "execution_count": 73,
     "metadata": {},
     "output_type": "execute_result"
    }
   ],
   "source": [
    "str6.upper()"
   ]
  },
  {
   "cell_type": "code",
   "execution_count": 74,
   "id": "1baf0fe8",
   "metadata": {},
   "outputs": [
    {
     "data": {
      "text/plain": [
       "' abc def ghi '"
      ]
     },
     "execution_count": 74,
     "metadata": {},
     "output_type": "execute_result"
    }
   ],
   "source": [
    "str6.lower()"
   ]
  },
  {
   "cell_type": "markdown",
   "id": "44058ea9",
   "metadata": {},
   "source": [
    "startswith()-used to check whether the string startswith the required"
   ]
  },
  {
   "cell_type": "markdown",
   "id": "7c312762",
   "metadata": {},
   "source": [
    "endswith();-used to check whether the string endswith the required"
   ]
  },
  {
   "cell_type": "code",
   "execution_count": 75,
   "id": "d51d382c",
   "metadata": {},
   "outputs": [
    {
     "data": {
      "text/plain": [
       "False"
      ]
     },
     "execution_count": 75,
     "metadata": {},
     "output_type": "execute_result"
    }
   ],
   "source": [
    "str6.startswith('a')"
   ]
  },
  {
   "cell_type": "code",
   "execution_count": 76,
   "id": "04591c55",
   "metadata": {},
   "outputs": [
    {
     "data": {
      "text/plain": [
       "True"
      ]
     },
     "execution_count": 76,
     "metadata": {},
     "output_type": "execute_result"
    }
   ],
   "source": [
    "str6.startswith(' ')"
   ]
  },
  {
   "cell_type": "code",
   "execution_count": 77,
   "id": "16eed3e8",
   "metadata": {},
   "outputs": [
    {
     "data": {
      "text/plain": [
       "True"
      ]
     },
     "execution_count": 77,
     "metadata": {},
     "output_type": "execute_result"
    }
   ],
   "source": [
    "str6.endswith(' ')"
   ]
  },
  {
   "cell_type": "markdown",
   "id": "0d0fbe10",
   "metadata": {},
   "source": [
    "split():- returns a list as output \\\n",
    "list is data structure"
   ]
  },
  {
   "cell_type": "code",
   "execution_count": 78,
   "id": "86a373d3",
   "metadata": {},
   "outputs": [
    {
     "name": "stdout",
     "output_type": "stream",
     "text": [
      "['abc', 'def', 'ghi']\n"
     ]
    }
   ],
   "source": [
    "print(str6.split())"
   ]
  },
  {
   "cell_type": "code",
   "execution_count": 79,
   "id": "13528e6c",
   "metadata": {},
   "outputs": [
    {
     "name": "stdout",
     "output_type": "stream",
     "text": [
      "[' abc ', ' ghi ']\n"
     ]
    }
   ],
   "source": [
    "print(str6.split('def'))"
   ]
  },
  {
   "cell_type": "code",
   "execution_count": 80,
   "id": "dbd1eceb",
   "metadata": {},
   "outputs": [],
   "source": [
    "str7=\"apple banana orange jack apple pineapple guava apple mango #\""
   ]
  },
  {
   "cell_type": "code",
   "execution_count": 81,
   "id": "48a242e9",
   "metadata": {},
   "outputs": [
    {
     "name": "stdout",
     "output_type": "stream",
     "text": [
      "['', ' banana orange jack ', ' pine', ' guava ', ' mango #']\n"
     ]
    }
   ],
   "source": [
    "print(str7.split('apple'))"
   ]
  },
  {
   "cell_type": "code",
   "execution_count": 82,
   "id": "fa8d8524",
   "metadata": {},
   "outputs": [
    {
     "name": "stdout",
     "output_type": "stream",
     "text": [
      "['apple banana orange jack apple pineapple guava apple mango ', '']\n"
     ]
    }
   ],
   "source": [
    "print(str7.split('#'))"
   ]
  },
  {
   "cell_type": "markdown",
   "id": "d4ab85ae",
   "metadata": {},
   "source": [
    "format fuction:- will place the value of the given variable into place holder'{}'"
   ]
  },
  {
   "cell_type": "code",
   "execution_count": 83,
   "id": "7740b196",
   "metadata": {},
   "outputs": [],
   "source": [
    "a=1\n",
    "b=2\n",
    "c=3"
   ]
  },
  {
   "cell_type": "code",
   "execution_count": 84,
   "id": "6becca57",
   "metadata": {},
   "outputs": [
    {
     "name": "stdout",
     "output_type": "stream",
     "text": [
      "the value in order a is 1 ,b is 2 & c is 3 \n"
     ]
    }
   ],
   "source": [
    "print(\"the value in order a is {} ,b is {} & c is {} \".format(a,b,c))"
   ]
  },
  {
   "cell_type": "code",
   "execution_count": 85,
   "id": "1c90093e",
   "metadata": {},
   "outputs": [
    {
     "name": "stdout",
     "output_type": "stream",
     "text": [
      "the value in order b is 2 ,a is 1 & c is 3 \n"
     ]
    }
   ],
   "source": [
    "print(\"the value in order b is {} ,a is {} & c is {} \".format(b,a,c))"
   ]
  },
  {
   "cell_type": "code",
   "execution_count": 86,
   "id": "af5f1925",
   "metadata": {},
   "outputs": [
    {
     "name": "stdout",
     "output_type": "stream",
     "text": [
      "the value in order a is 1 ,b is 2 & c is 3 \n"
     ]
    }
   ],
   "source": [
    "print(\"the value in order a is {2} ,b is {1} & c is {0} \".format(c,b,a)) \\\n",
    "#where{0},{1},{2} are indexes "
   ]
  },
  {
   "cell_type": "code",
   "execution_count": 87,
   "id": "6e3c209b",
   "metadata": {},
   "outputs": [
    {
     "name": "stdout",
     "output_type": "stream",
     "text": [
      " last string is  abc def ghi \n"
     ]
    }
   ],
   "source": [
    "print(\" last string is {}\".format(str6))"
   ]
  },
  {
   "cell_type": "markdown",
   "id": "c617b5d5",
   "metadata": {},
   "source": [
    "typecasting-typeconverting :-converting one data type into another "
   ]
  },
  {
   "cell_type": "markdown",
   "id": "e10b618d",
   "metadata": {},
   "source": [
    "autotypecasting:-converts automatically into single datatype in a hirachy (S>F>C>I>B) \\\n",
    "only lower to higher \\\n",
    "string > float > complex > int > bool(S>F>C>I>B)"
   ]
  },
  {
   "cell_type": "code",
   "execution_count": 88,
   "id": "76810efb",
   "metadata": {},
   "outputs": [
    {
     "data": {
      "text/plain": [
       "10.6"
      ]
     },
     "execution_count": 88,
     "metadata": {},
     "output_type": "execute_result"
    }
   ],
   "source": [
    "4 + 5.6 +False + True #(S>F>C>I>B)"
   ]
  },
  {
   "cell_type": "code",
   "execution_count": 89,
   "id": "278934eb",
   "metadata": {},
   "outputs": [
    {
     "data": {
      "text/plain": [
       "(10.6+5j)"
      ]
     },
     "execution_count": 89,
     "metadata": {},
     "output_type": "execute_result"
    }
   ],
   "source": [
    "4 + 5.6 + 5j  + True"
   ]
  },
  {
   "cell_type": "markdown",
   "id": "9abafbe5",
   "metadata": {},
   "source": [
    "forced typecasting:- we convert lower to higher and higher to lower also"
   ]
  },
  {
   "cell_type": "code",
   "execution_count": 90,
   "id": "0b762c2e",
   "metadata": {},
   "outputs": [],
   "source": [
    "a=1.23"
   ]
  },
  {
   "cell_type": "code",
   "execution_count": 91,
   "id": "a4055a63",
   "metadata": {},
   "outputs": [
    {
     "data": {
      "text/plain": [
       "float"
      ]
     },
     "execution_count": 91,
     "metadata": {},
     "output_type": "execute_result"
    }
   ],
   "source": [
    "type(a)"
   ]
  },
  {
   "cell_type": "code",
   "execution_count": 92,
   "id": "7ae7de90",
   "metadata": {},
   "outputs": [
    {
     "data": {
      "text/plain": [
       "1"
      ]
     },
     "execution_count": 92,
     "metadata": {},
     "output_type": "execute_result"
    }
   ],
   "source": [
    "b= int(a)#higher to lower ((S>F>C>I>B))\n",
    "b"
   ]
  },
  {
   "cell_type": "code",
   "execution_count": 93,
   "id": "9b188694",
   "metadata": {},
   "outputs": [
    {
     "data": {
      "text/plain": [
       "(1.23+0j)"
      ]
     },
     "execution_count": 93,
     "metadata": {},
     "output_type": "execute_result"
    }
   ],
   "source": [
    "c= complex(a) #(S>F>C>I>B)\n",
    "c"
   ]
  },
  {
   "cell_type": "code",
   "execution_count": 94,
   "id": "1776929d",
   "metadata": {},
   "outputs": [
    {
     "data": {
      "text/plain": [
       "'1.23'"
      ]
     },
     "execution_count": 94,
     "metadata": {},
     "output_type": "execute_result"
    }
   ],
   "source": [
    "d= str(a) #(S>F>C>I>B)\n",
    "d"
   ]
  },
  {
   "cell_type": "code",
   "execution_count": 95,
   "id": "991a6a84",
   "metadata": {},
   "outputs": [
    {
     "data": {
      "text/plain": [
       "True"
      ]
     },
     "execution_count": 95,
     "metadata": {},
     "output_type": "execute_result"
    }
   ],
   "source": [
    "e= bool(a)\n",
    "e"
   ]
  },
  {
   "cell_type": "code",
   "execution_count": 96,
   "id": "45a0070f",
   "metadata": {},
   "outputs": [
    {
     "data": {
      "text/plain": [
       "False"
      ]
     },
     "execution_count": 96,
     "metadata": {},
     "output_type": "execute_result"
    }
   ],
   "source": [
    "bool(\"\") "
   ]
  },
  {
   "cell_type": "code",
   "execution_count": 97,
   "id": "15cbf784",
   "metadata": {},
   "outputs": [
    {
     "data": {
      "text/plain": [
       "True"
      ]
     },
     "execution_count": 97,
     "metadata": {},
     "output_type": "execute_result"
    }
   ],
   "source": [
    "bool(\" \") \n",
    "#if there is any value expect 0 or null is True"
   ]
  },
  {
   "cell_type": "code",
   "execution_count": 98,
   "id": "9c626e03",
   "metadata": {},
   "outputs": [
    {
     "data": {
      "text/plain": [
       "True"
      ]
     },
     "execution_count": 98,
     "metadata": {},
     "output_type": "execute_result"
    }
   ],
   "source": [
    "bool('0')"
   ]
  },
  {
   "cell_type": "code",
   "execution_count": 99,
   "id": "272c121e",
   "metadata": {},
   "outputs": [
    {
     "data": {
      "text/plain": [
       "False"
      ]
     },
     "execution_count": 99,
     "metadata": {},
     "output_type": "execute_result"
    }
   ],
   "source": [
    "bool(0)"
   ]
  },
  {
   "cell_type": "code",
   "execution_count": 100,
   "id": "47ae9cc4",
   "metadata": {},
   "outputs": [
    {
     "data": {
      "text/plain": [
       "True"
      ]
     },
     "execution_count": 100,
     "metadata": {},
     "output_type": "execute_result"
    }
   ],
   "source": [
    "bool(-1)"
   ]
  },
  {
   "cell_type": "code",
   "execution_count": 101,
   "id": "15c34d23",
   "metadata": {},
   "outputs": [
    {
     "data": {
      "text/plain": [
       "5"
      ]
     },
     "execution_count": 101,
     "metadata": {},
     "output_type": "execute_result"
    }
   ],
   "source": [
    "int(\"5\")"
   ]
  },
  {
   "cell_type": "markdown",
   "id": "69c9817a",
   "metadata": {},
   "source": [
    "#int('five') \\\n",
    "we cannot convert alphabets into numbers"
   ]
  },
  {
   "cell_type": "code",
   "execution_count": 102,
   "id": "b81c2746",
   "metadata": {},
   "outputs": [
    {
     "data": {
      "text/plain": [
       "0.0"
      ]
     },
     "execution_count": 102,
     "metadata": {},
     "output_type": "execute_result"
    }
   ],
   "source": [
    "float(False)"
   ]
  },
  {
   "cell_type": "code",
   "execution_count": 103,
   "id": "86b013c1",
   "metadata": {},
   "outputs": [
    {
     "data": {
      "text/plain": [
       "8.0"
      ]
     },
     "execution_count": 103,
     "metadata": {},
     "output_type": "execute_result"
    }
   ],
   "source": [
    "int(5.6)+float(1)+bool(23)+1.0 # both auto and forced typecasting"
   ]
  },
  {
   "cell_type": "code",
   "execution_count": 104,
   "id": "618f1cab",
   "metadata": {},
   "outputs": [
    {
     "data": {
      "text/plain": [
       "'True'"
      ]
     },
     "execution_count": 104,
     "metadata": {},
     "output_type": "execute_result"
    }
   ],
   "source": [
    "str(True)"
   ]
  },
  {
   "cell_type": "markdown",
   "id": "b0d4a0c6",
   "metadata": {},
   "source": [
    "## operators:-"
   ]
  },
  {
   "cell_type": "markdown",
   "id": "f23348c7",
   "metadata": {},
   "source": [
    "arthmetic operators:- + ,-,*,/,%,**,//"
   ]
  },
  {
   "cell_type": "code",
   "execution_count": 105,
   "id": "1f83fd42",
   "metadata": {},
   "outputs": [
    {
     "data": {
      "text/plain": [
       "30"
      ]
     },
     "execution_count": 105,
     "metadata": {},
     "output_type": "execute_result"
    }
   ],
   "source": [
    "a=5\n",
    "b=25\n",
    "#addition\n",
    "c=a+b\n",
    "c"
   ]
  },
  {
   "cell_type": "code",
   "execution_count": 106,
   "id": "8350a078",
   "metadata": {},
   "outputs": [],
   "source": [
    "#concatenate "
   ]
  },
  {
   "cell_type": "code",
   "execution_count": 107,
   "id": "d112b60e",
   "metadata": {},
   "outputs": [
    {
     "data": {
      "text/plain": [
       "' abc def ghi apple banana orange jack apple pineapple guava apple mango #'"
      ]
     },
     "execution_count": 107,
     "metadata": {},
     "output_type": "execute_result"
    }
   ],
   "source": [
    "str8=str6+str7\n",
    "str8"
   ]
  },
  {
   "cell_type": "code",
   "execution_count": 108,
   "id": "897fd077",
   "metadata": {},
   "outputs": [
    {
     "data": {
      "text/plain": [
       "-20"
      ]
     },
     "execution_count": 108,
     "metadata": {},
     "output_type": "execute_result"
    }
   ],
   "source": [
    "#substraction\n",
    "\n",
    "c=a-b\n",
    "c"
   ]
  },
  {
   "cell_type": "code",
   "execution_count": 109,
   "id": "b960d8ea",
   "metadata": {},
   "outputs": [
    {
     "data": {
      "text/plain": [
       "125"
      ]
     },
     "execution_count": 109,
     "metadata": {},
     "output_type": "execute_result"
    }
   ],
   "source": [
    "#multiplication\n",
    "c=a*b\n",
    "c"
   ]
  },
  {
   "cell_type": "code",
   "execution_count": 110,
   "id": "ce452e74",
   "metadata": {},
   "outputs": [
    {
     "data": {
      "text/plain": [
       "9765625"
      ]
     },
     "execution_count": 110,
     "metadata": {},
     "output_type": "execute_result"
    }
   ],
   "source": [
    "#power\n",
    "c=b**a\n",
    "c"
   ]
  },
  {
   "cell_type": "code",
   "execution_count": 111,
   "id": "292aa3c3",
   "metadata": {},
   "outputs": [
    {
     "data": {
      "text/plain": [
       "5.0"
      ]
     },
     "execution_count": 111,
     "metadata": {},
     "output_type": "execute_result"
    }
   ],
   "source": [
    "#division\n",
    "c= b/a #25/5\n",
    "c #prints qoutient"
   ]
  },
  {
   "cell_type": "code",
   "execution_count": 112,
   "id": "e6cfb431",
   "metadata": {},
   "outputs": [
    {
     "data": {
      "text/plain": [
       "5"
      ]
     },
     "execution_count": 112,
     "metadata": {},
     "output_type": "execute_result"
    }
   ],
   "source": [
    "c = a% b #5/25\n",
    "c #print reminder"
   ]
  },
  {
   "cell_type": "code",
   "execution_count": 113,
   "id": "bbccbaf0",
   "metadata": {},
   "outputs": [
    {
     "data": {
      "text/plain": [
       "5"
      ]
     },
     "execution_count": 113,
     "metadata": {},
     "output_type": "execute_result"
    }
   ],
   "source": [
    "c = b//a #25/5 \n",
    "c # print qoutient(whole number)"
   ]
  },
  {
   "cell_type": "markdown",
   "id": "f1e9fbfe",
   "metadata": {},
   "source": [
    "comparison operator:- > , < , >= , <= , == , !="
   ]
  },
  {
   "cell_type": "code",
   "execution_count": 114,
   "id": "a0c24556",
   "metadata": {},
   "outputs": [
    {
     "name": "stdout",
     "output_type": "stream",
     "text": [
      "False\n",
      "True\n",
      "False\n",
      "True\n"
     ]
    }
   ],
   "source": [
    "a=1\n",
    "b=2\n",
    "print(a>b) #greater than\n",
    "print(a<b) #lesser than\n",
    "print(a>=b) #greater than or equal to\n",
    "print(a<=b) #lesser than or equal to\n"
   ]
  },
  {
   "cell_type": "code",
   "execution_count": 115,
   "id": "17f2b6e1",
   "metadata": {},
   "outputs": [
    {
     "name": "stdout",
     "output_type": "stream",
     "text": [
      "False\n",
      "True\n"
     ]
    }
   ],
   "source": [
    "print(a==b)# equal to \n",
    "print(a!=b)# NOT equal to"
   ]
  },
  {
   "cell_type": "code",
   "execution_count": 116,
   "id": "151babee",
   "metadata": {},
   "outputs": [
    {
     "data": {
      "text/plain": [
       "False"
      ]
     },
     "execution_count": 116,
     "metadata": {},
     "output_type": "execute_result"
    }
   ],
   "source": [
    "str6 > str7"
   ]
  },
  {
   "cell_type": "code",
   "execution_count": 117,
   "id": "7f115bd8",
   "metadata": {},
   "outputs": [
    {
     "data": {
      "text/plain": [
       "97"
      ]
     },
     "execution_count": 117,
     "metadata": {},
     "output_type": "execute_result"
    }
   ],
   "source": [
    "ord('a') \n",
    "#to find ascii value of a charecter"
   ]
  },
  {
   "cell_type": "code",
   "execution_count": 118,
   "id": "0bf8f447",
   "metadata": {},
   "outputs": [
    {
     "data": {
      "text/plain": [
       "98"
      ]
     },
     "execution_count": 118,
     "metadata": {},
     "output_type": "execute_result"
    }
   ],
   "source": [
    "ord('b')"
   ]
  },
  {
   "cell_type": "code",
   "execution_count": 119,
   "id": "de4dffc6",
   "metadata": {},
   "outputs": [
    {
     "data": {
      "text/plain": [
       "False"
      ]
     },
     "execution_count": 119,
     "metadata": {},
     "output_type": "execute_result"
    }
   ],
   "source": [
    "a>b"
   ]
  },
  {
   "cell_type": "code",
   "execution_count": 120,
   "id": "bc291ea0",
   "metadata": {},
   "outputs": [
    {
     "data": {
      "text/plain": [
       "False"
      ]
     },
     "execution_count": 120,
     "metadata": {},
     "output_type": "execute_result"
    }
   ],
   "source": [
    "a='abc'\n",
    "b='ABC'\n",
    "a==b\n"
   ]
  },
  {
   "cell_type": "markdown",
   "id": "b5946be8",
   "metadata": {},
   "source": [
    "logical operators:-\\\n",
    "and : when both conditionbecom true then the statement will true \n",
    "\n",
    "or  : if any condition use become true then the statement will true \n",
    "\n",
    "not : the is not True"
   ]
  },
  {
   "cell_type": "code",
   "execution_count": 121,
   "id": "1651a240",
   "metadata": {},
   "outputs": [
    {
     "data": {
      "text/plain": [
       "False"
      ]
     },
     "execution_count": 121,
     "metadata": {},
     "output_type": "execute_result"
    }
   ],
   "source": [
    "a>b and b>a\n",
    "#if both"
   ]
  },
  {
   "cell_type": "code",
   "execution_count": 122,
   "id": "8c8a02ea",
   "metadata": {},
   "outputs": [
    {
     "data": {
      "text/plain": [
       "True"
      ]
     },
     "execution_count": 122,
     "metadata": {},
     "output_type": "execute_result"
    }
   ],
   "source": [
    "a>b or b>a\n",
    "#if any"
   ]
  },
  {
   "cell_type": "code",
   "execution_count": 123,
   "id": "576d8aba",
   "metadata": {},
   "outputs": [
    {
     "data": {
      "text/plain": [
       "True"
      ]
     },
     "execution_count": 123,
     "metadata": {},
     "output_type": "execute_result"
    }
   ],
   "source": [
    "a>b"
   ]
  },
  {
   "cell_type": "code",
   "execution_count": 124,
   "id": "de9ba417",
   "metadata": {},
   "outputs": [
    {
     "data": {
      "text/plain": [
       "False"
      ]
     },
     "execution_count": 124,
     "metadata": {},
     "output_type": "execute_result"
    }
   ],
   "source": [
    "not a>b"
   ]
  },
  {
   "cell_type": "markdown",
   "id": "ceb0bc13",
   "metadata": {},
   "source": [
    "day 4:-"
   ]
  },
  {
   "cell_type": "markdown",
   "id": "842c1f7c",
   "metadata": {},
   "source": [
    "Bitwise operation"
   ]
  },
  {
   "cell_type": "code",
   "execution_count": 125,
   "id": "57b611d1",
   "metadata": {},
   "outputs": [
    {
     "name": "stdout",
     "output_type": "stream",
     "text": [
      "bitwise AND operation - 2\n",
      "bitwise OR operstion - 22\n"
     ]
    }
   ],
   "source": [
    "x=18\n",
    "y=6\n",
    "print('bitwise AND operation - {}'.format(x&y))\n",
    "print('bitwise OR operstion - {}'.format(x|y))\n"
   ]
  },
  {
   "cell_type": "code",
   "execution_count": 126,
   "id": "a9db28d1",
   "metadata": {},
   "outputs": [
    {
     "data": {
      "text/plain": [
       "2"
      ]
     },
     "execution_count": 126,
     "metadata": {},
     "output_type": "execute_result"
    }
   ],
   "source": [
    "x&y\n",
    "# x-100010 \n",
    "# y-00110 \n",
    "# = 00010"
   ]
  },
  {
   "cell_type": "markdown",
   "id": "89d217fd",
   "metadata": {},
   "source": [
    "#### conditional statements\n",
    "if statement:-"
   ]
  },
  {
   "cell_type": "markdown",
   "id": "7372fe78",
   "metadata": {},
   "source": [
    "intentetion:- 4 white spaces or 1 tap \\\n",
    "it is importent to use proper intentetion while doing the condtional statements"
   ]
  },
  {
   "cell_type": "markdown",
   "id": "6619624d",
   "metadata": {},
   "source": [
    "syntax \\\n",
    "if condition: \\\n",
    "[intentetion]statement()\n"
   ]
  },
  {
   "cell_type": "code",
   "execution_count": 136,
   "id": "02c0329f",
   "metadata": {},
   "outputs": [
    {
     "name": "stdout",
     "output_type": "stream",
     "text": [
      "x is equal to 4\n",
      "end \n"
     ]
    }
   ],
   "source": [
    "x=4\n",
    "if x==4:\n",
    "    print('x is equal to 4')\n",
    "print('end ')    \n",
    "       "
   ]
  },
  {
   "cell_type": "code",
   "execution_count": 148,
   "id": "5b7b7da1",
   "metadata": {},
   "outputs": [
    {
     "name": "stdout",
     "output_type": "stream",
     "text": [
      "x is equal to 4\n"
     ]
    }
   ],
   "source": [
    "x=4\n",
    "if x==4: \n",
    "    print('x is equal to 4') #if the condition is True \n",
    "else :\n",
    "    print('end  ') #if the condition is False\n",
    "    \n",
    "    "
   ]
  },
  {
   "cell_type": "markdown",
   "id": "8b16b716",
   "metadata": {},
   "source": [
    "if(condition):\\\n",
    "[intentetion]statement\\\n",
    "\n",
    "else: \\\n",
    "    statement"
   ]
  },
  {
   "cell_type": "code",
   "execution_count": 146,
   "id": "95851c2d",
   "metadata": {},
   "outputs": [
    {
     "name": "stdout",
     "output_type": "stream",
     "text": [
      "x is equal to 3 \n"
     ]
    }
   ],
   "source": [
    "x=3\n",
    "if x==4:\n",
    "    print('x is equal to 4')\n",
    "elif x==3:\n",
    "    print('x is equal to 3 ')\n",
    "else :\n",
    "    print('end ') "
   ]
  },
  {
   "cell_type": "markdown",
   "id": "79f1656f",
   "metadata": {},
   "source": [
    "if(condition):\n",
    "    statement\n",
    "elif(condition):\n",
    "    statement\n",
    "elif(condition):\n",
    "    statement\n",
    "else:\n",
    "    statement"
   ]
  },
  {
   "cell_type": "code",
   "execution_count": 145,
   "id": "ed522dcb",
   "metadata": {},
   "outputs": [
    {
     "name": "stdout",
     "output_type": "stream",
     "text": [
      "x is equal to 2 \n"
     ]
    }
   ],
   "source": [
    "x=2\n",
    "if x==4:\n",
    "    print('x is equal to 4')\n",
    "# print if condition is True\n",
    "elif x==3:\n",
    "    print('x is equal to 3 ') \n",
    "# print if previous condition is false and current condition is true \n",
    "elif x==2:\n",
    "    print('x is equal to 2 ')\n",
    "# print if previous condition is false and current condition is true \n",
    "elif x==1:\n",
    "    print('x is equal to 1 ')\n",
    "# print if previous condition is false and current condition is true \n",
    "elif x==0:\n",
    "    print('x is equal to 0 ')\n",
    "# print if previous condition is false and current condition is true \n",
    "else :\n",
    "    print(' x not equal to 1,2,3,4')\n",
    "# print if all previous conditions is False"
   ]
  },
  {
   "cell_type": "markdown",
   "id": "0081e144",
   "metadata": {},
   "source": [
    "nested if loop :- \\\n",
    "if(condition): \\\n",
    "\\    statement \\\n",
    "\\    if(condition):\n",
    "\\        statement\n",
    "\\        if(condition):\n",
    "\\            statement\n",
    "            "
   ]
  },
  {
   "cell_type": "code",
   "execution_count": 157,
   "id": "efccf228",
   "metadata": {},
   "outputs": [
    {
     "name": "stdout",
     "output_type": "stream",
     "text": [
      "iam in 1st if\n",
      "iam in 2nd if\n"
     ]
    }
   ],
   "source": [
    "x=3\n",
    "if(x>1):\n",
    "    print('iam in 1st if')\n",
    "    if(x>2):\n",
    "        print('iam in 2nd if') \n",
    "        #print if previous condition is true and current condition is true \n",
    "        if(x>3):\n",
    "            print('iam in 3rd if')\n",
    "            #print if previous condition is true and current condition is true \n",
    "            if(x>4):\n",
    "                print('iam in 4st if')\n",
    "                #print if previous condition is true and current condition is true \n",
    "else :\n",
    "    print('iam in else ')"
   ]
  },
  {
   "cell_type": "code",
   "execution_count": 159,
   "id": "f8153340",
   "metadata": {},
   "outputs": [
    {
     "name": "stdout",
     "output_type": "stream",
     "text": [
      "iam in 1st if\n"
     ]
    }
   ],
   "source": [
    "x=3\n",
    "if(x>1):\n",
    "    print('iam in 1st if')\n",
    "    if(x>5):\n",
    "        print('iam in 2nd if') \n",
    "        #print if previous condition is true and current condition is true \n",
    "    if(x>4):\n",
    "        print('iam in 3rd if')\n",
    "            #print if previous condition is true and current condition is true \n",
    "    if(x>3):\n",
    "        print('iam in 4st if')\n",
    "                #print if previous condition is true and current condition is true \n",
    "else :\n",
    "    print('iam in else ')"
   ]
  },
  {
   "cell_type": "markdown",
   "id": "9a8a3ae9",
   "metadata": {},
   "source": [
    "input():- used to input values from user"
   ]
  },
  {
   "cell_type": "code",
   "execution_count": 160,
   "id": "34d0680a",
   "metadata": {},
   "outputs": [
    {
     "name": "stdout",
     "output_type": "stream",
     "text": [
      "enter a number2\n"
     ]
    }
   ],
   "source": [
    "a=input(\"enter a number \")\n",
    "#input function can only input string values "
   ]
  },
  {
   "cell_type": "code",
   "execution_count": 166,
   "id": "0be612ba",
   "metadata": {},
   "outputs": [
    {
     "name": "stdout",
     "output_type": "stream",
     "text": [
      "2\n"
     ]
    }
   ],
   "source": [
    "print(a)"
   ]
  },
  {
   "cell_type": "code",
   "execution_count": 162,
   "id": "f0b9028d",
   "metadata": {},
   "outputs": [
    {
     "data": {
      "text/plain": [
       "str"
      ]
     },
     "execution_count": 162,
     "metadata": {},
     "output_type": "execute_result"
    }
   ],
   "source": [
    "type(a)"
   ]
  },
  {
   "cell_type": "code",
   "execution_count": 168,
   "id": "c18b9b23",
   "metadata": {},
   "outputs": [
    {
     "name": "stdout",
     "output_type": "stream",
     "text": [
      "enter a number2\n"
     ]
    }
   ],
   "source": [
    "b=int(input(\"enter a number \"))\n",
    "#in order to use input function to input another data type we need to do forced typecasting"
   ]
  },
  {
   "cell_type": "code",
   "execution_count": 167,
   "id": "ab880b14",
   "metadata": {},
   "outputs": [
    {
     "name": "stdout",
     "output_type": "stream",
     "text": [
      "2\n"
     ]
    }
   ],
   "source": [
    "print(b)\n"
   ]
  },
  {
   "cell_type": "code",
   "execution_count": 165,
   "id": "b1e62f38",
   "metadata": {},
   "outputs": [
    {
     "data": {
      "text/plain": [
       "int"
      ]
     },
     "execution_count": 165,
     "metadata": {},
     "output_type": "execute_result"
    }
   ],
   "source": [
    "type(b)"
   ]
  },
  {
   "cell_type": "code",
   "execution_count": 171,
   "id": "d36a08e1",
   "metadata": {},
   "outputs": [
    {
     "name": "stdout",
     "output_type": "stream",
     "text": [
      "enter any number-5\n",
      "x is - \n"
     ]
    }
   ],
   "source": [
    "x = int(input('enter any number'))\n",
    "if x>0:\n",
    "    print('x is +ve')\n",
    "elif x<0:\n",
    "    print('x is -ve')\n",
    "else :\n",
    "    print('x is zero') "
   ]
  },
  {
   "cell_type": "code",
   "execution_count": 173,
   "id": "07780e9a",
   "metadata": {},
   "outputs": [
    {
     "name": "stdout",
     "output_type": "stream",
     "text": [
      "enter any number1\n",
      "enter any number2\n",
      "x is lesser than y\n",
      "x is +ve\n",
      "y is +ve\n"
     ]
    }
   ],
   "source": [
    "x = int(input('enter any number'))\n",
    "y = int(input('enter any number'))\n",
    "if x==y:\n",
    "    print('x is equal to y')\n",
    "elif x<y:\n",
    "    print('x is lesser than y')\n",
    "else :\n",
    "    print('x is greater than y') \n",
    "if x>0:\n",
    "    print('x is +ve')\n",
    "elif x<0:\n",
    "    print('x is -ve')\n",
    "else :\n",
    "    print('x is zero')\n",
    "if y>0:\n",
    "    print('y is +ve')\n",
    "elif y<0:\n",
    "    print('y is -ve')\n",
    "else :\n",
    "    print('y is zero')"
   ]
  },
  {
   "cell_type": "markdown",
   "id": "479278d9",
   "metadata": {},
   "source": [
    "## pythons packages"
   ]
  },
  {
   "cell_type": "markdown",
   "id": "7970f3b9",
   "metadata": {},
   "source": [
    "software which holds certain functionalities \n",
    "packeges is collection of modules(python file) \\\n",
    "modules are collections of submodules(contains functions for a task )\\\n",
    "submodules are collection of function(code for a specific task)\\\n",
    "each funtions contain certain artibutes (specific value)"
   ]
  },
  {
   "cell_type": "markdown",
   "id": "5e6900c0",
   "metadata": {},
   "source": [
    "contain modules and submodules \\\n",
    "eg,\n",
    " -    from datetime import date"
   ]
  },
  {
   "cell_type": "markdown",
   "id": "def2dc19",
   "metadata": {},
   "source": [
    "#### datetime packeges\n",
    "contain modules related to time and date\n",
    "eg,\n",
    "- date,time,datetime,timedelta\n"
   ]
  },
  {
   "cell_type": "code",
   "execution_count": 178,
   "id": "b4152ce1",
   "metadata": {},
   "outputs": [],
   "source": [
    "from datetime import date\n",
    "d= date(2023,7,5) # atributes(year,month,day)"
   ]
  },
  {
   "cell_type": "code",
   "execution_count": 177,
   "id": "2199a467",
   "metadata": {},
   "outputs": [
    {
     "name": "stdout",
     "output_type": "stream",
     "text": [
      "2023-07-05\n"
     ]
    }
   ],
   "source": [
    "print(d)"
   ]
  },
  {
   "cell_type": "code",
   "execution_count": 176,
   "id": "ddac790c",
   "metadata": {},
   "outputs": [
    {
     "data": {
      "text/plain": [
       "datetime.date"
      ]
     },
     "execution_count": 176,
     "metadata": {},
     "output_type": "execute_result"
    }
   ],
   "source": [
    "type(d)"
   ]
  },
  {
   "cell_type": "code",
   "execution_count": 179,
   "id": "28ab406d",
   "metadata": {},
   "outputs": [
    {
     "data": {
      "text/plain": [
       "datetime.date(2023, 7, 5)"
      ]
     },
     "execution_count": 179,
     "metadata": {},
     "output_type": "execute_result"
    }
   ],
   "source": [
    "d\n"
   ]
  },
  {
   "cell_type": "code",
   "execution_count": 180,
   "id": "abdc5288",
   "metadata": {},
   "outputs": [
    {
     "data": {
      "text/plain": [
       "5"
      ]
     },
     "execution_count": 180,
     "metadata": {},
     "output_type": "execute_result"
    }
   ],
   "source": [
    "d.day\n"
   ]
  },
  {
   "cell_type": "code",
   "execution_count": 181,
   "id": "bcdbe762",
   "metadata": {},
   "outputs": [
    {
     "data": {
      "text/plain": [
       "7"
      ]
     },
     "execution_count": 181,
     "metadata": {},
     "output_type": "execute_result"
    }
   ],
   "source": [
    "d.month\n"
   ]
  },
  {
   "cell_type": "code",
   "execution_count": 182,
   "id": "e88e5825",
   "metadata": {},
   "outputs": [
    {
     "data": {
      "text/plain": [
       "2023"
      ]
     },
     "execution_count": 182,
     "metadata": {},
     "output_type": "execute_result"
    }
   ],
   "source": [
    "d.year"
   ]
  },
  {
   "cell_type": "code",
   "execution_count": 183,
   "id": "c9272e46",
   "metadata": {},
   "outputs": [
    {
     "name": "stdout",
     "output_type": "stream",
     "text": [
      "today is  2023-09-21\n"
     ]
    }
   ],
   "source": [
    "#for getting current date use \n",
    "#date.today()\n",
    "print(\"today is \",date.today())"
   ]
  },
  {
   "cell_type": "code",
   "execution_count": 184,
   "id": "c072f214",
   "metadata": {},
   "outputs": [],
   "source": [
    "today1=date.today()"
   ]
  },
  {
   "cell_type": "code",
   "execution_count": 187,
   "id": "270c17c5",
   "metadata": {},
   "outputs": [
    {
     "data": {
      "text/plain": [
       "4"
      ]
     },
     "execution_count": 187,
     "metadata": {},
     "output_type": "execute_result"
    }
   ],
   "source": [
    "today1.isoweekday()#monday=1,tuesday is 2,...."
   ]
  },
  {
   "cell_type": "code",
   "execution_count": 188,
   "id": "fa829627",
   "metadata": {},
   "outputs": [],
   "source": [
    "from datetime import datetime as dt"
   ]
  },
  {
   "cell_type": "code",
   "execution_count": 189,
   "id": "1f856964",
   "metadata": {},
   "outputs": [],
   "source": [
    "a=dt.now()"
   ]
  },
  {
   "cell_type": "code",
   "execution_count": null,
   "id": "b28a92c8",
   "metadata": {},
   "outputs": [],
   "source": [
    "a.yer"
   ]
  }
 ],
 "metadata": {
  "kernelspec": {
   "display_name": "Python 3 (ipykernel)",
   "language": "python",
   "name": "python3"
  },
  "language_info": {
   "codemirror_mode": {
    "name": "ipython",
    "version": 3
   },
   "file_extension": ".py",
   "mimetype": "text/x-python",
   "name": "python",
   "nbconvert_exporter": "python",
   "pygments_lexer": "ipython3",
   "version": "3.12.7"
  }
 },
 "nbformat": 4,
 "nbformat_minor": 5
}
