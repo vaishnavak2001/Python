{
 "cells": [
  {
   "cell_type": "markdown",
   "id": "32328d1e",
   "metadata": {},
   "source": [
    "# What is Jupyter  Notebook\n",
    "* The Jupyter Notebook is an open-source web application that allows data scientists to create and share documents that           integrate live code, equations, computational output, visualizations, and other multimedia resources,\n",
    "\n",
    "* Uses include data cleaning and transformation, numerical simulation, statistical modeling, data visualization, machine         learning, and much more.\n"
   ]
  },
  {
   "cell_type": "markdown",
   "id": "107dfe71",
   "metadata": {},
   "source": [
    "### jupyter cell commands :-"
   ]
  },
  {
   "cell_type": "markdown",
   "id": "125d6fad",
   "metadata": {},
   "source": [
    "shift + enter -- to excute a cell"
   ]
  },
  {
   "cell_type": "markdown",
   "id": "b68ef94a",
   "metadata": {},
   "source": [
    "esc+y -- to change into code line \\\n",
    "esc+m -- to chnage into markdown line\\\n",
    "esc+r -- to chnage into raw NBconvert "
   ]
  },
  {
   "cell_type": "markdown",
   "id": "6d528c9b",
   "metadata": {},
   "source": [
    "esc + a -- to get new cell above the current cell\\\n",
    "esc + b -- to get new cell below the current cell\\\n",
    "\\\n",
    "\\\n",
    "esc + c -- to create a copy of current cell\\\n",
    "esc + x -- to cut a cell\\\n",
    "\\\n",
    "\\\n",
    "esc + dd -- to delete a cell\\\n",
    "esc + z --undo deleted cell\\\n",
    "\\\n",
    "esc + c ,esc + b --- copy and paste cell below current cell\n",
    "\\\n",
    "\\\n",
    "esc + o -- if we want to hide the output \n"
   ]
  },
  {
   "cell_type": "code",
   "execution_count": null,
   "id": "cf7a79bc",
   "metadata": {},
   "outputs": [],
   "source": [
    "### mode \n",
    "* Green----> edit mode(Enter button)\n",
    "* blue-----> command mode(Esc button)\n"
   ]
  },
  {
   "cell_type": "markdown",
   "id": "770a910e",
   "metadata": {},
   "source": [
    "## python keywords :- \n",
    "* Keywords in python are reserved words in python and cant be used as identifiers."
   ]
  },
  {
   "cell_type": "markdown",
   "id": "31ad4052",
   "metadata": {},
   "source": [
    "predefined and reserved words"
   ]
  },
  {
   "cell_type": "markdown",
   "id": "b8645703",
   "metadata": {},
   "source": [
    "first we have to import the build in module\n"
   ]
  },
  {
   "cell_type": "code",
   "execution_count": null,
   "id": "fda3706c",
   "metadata": {},
   "outputs": [],
   "source": [
    "import keyword"
   ]
  },
  {
   "cell_type": "markdown",
   "id": "70c7cfaf",
   "metadata": {},
   "source": [
    "we have to use attribute-- kwlist to print keyword"
   ]
  },
  {
   "cell_type": "code",
   "execution_count": null,
   "id": "93d389d7",
   "metadata": {},
   "outputs": [],
   "source": [
    "print(keyword.kwlist)"
   ]
  },
  {
   "cell_type": "code",
   "execution_count": null,
   "id": "afbdce7c",
   "metadata": {},
   "outputs": [],
   "source": [
    "len(keyword.kwlist)"
   ]
  },
  {
   "cell_type": "markdown",
   "id": "6c4b0806",
   "metadata": {},
   "source": [
    "## python identifiers :-\n",
    "* An identifier is the name given to entities like functions,variables etc.\n",
    "* It helps in differentiating one entity from other.\n",
    "* Correct way of defining an identifier \\\n",
    " (Identifiers can be a combination of letters in lowercase (a to z) or uppercase  \\\n",
    "and only special chararcter allowed is _ )"
   ]
  },
  {
   "cell_type": "markdown",
   "id": "f1bf6d01",
   "metadata": {},
   "source": [
    "rules:-\\\n",
    "we cannot use numbers at starting of name function,variable ..\\\n",
    "we cannot use any special character expect underscore (_)\\\n",
    "we cannot use keywords for naming \n"
   ]
  },
  {
   "cell_type": "markdown",
   "id": "4f39f797",
   "metadata": {},
   "source": [
    "## python comments :-\n",
    "- Comments can be used to explain the code for more readabilty.\n",
    "\n"
   ]
  },
  {
   "cell_type": "markdown",
   "id": "b1df50df",
   "metadata": {},
   "source": [
    "use # to in single line comments\\\n",
    "use ''' or \"\"\" to multiple line comments\\\n",
    "use \\ to break line or carry on in next line without error"
   ]
  },
  {
   "cell_type": "code",
   "execution_count": null,
   "id": "56033dd9",
   "metadata": {},
   "outputs": [],
   "source": [
    "\"\"\"\n",
    "print(\"hallo\")\n",
    "\"\"\"\n",
    "\\\n",
    "'''\n",
    "whatever wrote here cannot effect program\n",
    "'''\n",
    "print(\"hi\")  #hallo\n"
   ]
  },
  {
   "cell_type": "markdown",
   "id": "c2402335",
   "metadata": {},
   "source": [
    "## python statements:-\n",
    "* Instructions that a Python interpreter can execute."
   ]
  },
  {
   "cell_type": "markdown",
   "id": "2c918a74",
   "metadata": {},
   "source": [
    "print statements, Assignment statements, Conditional statements, Looping statements."
   ]
  },
  {
   "cell_type": "code",
   "execution_count": null,
   "id": "ec9e92f0",
   "metadata": {},
   "outputs": [],
   "source": [
    "# two assignment statements in a single\n",
    "l = 10; b = 5\n",
    "\n",
    "# print statement \n",
    "print('Area of rectangle:', l * b)\n"
   ]
  },
  {
   "cell_type": "markdown",
   "id": "eb26fe88",
   "metadata": {},
   "source": [
    "return statement:   we can return a value from a function when called\\\n",
    "\n",
    "del statement:      is used to delete objects/variables\\\n",
    "\n",
    "import statement:   is used to import modules\\\n",
    "\n",
    "break Statement:    The break statement is used inside the loop to exit out of the loop.\\\n",
    "\n",
    "continue Statement: The continue statement skip the current iteration and move to the next iteration."
   ]
  },
  {
   "cell_type": "markdown",
   "id": "8a1b4f77",
   "metadata": {},
   "source": [
    "looping statements:- \\\n",
    "\\\n",
    "if statement: It is a control flow statement that will execute statements under it if the condition is true. Also kown as a conditional statement.\\\n",
    "\\\n",
    "while statements: The while loop statement repeatedly executes a code block while a particular condition is true.\\\n",
    "\n",
    "for statement: Using for loop statement, we can iterate any sequence or iterable variable. The sequence can be string, list, dictionary, set, or tuple.\\\n",
    "\\\n",
    "try statement: specifies exception handlers.\\\n",
    "\\\n",
    "with statement: Used to cleanup code for a group of statements, while the with statement allows the execution of initialization and finalization code around a block of code."
   ]
  },
  {
   "cell_type": "markdown",
   "id": "da788757",
   "metadata": {},
   "source": [
    "## python variable :-\n",
    "*  A Python variable is a reserved memory location to store values.\n",
    "* A variable is created the moment you first assign a value to it.\n"
   ]
  },
  {
   "cell_type": "markdown",
   "id": "65aa731c",
   "metadata": {},
   "source": [
    "a value is stored in variable when we assign a value to variable \\\n",
    "every variable have some unique identification adddress"
   ]
  },
  {
   "cell_type": "markdown",
   "id": "435cb72b",
   "metadata": {},
   "source": [
    "* use id(variable_name) -- to get the identification address\n"
   ]
  },
  {
   "cell_type": "code",
   "execution_count": null,
   "id": "d370f7f8",
   "metadata": {},
   "outputs": [],
   "source": [
    "a=1\n",
    "b=1\n",
    "c=a+b\n",
    "d = \"string variable\"\n",
    "e = True #use True never true\n",
    "print(c)\n",
    "print(d)\n",
    "print(e)\n",
    "print (id(a))\n",
    "print (id(b))\n",
    "print (id(c))\n",
    "print (id(d))\n",
    "print (id(e))\n"
   ]
  },
  {
   "cell_type": "code",
   "execution_count": null,
   "id": "3a9767c9",
   "metadata": {},
   "outputs": [],
   "source": [
    "'''\n",
    "id() function returns the “identity” of the object. \n",
    "The identity of an object - Is an integer\n",
    " - Guaranteed to be unique\n",
    " - Constant for this object during its lifetime. \n",
    "'''\n",
    "id(a)"
   ]
  },
  {
   "cell_type": "code",
   "execution_count": null,
   "id": "0cb1707c",
   "metadata": {},
   "outputs": [],
   "source": [
    "\n",
    "a ,b, c ,d = 2,266,2.11,\"string\"\n",
    "print(a)\n",
    "print(b)\n",
    "print(c)\n",
    "print(d)"
   ]
  },
  {
   "cell_type": "markdown",
   "id": "8a009108",
   "metadata": {},
   "source": [
    "## python datatypes:-\n",
    "### Numeric:-\n"
   ]
  },
  {
   "cell_type": "markdown",
   "id": "30324b95",
   "metadata": {},
   "source": [
    "integers,float,boolean,string,complex"
   ]
  },
  {
   "cell_type": "markdown",
   "id": "4ab08cbc",
   "metadata": {},
   "source": [
    "type(variable_name) -- to get type of variable\\\n",
    "getsizeof(variable_name) -- to get size of variable \\\n",
    "NOTE:- to use getsiseof we have to \\\n",
    "\\import sys"
   ]
  },
  {
   "cell_type": "code",
   "execution_count": null,
   "id": "60ced278",
   "metadata": {},
   "outputs": [],
   "source": [
    "# it allows you to interact with Python interpreter and operating system environment\n",
    "# provides functions for system-related functionality\n",
    "import sys"
   ]
  },
  {
   "cell_type": "code",
   "execution_count": null,
   "id": "30d8b1c1",
   "metadata": {},
   "outputs": [],
   "source": [
    "import sys #IMP\n",
    "val1=10\n",
    "print(val1)\n",
    "print(type (val1))\n",
    "print(sys.getsizeof(val1))# size of integer object in bytes\n",
    "print(val1, \"is float?\",isinstance(val1,float))\n",
    "print(val1, \"is complex?\",isinstance(val1,complex))"
   ]
  },
  {
   "cell_type": "code",
   "execution_count": null,
   "id": "76ba39c6",
   "metadata": {},
   "outputs": [],
   "source": [
    "val2=10.11\n",
    "print(val2)\n",
    "print(type (val2))\n",
    "print(sys.getsizeof(val2))\n",
    "print(val1, \"is float?\",isinstance(val2,float))\n",
    "print(val1, \"is complex?\",isinstance(val2,complex))"
   ]
  },
  {
   "cell_type": "markdown",
   "id": "da7c4b3a",
   "metadata": {},
   "source": [
    "day 2:-"
   ]
  },
  {
   "cell_type": "code",
   "execution_count": null,
   "id": "b784b6d3",
   "metadata": {},
   "outputs": [],
   "source": [
    "val3= 1 + 2j\n",
    "print(val3)\n",
    "print(type (val3))\n",
    "print(sys.getsizeof(val3))\n",
    "print(val1, \"is float?\",isinstance(val3,float))\n",
    "print(val1, \"is complex?\",isinstance(val3,complex))"
   ]
  },
  {
   "cell_type": "markdown",
   "id": "ec5b67de",
   "metadata": {},
   "source": [
    "### Boolean:-\n"
   ]
  },
  {
   "cell_type": "markdown",
   "id": "35e0957d",
   "metadata": {},
   "source": [
    "* Boolean data type can have only two possible values true or false."
   ]
  },
  {
   "cell_type": "code",
   "execution_count": null,
   "id": "35eb8574",
   "metadata": {},
   "outputs": [],
   "source": [
    "b1=True # use capital T,True means 1"
   ]
  },
  {
   "cell_type": "code",
   "execution_count": null,
   "id": "bca92e13",
   "metadata": {},
   "outputs": [],
   "source": [
    "b2=False #use capital F"
   ]
  },
  {
   "cell_type": "code",
   "execution_count": null,
   "id": "618ac9b8",
   "metadata": {},
   "outputs": [],
   "source": [
    "type(b1)"
   ]
  },
  {
   "cell_type": "code",
   "execution_count": null,
   "id": "b89c7b94",
   "metadata": {},
   "outputs": [],
   "source": [
    "isinstance(b1,int) #bcz True means 1"
   ]
  },
  {
   "cell_type": "code",
   "execution_count": null,
   "id": "7578ebcf",
   "metadata": {},
   "outputs": [],
   "source": [
    "isinstance(b1,float)"
   ]
  },
  {
   "cell_type": "code",
   "execution_count": null,
   "id": "4a8d3859",
   "metadata": {},
   "outputs": [],
   "source": [
    "isinstance(b1,str)"
   ]
  },
  {
   "cell_type": "code",
   "execution_count": null,
   "id": "569142a6",
   "metadata": {},
   "outputs": [],
   "source": [
    "isinstance(b1,bool)"
   ]
  },
  {
   "cell_type": "markdown",
   "id": "e79cc35c",
   "metadata": {},
   "source": [
    "### string:-"
   ]
  },
  {
   "cell_type": "code",
   "execution_count": null,
   "id": "1154915d",
   "metadata": {},
   "outputs": [],
   "source": [
    "a = \"True\""
   ]
  },
  {
   "cell_type": "code",
   "execution_count": null,
   "id": "fe06e29e",
   "metadata": {},
   "outputs": [],
   "source": [
    "type(a)"
   ]
  },
  {
   "cell_type": "code",
   "execution_count": null,
   "id": "064f9414",
   "metadata": {},
   "outputs": [],
   "source": [
    "print(a)"
   ]
  },
  {
   "cell_type": "code",
   "execution_count": null,
   "id": "153bb084",
   "metadata": {},
   "outputs": [],
   "source": [
    "len(a)"
   ]
  },
  {
   "cell_type": "markdown",
   "id": "20e5824b",
   "metadata": {},
   "source": [
    "string indexing:-\\\n",
    "\\\n",
    "string is a collection of elements\\\n",
    "\n",
    "\\\n"
   ]
  },
  {
   "cell_type": "markdown",
   "id": "8c2e1aaa",
   "metadata": {},
   "source": [
    "str1=\"ABC\"\n",
    "positive index:-str1[ABC] where str1[0]=A,str1[1]=B.str1[2]=c "
   ]
  },
  {
   "cell_type": "code",
   "execution_count": null,
   "id": "30318b2d",
   "metadata": {},
   "outputs": [],
   "source": [
    "str1 = \"ABC\""
   ]
  },
  {
   "cell_type": "code",
   "execution_count": null,
   "id": "12a16b69",
   "metadata": {},
   "outputs": [],
   "source": [
    "print(str1[0])"
   ]
  },
  {
   "cell_type": "code",
   "execution_count": null,
   "id": "7d119a49",
   "metadata": {},
   "outputs": [],
   "source": [
    "print(str1[1])"
   ]
  },
  {
   "cell_type": "code",
   "execution_count": null,
   "id": "589605b4",
   "metadata": {},
   "outputs": [],
   "source": [
    "print(str1[2])"
   ]
  },
  {
   "cell_type": "code",
   "execution_count": null,
   "id": "ce8641b2",
   "metadata": {},
   "outputs": [],
   "source": [
    "print(str1[1:3])"
   ]
  },
  {
   "cell_type": "code",
   "execution_count": null,
   "id": "395080cf",
   "metadata": {},
   "outputs": [],
   "source": [
    "print(str1[:3])"
   ]
  },
  {
   "cell_type": "code",
   "execution_count": null,
   "id": "06ccadb5",
   "metadata": {},
   "outputs": [],
   "source": [
    "print(str1[1:])"
   ]
  },
  {
   "cell_type": "code",
   "execution_count": null,
   "id": "b1e58d2f",
   "metadata": {},
   "outputs": [],
   "source": [
    "print(str1[:])"
   ]
  },
  {
   "cell_type": "markdown",
   "id": "aa14a6da",
   "metadata": {},
   "source": [
    "negative index:-\"ABC\" where str1[-3]=A, str1[12]=B, str1[-1]=C"
   ]
  },
  {
   "cell_type": "code",
   "execution_count": null,
   "id": "29b9bba6",
   "metadata": {},
   "outputs": [],
   "source": [
    "print(str1[-1])"
   ]
  },
  {
   "cell_type": "code",
   "execution_count": null,
   "id": "702effcb",
   "metadata": {},
   "outputs": [],
   "source": [
    "print(str1[-3:-1])"
   ]
  },
  {
   "cell_type": "code",
   "execution_count": null,
   "id": "ec6b393f",
   "metadata": {},
   "outputs": [],
   "source": [
    "print(str1[-2:-1])"
   ]
  },
  {
   "cell_type": "code",
   "execution_count": null,
   "id": "4939dc16",
   "metadata": {},
   "outputs": [],
   "source": [
    "print(str1[-3:])"
   ]
  },
  {
   "cell_type": "code",
   "execution_count": null,
   "id": "ae56dd80",
   "metadata": {},
   "outputs": [],
   "source": [
    "print(str1[:-1])"
   ]
  },
  {
   "cell_type": "code",
   "execution_count": null,
   "id": "a8f2b89d",
   "metadata": {},
   "outputs": [],
   "source": [
    "print(str1[-2],str1[-3])"
   ]
  },
  {
   "cell_type": "code",
   "execution_count": null,
   "id": "712291ce",
   "metadata": {},
   "outputs": [],
   "source": [
    "print(str1[-3],str1[-3:-1],str1[-3:],str1[:-2])"
   ]
  },
  {
   "cell_type": "markdown",
   "id": "37e81334",
   "metadata": {},
   "source": [
    "slicing :- [starting element:ending element],or [starting element:ending element:step]\n"
   ]
  },
  {
   "cell_type": "code",
   "execution_count": null,
   "id": "d092e1d8",
   "metadata": {},
   "outputs": [],
   "source": [
    "str2=\"ABCD  EFG\""
   ]
  },
  {
   "cell_type": "markdown",
   "id": "16c0c105",
   "metadata": {},
   "source": [
    "str2=\"ABCD  EFG\" \\\n",
    "where str2[0]=A,str2[1]=B,str2[2]=C ,str2[3]=D ,str1[4]= ,str2[5]= ,str1[6]=E,str=[7]=F,str2[8]=G \\\n",
    "str2[-1]=G,str2[-2]=F ,str2[-3]=E ,str1[-4]= ,str2[-5]= ,str2[-6]=D,str=[-7]=C,str2[-8]=B ,str2[-9]=A\n"
   ]
  },
  {
   "cell_type": "code",
   "execution_count": null,
   "id": "f3f36080",
   "metadata": {},
   "outputs": [],
   "source": [
    "print(len(str2))"
   ]
  },
  {
   "cell_type": "code",
   "execution_count": null,
   "id": "0040d224",
   "metadata": {},
   "outputs": [],
   "source": [
    "len(str2)-1"
   ]
  },
  {
   "cell_type": "code",
   "execution_count": null,
   "id": "14f8f9b2",
   "metadata": {},
   "outputs": [],
   "source": [
    "str2[len(str2)-1]"
   ]
  },
  {
   "cell_type": "code",
   "execution_count": null,
   "id": "cad393e4",
   "metadata": {},
   "outputs": [],
   "source": [
    "print(str2[0:9:2])"
   ]
  },
  {
   "cell_type": "code",
   "execution_count": null,
   "id": "61bb4bf2",
   "metadata": {},
   "outputs": [],
   "source": [
    "print(str2[-1::-1])"
   ]
  },
  {
   "cell_type": "code",
   "execution_count": null,
   "id": "44148dde",
   "metadata": {},
   "outputs": [],
   "source": [
    "print(str2[-9::1])"
   ]
  },
  {
   "cell_type": "code",
   "execution_count": null,
   "id": "1cf4aee9",
   "metadata": {},
   "outputs": [],
   "source": [
    "str3=\"data is new fuel\""
   ]
  },
  {
   "cell_type": "code",
   "execution_count": null,
   "id": "a360fe85",
   "metadata": {},
   "outputs": [],
   "source": [
    "print(str3[7:11],str3[0:4])"
   ]
  },
  {
   "cell_type": "markdown",
   "id": "36edac96",
   "metadata": {},
   "source": [
    "Update & delete string\n",
    "* Strings are immutable which means elements of a\n",
    "string cannot be changed once the they are assigned with\n",
    "any values"
   ]
  },
  {
   "cell_type": "code",
   "execution_count": null,
   "id": "6635ed9b",
   "metadata": {},
   "outputs": [],
   "source": [
    "str4=\"ABC\""
   ]
  },
  {
   "cell_type": "code",
   "execution_count": null,
   "id": "ac04df34",
   "metadata": {},
   "outputs": [],
   "source": [
    "print(str4)"
   ]
  },
  {
   "cell_type": "code",
   "execution_count": null,
   "id": "ca4d5c96",
   "metadata": {},
   "outputs": [],
   "source": [
    "# str1[0:]='abc' #  we cannot replace/immuttable string but we can assign a new value to string"
   ]
  },
  {
   "cell_type": "code",
   "execution_count": null,
   "id": "bdae0984",
   "metadata": {},
   "outputs": [],
   "source": [
    "str5= str4.replace('A','Z')"
   ]
  },
  {
   "cell_type": "code",
   "execution_count": null,
   "id": "150980d6",
   "metadata": {},
   "outputs": [],
   "source": [
    "print(str5) #here we are replace a string to new string"
   ]
  },
  {
   "cell_type": "code",
   "execution_count": null,
   "id": "96a3f3c4",
   "metadata": {},
   "outputs": [],
   "source": [
    "print(str4)"
   ]
  },
  {
   "cell_type": "code",
   "execution_count": null,
   "id": "a14713cf",
   "metadata": {},
   "outputs": [],
   "source": [
    "a=5\n",
    "a"
   ]
  },
  {
   "cell_type": "code",
   "execution_count": null,
   "id": "2849c99b",
   "metadata": {},
   "outputs": [],
   "source": [
    "a = 'abc'"
   ]
  },
  {
   "cell_type": "code",
   "execution_count": null,
   "id": "52192b11",
   "metadata": {},
   "outputs": [],
   "source": [
    "a = a.replace('a','z') # here we are assign a new value to a"
   ]
  },
  {
   "cell_type": "code",
   "execution_count": null,
   "id": "bdc1ada8",
   "metadata": {},
   "outputs": [],
   "source": [
    "print(a)"
   ]
  },
  {
   "cell_type": "code",
   "execution_count": null,
   "id": "53ae953d",
   "metadata": {},
   "outputs": [],
   "source": [
    "'data'+'science'"
   ]
  },
  {
   "cell_type": "code",
   "execution_count": null,
   "id": "5a72d28a",
   "metadata": {},
   "outputs": [],
   "source": [
    "1+2"
   ]
  },
  {
   "cell_type": "code",
   "execution_count": null,
   "id": "0fdbdbeb",
   "metadata": {},
   "outputs": [],
   "source": [
    "'1'+'2'"
   ]
  },
  {
   "cell_type": "code",
   "execution_count": null,
   "id": "17257492",
   "metadata": {},
   "outputs": [],
   "source": [
    "s1='data'\n",
    "s2='science'\n",
    "s3=s1+s2"
   ]
  },
  {
   "cell_type": "code",
   "execution_count": null,
   "id": "c1624b7c",
   "metadata": {},
   "outputs": [],
   "source": [
    "s3"
   ]
  },
  {
   "cell_type": "code",
   "execution_count": null,
   "id": "693de5b9",
   "metadata": {},
   "outputs": [],
   "source": [
    "s1='data'\n",
    "s2='science'\n",
    "s3=s1+' ' +s2+ \" team\""
   ]
  },
  {
   "cell_type": "code",
   "execution_count": null,
   "id": "2664c6a5",
   "metadata": {},
   "outputs": [],
   "source": [
    "s3"
   ]
  },
  {
   "cell_type": "markdown",
   "id": "adfffbde",
   "metadata": {},
   "source": [
    "%who :- is used to show the variables created"
   ]
  },
  {
   "cell_type": "code",
   "execution_count": null,
   "id": "6aae38bf",
   "metadata": {},
   "outputs": [],
   "source": [
    "%who"
   ]
  },
  {
   "cell_type": "code",
   "execution_count": null,
   "id": "efb11801",
   "metadata": {},
   "outputs": [],
   "source": [
    "'data'in s3 #in is used check "
   ]
  },
  {
   "cell_type": "code",
   "execution_count": null,
   "id": "9b47531c",
   "metadata": {},
   "outputs": [],
   "source": [
    "'Data'in s3 #case sensitive"
   ]
  },
  {
   "cell_type": "markdown",
   "id": "1381c6cc",
   "metadata": {},
   "source": [
    "day 3:-\n"
   ]
  },
  {
   "cell_type": "markdown",
   "id": "05f77c46",
   "metadata": {},
   "source": [
    "#### string functions"
   ]
  },
  {
   "cell_type": "markdown",
   "id": "3c90645e",
   "metadata": {},
   "source": [
    "string partition:- search for a specific element and splits into 3 elemnts or parts\n"
   ]
  },
  {
   "cell_type": "code",
   "execution_count": null,
   "id": "4ae9fb06",
   "metadata": {},
   "outputs": [],
   "source": [
    "\"\"\"\n",
    "The partition() method searches for a specified string and splits the string into\n",
    " - The first element contains the part before the argument string.\n",
    " - The second element contains the argument string.\n",
    " - The third element contains the part after the argument string.\n",
    "\"\"\"\n",
    "\n",
    "str5 = \"Natural language processing with Python and R and Java\"\n",
    "L = str5.partition('language') # returns tuple\n",
    "L"
   ]
  },
  {
   "cell_type": "code",
   "execution_count": null,
   "id": "e1cfa39d",
   "metadata": {},
   "outputs": [],
   "source": [
    "sentence=\"first element second element third element\"\n"
   ]
  },
  {
   "cell_type": "code",
   "execution_count": null,
   "id": "b9f4a1aa",
   "metadata": {},
   "outputs": [],
   "source": [
    "L=sentence.partition('second element')"
   ]
  },
  {
   "cell_type": "code",
   "execution_count": null,
   "id": "1a607673",
   "metadata": {},
   "outputs": [],
   "source": [
    "L"
   ]
  },
  {
   "cell_type": "code",
   "execution_count": null,
   "id": "a27ac482",
   "metadata": {},
   "outputs": [],
   "source": [
    "type(L)"
   ]
  },
  {
   "cell_type": "markdown",
   "id": "3a881814",
   "metadata": {},
   "source": [
    "tuple means a datastructure"
   ]
  },
  {
   "cell_type": "code",
   "execution_count": null,
   "id": "7b22e24e",
   "metadata": {},
   "outputs": [],
   "source": [
    "sentence.count('e')#counts NO OF elements in a string"
   ]
  },
  {
   "cell_type": "code",
   "execution_count": null,
   "id": "9967ef9f",
   "metadata": {},
   "outputs": [],
   "source": [
    "str6 = \" abc def ghi \""
   ]
  },
  {
   "cell_type": "code",
   "execution_count": null,
   "id": "13f08c0b",
   "metadata": {},
   "outputs": [],
   "source": [
    "str6.strip() # remove white space at begining and end"
   ]
  },
  {
   "cell_type": "code",
   "execution_count": null,
   "id": "d6877d6b",
   "metadata": {},
   "outputs": [],
   "source": [
    "str6.rstrip()# removes white space at rightside /begining "
   ]
  },
  {
   "cell_type": "code",
   "execution_count": null,
   "id": "6e759cc2",
   "metadata": {},
   "outputs": [],
   "source": [
    "str6.lstrip() #removes white space at leftside/ending"
   ]
  },
  {
   "cell_type": "markdown",
   "id": "8c39d562",
   "metadata": {},
   "source": [
    "lower and upper function:-converts case"
   ]
  },
  {
   "cell_type": "code",
   "execution_count": null,
   "id": "94ea3857",
   "metadata": {},
   "outputs": [],
   "source": [
    "str6.upper()"
   ]
  },
  {
   "cell_type": "code",
   "execution_count": null,
   "id": "1baf0fe8",
   "metadata": {},
   "outputs": [],
   "source": [
    "str6.lower()"
   ]
  },
  {
   "cell_type": "markdown",
   "id": "44058ea9",
   "metadata": {},
   "source": [
    "startswith()-used to check whether the string startswith the required"
   ]
  },
  {
   "cell_type": "markdown",
   "id": "7c312762",
   "metadata": {},
   "source": [
    "endswith();-used to check whether the string endswith the required"
   ]
  },
  {
   "cell_type": "code",
   "execution_count": null,
   "id": "d51d382c",
   "metadata": {},
   "outputs": [],
   "source": [
    "str6.startswith('a')"
   ]
  },
  {
   "cell_type": "code",
   "execution_count": null,
   "id": "04591c55",
   "metadata": {},
   "outputs": [],
   "source": [
    "str6.startswith(' ')"
   ]
  },
  {
   "cell_type": "code",
   "execution_count": null,
   "id": "16eed3e8",
   "metadata": {},
   "outputs": [],
   "source": [
    "str6.endswith(' ')"
   ]
  },
  {
   "cell_type": "markdown",
   "id": "0d0fbe10",
   "metadata": {},
   "source": [
    "split():- returns a list as output \\\n",
    "list is data structure"
   ]
  },
  {
   "cell_type": "code",
   "execution_count": null,
   "id": "86a373d3",
   "metadata": {},
   "outputs": [],
   "source": [
    "print(str6.split())"
   ]
  },
  {
   "cell_type": "code",
   "execution_count": null,
   "id": "13528e6c",
   "metadata": {},
   "outputs": [],
   "source": [
    "print(str6.split('def'))"
   ]
  },
  {
   "cell_type": "code",
   "execution_count": null,
   "id": "dbd1eceb",
   "metadata": {},
   "outputs": [],
   "source": [
    "str7=\"apple banana orange jack apple pineapple guava apple mango #\""
   ]
  },
  {
   "cell_type": "code",
   "execution_count": null,
   "id": "48a242e9",
   "metadata": {},
   "outputs": [],
   "source": [
    "print(str7.split('apple'))"
   ]
  },
  {
   "cell_type": "code",
   "execution_count": null,
   "id": "fa8d8524",
   "metadata": {},
   "outputs": [],
   "source": [
    "print(str7.split('#'))"
   ]
  },
  {
   "cell_type": "markdown",
   "id": "d4ab85ae",
   "metadata": {},
   "source": [
    "format fuction:- will place the value of the given variable into place holder'{}'"
   ]
  },
  {
   "cell_type": "code",
   "execution_count": null,
   "id": "7740b196",
   "metadata": {},
   "outputs": [],
   "source": [
    "a=1\n",
    "b=2\n",
    "c=3"
   ]
  },
  {
   "cell_type": "code",
   "execution_count": null,
   "id": "6becca57",
   "metadata": {},
   "outputs": [],
   "source": [
    "print(\"the value in order a is {} ,b is {} & c is {} \".format(a,b,c))"
   ]
  },
  {
   "cell_type": "code",
   "execution_count": null,
   "id": "1c90093e",
   "metadata": {},
   "outputs": [],
   "source": [
    "print(\"the value in order b is {} ,a is {} & c is {} \".format(b,a,c))"
   ]
  },
  {
   "cell_type": "code",
   "execution_count": null,
   "id": "af5f1925",
   "metadata": {},
   "outputs": [],
   "source": [
    "print(\"the value in order a is {2} ,b is {1} & c is {0} \".format(c,b,a)) \\\n",
    "#where{0},{1},{2} are indexes "
   ]
  },
  {
   "cell_type": "code",
   "execution_count": null,
   "id": "6e3c209b",
   "metadata": {},
   "outputs": [],
   "source": [
    "print(\" last string is {}\".format(str6))"
   ]
  },
  {
   "cell_type": "markdown",
   "id": "c617b5d5",
   "metadata": {},
   "source": [
    "typecasting-typeconverting :-\n",
    "* converting one data type into another "
   ]
  },
  {
   "cell_type": "markdown",
   "id": "e10b618d",
   "metadata": {},
   "source": [
    "autotypecasting:-converts automatically into single datatype in a hirachy (S>F>C>I>B) \\\n",
    "only lower to higher \\\n",
    "string > float > complex > int > bool(S>F>C>I>B)"
   ]
  },
  {
   "cell_type": "code",
   "execution_count": null,
   "id": "76810efb",
   "metadata": {},
   "outputs": [],
   "source": [
    "4 + 5.6 +False + True #(S>F>C>I>B)"
   ]
  },
  {
   "cell_type": "code",
   "execution_count": null,
   "id": "278934eb",
   "metadata": {},
   "outputs": [],
   "source": [
    "4 + 5.6 + 5j  + True"
   ]
  },
  {
   "cell_type": "markdown",
   "id": "9abafbe5",
   "metadata": {},
   "source": [
    "forced typecasting:- we convert lower to higher and higher to lower also"
   ]
  },
  {
   "cell_type": "code",
   "execution_count": null,
   "id": "0b762c2e",
   "metadata": {},
   "outputs": [],
   "source": [
    "a=1.23"
   ]
  },
  {
   "cell_type": "code",
   "execution_count": null,
   "id": "a4055a63",
   "metadata": {},
   "outputs": [],
   "source": [
    "type(a)"
   ]
  },
  {
   "cell_type": "code",
   "execution_count": null,
   "id": "7ae7de90",
   "metadata": {},
   "outputs": [],
   "source": [
    "b= int(a)#higher to lower ((S>F>C>I>B))\n",
    "b"
   ]
  },
  {
   "cell_type": "code",
   "execution_count": null,
   "id": "9b188694",
   "metadata": {},
   "outputs": [],
   "source": [
    "c= complex(a) #(S>F>C>I>B)\n",
    "c"
   ]
  },
  {
   "cell_type": "code",
   "execution_count": null,
   "id": "1776929d",
   "metadata": {},
   "outputs": [],
   "source": [
    "d= str(a) #(S>F>C>I>B)\n",
    "d"
   ]
  },
  {
   "cell_type": "code",
   "execution_count": null,
   "id": "991a6a84",
   "metadata": {},
   "outputs": [],
   "source": [
    "e= bool(a)\n",
    "e"
   ]
  },
  {
   "cell_type": "code",
   "execution_count": null,
   "id": "45a0070f",
   "metadata": {},
   "outputs": [],
   "source": [
    "bool(\"\") "
   ]
  },
  {
   "cell_type": "code",
   "execution_count": null,
   "id": "15cbf784",
   "metadata": {},
   "outputs": [],
   "source": [
    "bool(\" \") \n",
    "#if there is any value expect 0 or null is True"
   ]
  },
  {
   "cell_type": "code",
   "execution_count": null,
   "id": "9c626e03",
   "metadata": {},
   "outputs": [],
   "source": [
    "bool('0')"
   ]
  },
  {
   "cell_type": "code",
   "execution_count": null,
   "id": "272c121e",
   "metadata": {},
   "outputs": [],
   "source": [
    "bool(0)"
   ]
  },
  {
   "cell_type": "code",
   "execution_count": null,
   "id": "47ae9cc4",
   "metadata": {},
   "outputs": [],
   "source": [
    "bool(-1)"
   ]
  },
  {
   "cell_type": "code",
   "execution_count": null,
   "id": "15c34d23",
   "metadata": {},
   "outputs": [],
   "source": [
    "int(\"5\")"
   ]
  },
  {
   "cell_type": "markdown",
   "id": "69c9817a",
   "metadata": {},
   "source": [
    "#int('five') \\\n",
    "we cannot convert alphabets into numbers"
   ]
  },
  {
   "cell_type": "code",
   "execution_count": null,
   "id": "b81c2746",
   "metadata": {},
   "outputs": [],
   "source": [
    "float(False)"
   ]
  },
  {
   "cell_type": "code",
   "execution_count": null,
   "id": "86b013c1",
   "metadata": {},
   "outputs": [],
   "source": [
    "int(5.6)+float(1)+bool(23)+1.0 # both auto and forced typecasting"
   ]
  },
  {
   "cell_type": "code",
   "execution_count": null,
   "id": "618f1cab",
   "metadata": {},
   "outputs": [],
   "source": [
    "str(True)"
   ]
  },
  {
   "cell_type": "markdown",
   "id": "b0d4a0c6",
   "metadata": {},
   "source": [
    "## operators:-"
   ]
  },
  {
   "cell_type": "markdown",
   "id": "f23348c7",
   "metadata": {},
   "source": [
    "arthmetic operators:- + ,-,*,/,%,**,//"
   ]
  },
  {
   "cell_type": "code",
   "execution_count": null,
   "id": "1f83fd42",
   "metadata": {},
   "outputs": [],
   "source": [
    "a=5\n",
    "b=25\n",
    "#addition\n",
    "c=a+b\n",
    "c"
   ]
  },
  {
   "cell_type": "code",
   "execution_count": null,
   "id": "8350a078",
   "metadata": {},
   "outputs": [],
   "source": [
    "#concatenate "
   ]
  },
  {
   "cell_type": "code",
   "execution_count": null,
   "id": "d112b60e",
   "metadata": {},
   "outputs": [],
   "source": [
    "str8=str6+str7\n",
    "str8"
   ]
  },
  {
   "cell_type": "code",
   "execution_count": null,
   "id": "897fd077",
   "metadata": {},
   "outputs": [],
   "source": [
    "#substraction\n",
    "\n",
    "c=a-b\n",
    "c"
   ]
  },
  {
   "cell_type": "code",
   "execution_count": null,
   "id": "b960d8ea",
   "metadata": {},
   "outputs": [],
   "source": [
    "#multiplication\n",
    "c=a*b\n",
    "c"
   ]
  },
  {
   "cell_type": "code",
   "execution_count": null,
   "id": "ce452e74",
   "metadata": {},
   "outputs": [],
   "source": [
    "#power\n",
    "c=b**a\n",
    "c"
   ]
  },
  {
   "cell_type": "code",
   "execution_count": null,
   "id": "292aa3c3",
   "metadata": {},
   "outputs": [],
   "source": [
    "#division\n",
    "c= b/a #25/5\n",
    "c #prints qoutient"
   ]
  },
  {
   "cell_type": "code",
   "execution_count": null,
   "id": "e6cfb431",
   "metadata": {},
   "outputs": [],
   "source": [
    "c = a% b #5/25\n",
    "c #print reminder"
   ]
  },
  {
   "cell_type": "code",
   "execution_count": null,
   "id": "bbccbaf0",
   "metadata": {},
   "outputs": [],
   "source": [
    "c = b//a #25/5 \n",
    "c # print qoutient(whole number)"
   ]
  },
  {
   "cell_type": "markdown",
   "id": "f1e9fbfe",
   "metadata": {},
   "source": [
    "comparison operator:- > , < , >= , <= , == , !="
   ]
  },
  {
   "cell_type": "code",
   "execution_count": null,
   "id": "a0c24556",
   "metadata": {},
   "outputs": [],
   "source": [
    "a=x=1\n",
    "b=y=2\n",
    "print(a>b) #greater than\n",
    "print(a<b) #lesser than\n",
    "print(a>=b) #greater than or equal to\n",
    "print(a<=b) #lesser than or equal to\n",
    "print(x==y) # equal to - false\n",
    "print(x!=y) # not equal to - true\n"
   ]
  },
  {
   "cell_type": "markdown",
   "id": "ffadf298",
   "metadata": {},
   "source": [
    "All the symbols are represented in a computer using different types of encoding such as ASCII and Unicode.\n",
    "\n",
    "“American Standard Code For Information Interchange”. In the ASCII encoding, each character has been assigned a numeric value between 0 to 127. This numeric value associated to a character is called the ASCII value of the character. Use ord() to get ASCII value"
   ]
  },
  {
   "cell_type": "code",
   "execution_count": null,
   "id": "17f2b6e1",
   "metadata": {},
   "outputs": [],
   "source": [
    "print(a==b)# equal to \n",
    "print(a!=b)# NOT equal to"
   ]
  },
  {
   "cell_type": "code",
   "execution_count": null,
   "id": "151babee",
   "metadata": {},
   "outputs": [],
   "source": [
    "str6 > str7"
   ]
  },
  {
   "cell_type": "code",
   "execution_count": null,
   "id": "7f115bd8",
   "metadata": {},
   "outputs": [],
   "source": [
    "ord('a') \n",
    "#to find ascii value of a charecter"
   ]
  },
  {
   "cell_type": "code",
   "execution_count": null,
   "id": "0bf8f447",
   "metadata": {},
   "outputs": [],
   "source": [
    "ord('b')"
   ]
  },
  {
   "cell_type": "code",
   "execution_count": null,
   "id": "de4dffc6",
   "metadata": {},
   "outputs": [],
   "source": [
    "a>b"
   ]
  },
  {
   "cell_type": "code",
   "execution_count": null,
   "id": "bc291ea0",
   "metadata": {},
   "outputs": [],
   "source": [
    "a='abc'\n",
    "b='ABC'\n",
    "a==b\n"
   ]
  },
  {
   "cell_type": "markdown",
   "id": "b5946be8",
   "metadata": {},
   "source": [
    "logical operators:-\\\n",
    "and : when both conditionbecom true then the statement will true \n",
    "\n",
    "or  : if any condition use become true then the statement will true \n",
    "\n",
    "not : the is not True"
   ]
  },
  {
   "cell_type": "code",
   "execution_count": null,
   "id": "1651a240",
   "metadata": {},
   "outputs": [],
   "source": [
    "a>b and b>a\n",
    "#if both"
   ]
  },
  {
   "cell_type": "code",
   "execution_count": null,
   "id": "8c8a02ea",
   "metadata": {},
   "outputs": [],
   "source": [
    "a>b or b>a\n",
    "#if any"
   ]
  },
  {
   "cell_type": "code",
   "execution_count": null,
   "id": "576d8aba",
   "metadata": {},
   "outputs": [],
   "source": [
    "a>b"
   ]
  },
  {
   "cell_type": "code",
   "execution_count": null,
   "id": "de9ba417",
   "metadata": {},
   "outputs": [],
   "source": [
    "not a>b"
   ]
  },
  {
   "cell_type": "markdown",
   "id": "2081b840",
   "metadata": {},
   "source": [
    "day 4:-"
   ]
  },
  {
   "cell_type": "markdown",
   "id": "5aa51508",
   "metadata": {},
   "source": [
    "Bitwise operation"
   ]
  },
  {
   "cell_type": "code",
   "execution_count": null,
   "id": "7a41ba00",
   "metadata": {},
   "outputs": [],
   "source": [
    "x=18\n",
    "y=6\n",
    "print('bitwise AND operation - {}'.format(x&y))\n",
    "print('bitwise OR operstion - {}'.format(x|y))\n"
   ]
  },
  {
   "cell_type": "code",
   "execution_count": null,
   "id": "320cfb1d",
   "metadata": {},
   "outputs": [],
   "source": [
    "x&y\n",
    "# x-100010 \n",
    "# y-00110 \n",
    "# = 00010"
   ]
  },
  {
   "cell_type": "markdown",
   "id": "7fcd84a5",
   "metadata": {},
   "source": [
    "# conditional statements\n",
    "### if statement:-"
   ]
  },
  {
   "cell_type": "markdown",
   "id": "7b047f36",
   "metadata": {},
   "source": [
    "* A Python if statement evaluates whether a condition is equal to true or false. \n",
    "* The statement will execute a block of code if a specified condition is equal to true. Otherwise, the block of code within the if statement is not executed"
   ]
  },
  {
   "cell_type": "markdown",
   "id": "551882ca",
   "metadata": {},
   "source": [
    "intentetion:- 4 white spaces or 1 tap \\\n",
    "it is importent to use proper intentetion while doing the condtional statements"
   ]
  },
  {
   "cell_type": "markdown",
   "id": "ddf24800",
   "metadata": {},
   "source": [
    "syntax \\\n",
    "if condition: \\\n",
    "[intentetion]statement()\n"
   ]
  },
  {
   "cell_type": "code",
   "execution_count": null,
   "id": "85358678",
   "metadata": {},
   "outputs": [],
   "source": [
    "x=4\n",
    "if x==4:\n",
    "    print('x is equal to 4')\n",
    "print('end ')    \n",
    "       "
   ]
  },
  {
   "cell_type": "code",
   "execution_count": null,
   "id": "e203ac88",
   "metadata": {},
   "outputs": [],
   "source": [
    "x=4\n",
    "if x==4: \n",
    "    print('x is equal to 4') #if the condition is True \n",
    "else :\n",
    "    print('end  ') #if the condition is False\n",
    "    \n",
    "    "
   ]
  },
  {
   "cell_type": "markdown",
   "id": "eab53f2b",
   "metadata": {},
   "source": [
    "if(condition):\\\n",
    "[intentetion]statement\\\n",
    "\n",
    "else: \\\n",
    "[intentetion]statement"
   ]
  },
  {
   "cell_type": "code",
   "execution_count": null,
   "id": "ba2002bd",
   "metadata": {},
   "outputs": [],
   "source": [
    "x=3\n",
    "if x==4:\n",
    "    print('x is equal to 4')\n",
    "elif x==3:\n",
    "    print('x is equal to 3 ')\n",
    "else :\n",
    "    print('end ') "
   ]
  },
  {
   "cell_type": "markdown",
   "id": "edfc3349",
   "metadata": {},
   "source": [
    "if(condition):\n",
    "    statement\n",
    "elif(condition):\n",
    "    statement\n",
    "elif(condition):\n",
    "    statement\n",
    "else:\n",
    "    statement"
   ]
  },
  {
   "cell_type": "code",
   "execution_count": null,
   "id": "6702d56a",
   "metadata": {},
   "outputs": [],
   "source": [
    "x=2\n",
    "if x==4:\n",
    "    print('x is equal to 4')\n",
    "# print if condition is True\n",
    "elif x==3:\n",
    "    print('x is equal to 3 ') \n",
    "# print if previous condition is false and current condition is true \n",
    "elif x==2:\n",
    "    print('x is equal to 2 ')\n",
    "# print if previous condition is false and current condition is true \n",
    "elif x==1:\n",
    "    print('x is equal to 1 ')\n",
    "# print if previous condition is false and current condition is true \n",
    "elif x==0:\n",
    "    print('x is equal to 0 ')\n",
    "# print if previous condition is false and current condition is true \n",
    "else :\n",
    "    print(' x not equal to 1,2,3,4')\n",
    "# print if all previous conditions is False"
   ]
  },
  {
   "cell_type": "markdown",
   "id": "2d9f2a5b",
   "metadata": {},
   "source": [
    "nested if loop :- \\\n",
    "if(condition): \\\n",
    "\\    statement \\\n",
    "\\    if(condition):\n",
    "\\        statement\n",
    "\\        if(condition):\n",
    "\\            statement\n",
    "            "
   ]
  },
  {
   "cell_type": "code",
   "execution_count": null,
   "id": "048af556",
   "metadata": {},
   "outputs": [],
   "source": [
    "x=3\n",
    "if(x>1):\n",
    "    print('iam in 1st if')\n",
    "    if(x>2):\n",
    "        print('iam in 2nd if') \n",
    "        #print if previous condition is true and current condition is true \n",
    "        if(x>3):\n",
    "            print('iam in 3rd if')\n",
    "            #print if previous condition is true and current condition is true \n",
    "            if(x>4):\n",
    "                print('iam in 4st if')\n",
    "                #print if previous condition is true and current condition is true \n",
    "else :\n",
    "    print('iam in else ')"
   ]
  },
  {
   "cell_type": "code",
   "execution_count": null,
   "id": "59a40074",
   "metadata": {},
   "outputs": [],
   "source": [
    "x=3\n",
    "if(x>1):\n",
    "    print('iam in 1st if')\n",
    "    if(x>5):\n",
    "        print('iam in 2nd if') \n",
    "        #print if previous condition is true and current condition is true \n",
    "    if(x>4):\n",
    "        print('iam in 3rd if')\n",
    "            #print if previous condition is true and current condition is true \n",
    "    if(x>3):\n",
    "        print('iam in 4st if')\n",
    "                #print if previous condition is true and current condition is true \n",
    "else :\n",
    "    print('iam in else ')"
   ]
  },
  {
   "cell_type": "markdown",
   "id": "a202a282",
   "metadata": {},
   "source": [
    "input():- used to input values from user"
   ]
  },
  {
   "cell_type": "code",
   "execution_count": null,
   "id": "ed09ba49",
   "metadata": {},
   "outputs": [],
   "source": [
    "a=input(\"enter a number \")\n",
    "#input function can only input string values "
   ]
  },
  {
   "cell_type": "code",
   "execution_count": null,
   "id": "32bb5838",
   "metadata": {},
   "outputs": [],
   "source": [
    "print(a)"
   ]
  },
  {
   "cell_type": "code",
   "execution_count": null,
   "id": "01108437",
   "metadata": {},
   "outputs": [],
   "source": [
    "type(a)"
   ]
  },
  {
   "cell_type": "code",
   "execution_count": null,
   "id": "cc1dbee3",
   "metadata": {},
   "outputs": [],
   "source": [
    "b=int(input(\"enter a number \"))\n",
    "#in order to use input function to input another data type we need to do forced typecasting"
   ]
  },
  {
   "cell_type": "code",
   "execution_count": null,
   "id": "9c5e6643",
   "metadata": {},
   "outputs": [],
   "source": [
    "print(b)\n"
   ]
  },
  {
   "cell_type": "code",
   "execution_count": null,
   "id": "d62b8bef",
   "metadata": {},
   "outputs": [],
   "source": [
    "type(b)"
   ]
  },
  {
   "cell_type": "code",
   "execution_count": null,
   "id": "aadb9754",
   "metadata": {},
   "outputs": [],
   "source": [
    "x = int(input('enter any number'))\n",
    "if x>0:\n",
    "    print('x is +ve')\n",
    "elif x<0:\n",
    "    print('x is -ve')\n",
    "else :\n",
    "    print('x is zero') "
   ]
  },
  {
   "cell_type": "code",
   "execution_count": null,
   "id": "35508b74",
   "metadata": {},
   "outputs": [],
   "source": [
    "x = int(input('enter any number'))\n",
    "y = int(input('enter any number'))\n",
    "if x==y:\n",
    "    print('x is equal to y')\n",
    "elif x<y:\n",
    "    print('x is lesser than y')\n",
    "else :\n",
    "    print('x is greater than y') \n",
    "if x>0:\n",
    "    print('x is +ve')\n",
    "elif x<0:\n",
    "    print('x is -ve')\n",
    "else :\n",
    "    print('x is zero')\n",
    "if y>0:\n",
    "    print('y is +ve')\n",
    "elif y<0:\n",
    "    print('y is -ve')\n",
    "else :\n",
    "    print('y is zero')"
   ]
  },
  {
   "cell_type": "markdown",
   "id": "84470f96",
   "metadata": {},
   "source": [
    "## pythons packages"
   ]
  },
  {
   "cell_type": "markdown",
   "id": "d9617740",
   "metadata": {},
   "source": [
    "software which holds certain functionalities \n",
    "packeges is collection of modules(python file) \\\n",
    "modules are collections of submodules(contains functions for a task )\\\n",
    "submodules are collection of function(code for a specific task)\\\n",
    "each funtions contain certain artibutes (specific value)"
   ]
  },
  {
   "cell_type": "markdown",
   "id": "0404bd60",
   "metadata": {},
   "source": [
    "contain modules and submodules \\\n",
    "eg,\n",
    " -    from datetime import date"
   ]
  },
  {
   "cell_type": "markdown",
   "id": "741299ce",
   "metadata": {},
   "source": [
    "#### datetime packeges\n",
    "contain modules related to time and date\\\n",
    "eg,\\\n",
    "datetime library:- date,time,datetime,timedelta\n"
   ]
  },
  {
   "cell_type": "markdown",
   "id": "205c55b1",
   "metadata": {},
   "source": [
    "1)date – An idealized naive date, assuming the current Gregorian calendar always was, and always will be, in effect. Its attributes are year, month and day.\n",
    "\n",
    "\n",
    "2)time – An idealized time, independent of any particular day, assuming that every day has exactly 24*60*60 seconds. Its attributes are hour, minute, second, microsecond.\n",
    "\n",
    "3)datetime – Its a combination of date and time along with the attributes year, month, day, hour, minute, second, microsecond.\n",
    "\n",
    "4)timedelta – A duration expressing the difference between two date, time, or datetime instances to microsecond resolution."
   ]
  },
  {
   "cell_type": "code",
   "execution_count": null,
   "id": "3d1c77d3",
   "metadata": {},
   "outputs": [],
   "source": [
    "from datetime import date\n",
    "d= date(2023,7,5) # atributes(year,month,day)"
   ]
  },
  {
   "cell_type": "code",
   "execution_count": null,
   "id": "fb31cedb",
   "metadata": {},
   "outputs": [],
   "source": [
    "print(d)"
   ]
  },
  {
   "cell_type": "code",
   "execution_count": null,
   "id": "2138531a",
   "metadata": {},
   "outputs": [],
   "source": [
    "type(d)"
   ]
  },
  {
   "cell_type": "code",
   "execution_count": null,
   "id": "7fbbf7b8",
   "metadata": {},
   "outputs": [],
   "source": [
    "d\n"
   ]
  },
  {
   "cell_type": "code",
   "execution_count": null,
   "id": "b9686de5",
   "metadata": {},
   "outputs": [],
   "source": [
    "d.day\n"
   ]
  },
  {
   "cell_type": "code",
   "execution_count": null,
   "id": "2e994e1c",
   "metadata": {},
   "outputs": [],
   "source": [
    "d.month\n"
   ]
  },
  {
   "cell_type": "code",
   "execution_count": null,
   "id": "ba8f6d02",
   "metadata": {},
   "outputs": [],
   "source": [
    "d.year"
   ]
  },
  {
   "cell_type": "code",
   "execution_count": null,
   "id": "6f229684",
   "metadata": {},
   "outputs": [],
   "source": [
    "#for getting current date use \n",
    "#date.today()\n",
    "print(\"today is \",date.today())"
   ]
  },
  {
   "cell_type": "code",
   "execution_count": null,
   "id": "4434ad08",
   "metadata": {},
   "outputs": [],
   "source": [
    "today1=date.today()"
   ]
  },
  {
   "cell_type": "code",
   "execution_count": null,
   "id": "bfe73912",
   "metadata": {},
   "outputs": [],
   "source": [
    "today1.isoweekday()#monday=1,tuesday is 2,...."
   ]
  },
  {
   "cell_type": "code",
   "execution_count": null,
   "id": "556c2a76",
   "metadata": {},
   "outputs": [],
   "source": [
    "from datetime import datetime as dt #imprting module datetime from datetime library as dt"
   ]
  },
  {
   "cell_type": "code",
   "execution_count": null,
   "id": "86683285",
   "metadata": {},
   "outputs": [],
   "source": [
    "a=dt.now() # now()can return current date and time\n",
    "a# (year,month,day,hour,minute,second,microsecond)"
   ]
  },
  {
   "cell_type": "code",
   "execution_count": null,
   "id": "1fae5588",
   "metadata": {},
   "outputs": [],
   "source": [
    "a.year"
   ]
  },
  {
   "cell_type": "code",
   "execution_count": null,
   "id": "48ac718e",
   "metadata": {},
   "outputs": [],
   "source": [
    "a.month"
   ]
  },
  {
   "cell_type": "code",
   "execution_count": null,
   "id": "cc9e65df",
   "metadata": {},
   "outputs": [],
   "source": [
    "a.day"
   ]
  },
  {
   "cell_type": "code",
   "execution_count": null,
   "id": "74bd2e1d",
   "metadata": {},
   "outputs": [],
   "source": [
    "a.time()"
   ]
  },
  {
   "cell_type": "code",
   "execution_count": null,
   "id": "128bcd38",
   "metadata": {},
   "outputs": [],
   "source": [
    "a.hour"
   ]
  },
  {
   "cell_type": "code",
   "execution_count": null,
   "id": "543fa0fd",
   "metadata": {},
   "outputs": [],
   "source": [
    "a.minute\n"
   ]
  },
  {
   "cell_type": "code",
   "execution_count": null,
   "id": "00b28174",
   "metadata": {},
   "outputs": [],
   "source": [
    "a.second"
   ]
  },
  {
   "cell_type": "code",
   "execution_count": null,
   "id": "8f082a80",
   "metadata": {},
   "outputs": [],
   "source": [
    "a.microsecond"
   ]
  },
  {
   "cell_type": "code",
   "execution_count": null,
   "id": "c2025f7e",
   "metadata": {},
   "outputs": [],
   "source": [
    "type(a)"
   ]
  },
  {
   "cell_type": "markdown",
   "id": "c3a9e4cb",
   "metadata": {},
   "source": [
    "day 5:-\n"
   ]
  },
  {
   "cell_type": "code",
   "execution_count": null,
   "id": "0c92e304",
   "metadata": {},
   "outputs": [],
   "source": [
    "%who\n"
   ]
  },
  {
   "cell_type": "code",
   "execution_count": null,
   "id": "bdd24e23",
   "metadata": {},
   "outputs": [],
   "source": [
    "a.date()"
   ]
  },
  {
   "cell_type": "code",
   "execution_count": null,
   "id": "dad46246",
   "metadata": {},
   "outputs": [],
   "source": [
    "date1=dt.now()"
   ]
  },
  {
   "cell_type": "code",
   "execution_count": null,
   "id": "dc82d092",
   "metadata": {},
   "outputs": [],
   "source": [
    "print(dt.date(date1))"
   ]
  },
  {
   "cell_type": "code",
   "execution_count": null,
   "id": "c147e969",
   "metadata": {},
   "outputs": [],
   "source": [
    "print(dt.time(date1))"
   ]
  },
  {
   "cell_type": "code",
   "execution_count": null,
   "id": "26cedcb8",
   "metadata": {},
   "outputs": [],
   "source": [
    "#time submodule\n",
    "from datetime import time"
   ]
  },
  {
   "cell_type": "code",
   "execution_count": null,
   "id": "3413b070",
   "metadata": {},
   "outputs": [],
   "source": [
    "my_time1=time(1,2,3)"
   ]
  },
  {
   "cell_type": "code",
   "execution_count": null,
   "id": "01da2ca9",
   "metadata": {},
   "outputs": [],
   "source": [
    "my_time1"
   ]
  },
  {
   "cell_type": "code",
   "execution_count": null,
   "id": "1c64e9a7",
   "metadata": {},
   "outputs": [],
   "source": [
    "my_time1.microsecond"
   ]
  },
  {
   "cell_type": "code",
   "execution_count": null,
   "id": "3d3c733e",
   "metadata": {},
   "outputs": [],
   "source": [
    "my_time2=time(4,3,2,100)"
   ]
  },
  {
   "cell_type": "code",
   "execution_count": null,
   "id": "785c686c",
   "metadata": {},
   "outputs": [],
   "source": [
    "my_time2"
   ]
  },
  {
   "cell_type": "code",
   "execution_count": null,
   "id": "1c31c3a3",
   "metadata": {},
   "outputs": [],
   "source": [
    "my_time2.microsecond"
   ]
  },
  {
   "cell_type": "code",
   "execution_count": null,
   "id": "4654ba6c",
   "metadata": {},
   "outputs": [],
   "source": [
    "# date.today()+7 we cant't add other data types to date module,\n",
    "#we have to add timedelta module to do any type of operations or manipulation"
   ]
  },
  {
   "cell_type": "code",
   "execution_count": null,
   "id": "dba9c189",
   "metadata": {},
   "outputs": [],
   "source": [
    "from datetime import timedelta"
   ]
  },
  {
   "cell_type": "code",
   "execution_count": null,
   "id": "b2b0dc06",
   "metadata": {},
   "outputs": [],
   "source": [
    "current_date=date.today()"
   ]
  },
  {
   "cell_type": "code",
   "execution_count": null,
   "id": "65a6bca9",
   "metadata": {},
   "outputs": [],
   "source": [
    "#calculating future dates"
   ]
  },
  {
   "cell_type": "code",
   "execution_count": null,
   "id": "13e33730",
   "metadata": {},
   "outputs": [],
   "source": [
    "future_date_after_2week=current_date+timedelta(14)"
   ]
  },
  {
   "cell_type": "code",
   "execution_count": null,
   "id": "390b5508",
   "metadata": {},
   "outputs": [],
   "source": [
    "current_date\n"
   ]
  },
  {
   "cell_type": "code",
   "execution_count": null,
   "id": "ad64564f",
   "metadata": {},
   "outputs": [],
   "source": [
    "future_date_after_2week"
   ]
  },
  {
   "cell_type": "code",
   "execution_count": null,
   "id": "3e352d7f",
   "metadata": {},
   "outputs": [],
   "source": [
    "future_date_after_2week=current_date+timedelta(weeks=2)"
   ]
  },
  {
   "cell_type": "code",
   "execution_count": null,
   "id": "d7d20ffb",
   "metadata": {},
   "outputs": [],
   "source": [
    "future_date_after_2week"
   ]
  },
  {
   "cell_type": "code",
   "execution_count": null,
   "id": "d09f8b58",
   "metadata": {},
   "outputs": [],
   "source": [
    "future_date_after_2years=current_date+timedelta(730)"
   ]
  },
  {
   "cell_type": "code",
   "execution_count": null,
   "id": "ac5c9cbc",
   "metadata": {},
   "outputs": [],
   "source": [
    "future_date_after_2years"
   ]
  },
  {
   "cell_type": "code",
   "execution_count": null,
   "id": "57a0ba74",
   "metadata": {},
   "outputs": [],
   "source": [
    "past_date_before_2years=current_date-timedelta(730)\n"
   ]
  },
  {
   "cell_type": "code",
   "execution_count": null,
   "id": "972be005",
   "metadata": {},
   "outputs": [],
   "source": [
    "past_date_before_2years"
   ]
  },
  {
   "cell_type": "code",
   "execution_count": null,
   "id": "e91e3171",
   "metadata": {},
   "outputs": [],
   "source": [
    "dob=date(2001,8,28)"
   ]
  },
  {
   "cell_type": "code",
   "execution_count": null,
   "id": "3f3ec82f",
   "metadata": {},
   "outputs": [],
   "source": [
    "age=date.today()+timedelta(5000)"
   ]
  },
  {
   "cell_type": "code",
   "execution_count": null,
   "id": "0432cfdc",
   "metadata": {},
   "outputs": [],
   "source": [
    "age"
   ]
  },
  {
   "cell_type": "code",
   "execution_count": null,
   "id": "5d22d388",
   "metadata": {},
   "outputs": [],
   "source": [
    "((age-dob)/365)"
   ]
  },
  {
   "cell_type": "code",
   "execution_count": null,
   "id": "5f6960e9",
   "metadata": {},
   "outputs": [],
   "source": [
    "age.year"
   ]
  },
  {
   "cell_type": "code",
   "execution_count": null,
   "id": "33ce354c",
   "metadata": {},
   "outputs": [],
   "source": [
    "age1=age-dob"
   ]
  },
  {
   "cell_type": "code",
   "execution_count": null,
   "id": "9d5e1e7c",
   "metadata": {},
   "outputs": [],
   "source": []
  },
  {
   "cell_type": "code",
   "execution_count": null,
   "id": "0ef84f63",
   "metadata": {},
   "outputs": [],
   "source": [
    "age1"
   ]
  },
  {
   "cell_type": "code",
   "execution_count": null,
   "id": "3e4b4d1b",
   "metadata": {},
   "outputs": [],
   "source": [
    "age7=age1/365"
   ]
  },
  {
   "cell_type": "code",
   "execution_count": null,
   "id": "722db5bc",
   "metadata": {},
   "outputs": [],
   "source": [
    "age7.days"
   ]
  },
  {
   "cell_type": "code",
   "execution_count": null,
   "id": "379de070",
   "metadata": {},
   "outputs": [],
   "source": [
    "age7"
   ]
  },
  {
   "cell_type": "code",
   "execution_count": null,
   "id": "d58ff2a8",
   "metadata": {},
   "outputs": [],
   "source": [
    "dob.year"
   ]
  },
  {
   "cell_type": "code",
   "execution_count": null,
   "id": "74d53e75",
   "metadata": {},
   "outputs": [],
   "source": [
    "age.year - dob.year"
   ]
  },
  {
   "cell_type": "markdown",
   "id": "3bd26ee6",
   "metadata": {},
   "source": [
    "## python data structures :- \n",
    "Data structures organizes and stores the data in an efficient manner so that they can be modified and accessed easily.\n",
    "#### list:-\n",
    "\n",
    "\\\n",
    "List[ ] -mutable,indexed,ordered,duplicate values,heterogeous(mixed type)\\\n",
    "\n"
   ]
  },
  {
   "cell_type": "markdown",
   "id": "03278f09",
   "metadata": {},
   "source": [
    "* 1)\tList is a sequence of items.\n",
    "* 2)\tWe can have different data types under a list.E.g we can have integer, float and string items in a same list.\n",
    "* 3) List is indexed, ordered\n",
    "* 4) List can have duplicate values\n",
    "* 5) List is mutable - editable (change the values in list)"
   ]
  },
  {
   "cell_type": "code",
   "execution_count": null,
   "id": "07fa4180",
   "metadata": {},
   "outputs": [],
   "source": [
    "#list\n",
    "list1=[1,2,3.0]\n",
    "list2=list((4,5.0,'abc',True))\n",
    "print(list1,list2)\n",
    "type(list1)"
   ]
  },
  {
   "cell_type": "code",
   "execution_count": null,
   "id": "2a6de3db",
   "metadata": {},
   "outputs": [],
   "source": [
    "list2[2]='ABC'\n",
    "list2"
   ]
  },
  {
   "cell_type": "code",
   "execution_count": null,
   "id": "62129583",
   "metadata": {},
   "outputs": [],
   "source": [
    "list1+list2"
   ]
  },
  {
   "cell_type": "code",
   "execution_count": null,
   "id": "4ed6e6b2",
   "metadata": {},
   "outputs": [],
   "source": [
    "#empty list:-\n",
    "empty_list=[]\n",
    "empty_list\n"
   ]
  },
  {
   "cell_type": "code",
   "execution_count": null,
   "id": "f9db7fd2",
   "metadata": {},
   "outputs": [],
   "source": [
    "type(empty_list)"
   ]
  },
  {
   "cell_type": "markdown",
   "id": "03e6e2ae",
   "metadata": {},
   "source": [
    "nested list:- we use nested list also "
   ]
  },
  {
   "cell_type": "code",
   "execution_count": null,
   "id": "e2376258",
   "metadata": {},
   "outputs": [],
   "source": [
    "list3=['data',25,[50,100],[200,300]]\n",
    "list3"
   ]
  },
  {
   "cell_type": "code",
   "execution_count": null,
   "id": "12979446",
   "metadata": {},
   "outputs": [],
   "source": [
    "list3[2]"
   ]
  },
  {
   "cell_type": "code",
   "execution_count": null,
   "id": "4d5812da",
   "metadata": {},
   "outputs": [],
   "source": [
    "len(list3)"
   ]
  },
  {
   "cell_type": "code",
   "execution_count": null,
   "id": "0494d44e",
   "metadata": {},
   "outputs": [],
   "source": [
    "list4=[3,'yy',55]\n",
    "list4"
   ]
  },
  {
   "cell_type": "markdown",
   "id": "a30d33b8",
   "metadata": {},
   "source": [
    "join list:-"
   ]
  },
  {
   "cell_type": "markdown",
   "id": "3f32ecea",
   "metadata": {},
   "source": [
    "list4=list1+list2+list3[0:3]\n",
    "list4"
   ]
  },
  {
   "cell_type": "markdown",
   "id": "ecf7cd13",
   "metadata": {},
   "source": [
    "extend():-use to extend list with other list\n"
   ]
  },
  {
   "cell_type": "code",
   "execution_count": null,
   "id": "c37d5665",
   "metadata": {},
   "outputs": [],
   "source": [
    "list2.extend(list1)#list2 will extend"
   ]
  },
  {
   "cell_type": "code",
   "execution_count": null,
   "id": "56831941",
   "metadata": {},
   "outputs": [],
   "source": [
    "list2"
   ]
  },
  {
   "cell_type": "markdown",
   "id": "21ea7968",
   "metadata": {},
   "source": [
    "append():-we can add one element at end in a list\n"
   ]
  },
  {
   "cell_type": "code",
   "execution_count": null,
   "id": "023f4931",
   "metadata": {},
   "outputs": [],
   "source": [
    "list4.append(\"end\")\n",
    "list4"
   ]
  },
  {
   "cell_type": "markdown",
   "id": "c06d3cd7",
   "metadata": {},
   "source": [
    "insert ():- we can add any element to in specific index "
   ]
  },
  {
   "cell_type": "code",
   "execution_count": null,
   "id": "60ae94ee",
   "metadata": {},
   "outputs": [],
   "source": [
    "list4.insert(0,'start')\n",
    "list4"
   ]
  },
  {
   "cell_type": "markdown",
   "id": "22a253f9",
   "metadata": {},
   "source": [
    "extend():- we can add multiple elements at end"
   ]
  },
  {
   "cell_type": "code",
   "execution_count": null,
   "id": "a224ab7f",
   "metadata": {},
   "outputs": [],
   "source": [
    "list4.extend((0,1,'end'))\n",
    "list4"
   ]
  },
  {
   "cell_type": "markdown",
   "id": "a9f9099a",
   "metadata": {},
   "source": [
    "we can remove element by \n",
    "remove():- we can remove  specific element \n",
    "pop():-we can remove  element at specific index\n",
    "del:-we delete element using this command"
   ]
  },
  {
   "cell_type": "code",
   "execution_count": null,
   "id": "4ed37001",
   "metadata": {},
   "outputs": [],
   "source": [
    "list6=[0,1,2,3,4]"
   ]
  },
  {
   "cell_type": "code",
   "execution_count": null,
   "id": "8523c2cb",
   "metadata": {},
   "outputs": [],
   "source": [
    "list6.remove(4)\n",
    "list6"
   ]
  },
  {
   "cell_type": "code",
   "execution_count": null,
   "id": "1ff4a146",
   "metadata": {},
   "outputs": [],
   "source": [
    "list6.pop(2)"
   ]
  },
  {
   "cell_type": "code",
   "execution_count": null,
   "id": "c54dfbbc",
   "metadata": {},
   "outputs": [],
   "source": [
    "list6"
   ]
  },
  {
   "cell_type": "code",
   "execution_count": null,
   "id": "7b17f1c4",
   "metadata": {},
   "outputs": [],
   "source": [
    "del list6[0]"
   ]
  },
  {
   "cell_type": "code",
   "execution_count": null,
   "id": "269ac16a",
   "metadata": {},
   "outputs": [],
   "source": [
    "list6"
   ]
  },
  {
   "cell_type": "markdown",
   "id": "9dae0ad7",
   "metadata": {},
   "source": [
    "day6:-"
   ]
  },
  {
   "cell_type": "code",
   "execution_count": null,
   "id": "02fe1eb7",
   "metadata": {},
   "outputs": [],
   "source": [
    "%who"
   ]
  },
  {
   "cell_type": "markdown",
   "id": "18ba68c2",
   "metadata": {},
   "source": [
    "list membership:-"
   ]
  },
  {
   "cell_type": "markdown",
   "id": "6cce41cb",
   "metadata": {},
   "source": [
    "in :- is used to check whether a specific element present or not"
   ]
  },
  {
   "cell_type": "code",
   "execution_count": null,
   "id": "0f8677e6",
   "metadata": {},
   "outputs": [],
   "source": [
    "list1"
   ]
  },
  {
   "cell_type": "code",
   "execution_count": null,
   "id": "04d94ee1",
   "metadata": {},
   "outputs": [],
   "source": [
    "1 in list1"
   ]
  },
  {
   "cell_type": "code",
   "execution_count": null,
   "id": "6a95bf2e",
   "metadata": {},
   "outputs": [],
   "source": [
    "'one' in list1"
   ]
  },
  {
   "cell_type": "code",
   "execution_count": null,
   "id": "99b84207",
   "metadata": {},
   "outputs": [],
   "source": [
    "3 in list1"
   ]
  },
  {
   "cell_type": "markdown",
   "id": "95ee68d7",
   "metadata": {},
   "source": [
    "reverse():- used to reverse or sort element in a list"
   ]
  },
  {
   "cell_type": "code",
   "execution_count": null,
   "id": "088b49f3",
   "metadata": {},
   "outputs": [],
   "source": [
    "list1[::-1]"
   ]
  },
  {
   "cell_type": "code",
   "execution_count": null,
   "id": "866f5ed3",
   "metadata": {},
   "outputs": [],
   "source": [
    "list1\n"
   ]
  },
  {
   "cell_type": "code",
   "execution_count": null,
   "id": "dac30e90",
   "metadata": {},
   "outputs": [],
   "source": [
    "list1.reverse()"
   ]
  },
  {
   "cell_type": "code",
   "execution_count": null,
   "id": "ee0e5176",
   "metadata": {},
   "outputs": [],
   "source": [
    "list1"
   ]
  },
  {
   "cell_type": "markdown",
   "id": "c87f653c",
   "metadata": {},
   "source": [
    "sort():- use to change a list in iether ascending or descending order \\\n",
    "    *default in ascending order \\\n",
    "categorial-a,b,c,d \\\n",
    "numerical- 1,2,3 \\\n",
    "in order to get descending order we have to use * reverse=True \\\n",
    "we cant sort a list with multiple datatypes"
   ]
  },
  {
   "cell_type": "code",
   "execution_count": null,
   "id": "25f6b57f",
   "metadata": {},
   "outputs": [],
   "source": [
    "list1.sort()"
   ]
  },
  {
   "cell_type": "code",
   "execution_count": null,
   "id": "ff8bebff",
   "metadata": {},
   "outputs": [],
   "source": [
    "list1"
   ]
  },
  {
   "cell_type": "code",
   "execution_count": null,
   "id": "0d87e144",
   "metadata": {},
   "outputs": [],
   "source": [
    "list1.sort(reverse=True)"
   ]
  },
  {
   "cell_type": "code",
   "execution_count": null,
   "id": "0fd951e9",
   "metadata": {},
   "outputs": [],
   "source": [
    "list1"
   ]
  },
  {
   "cell_type": "markdown",
   "id": "46cb961a",
   "metadata": {},
   "source": [
    "all() \\\n",
    "    True - if all elements in a list are true\\\n",
    "    False- if any elements in a list is false\\\n",
    "any()\\\n",
    "    True:-if any elements in a list are true\\\n",
    "    False- if all elements in a list is false\\\n"
   ]
  },
  {
   "cell_type": "code",
   "execution_count": null,
   "id": "6a7bbe16",
   "metadata": {},
   "outputs": [],
   "source": [
    "all(list1)"
   ]
  },
  {
   "cell_type": "code",
   "execution_count": null,
   "id": "471aad94",
   "metadata": {},
   "outputs": [],
   "source": [
    "any(list1)"
   ]
  },
  {
   "cell_type": "markdown",
   "id": "5238c9b0",
   "metadata": {},
   "source": [
    "#### tuple\n",
    "Tuples:- similar to list but elements immutable,indexed,ordered,accepts duplicate,uses () & tuple() \\\n",
    "preferable when we do not want to change the data over time \\\n",
    "iterating over the element of a tuple is faster over list \\\n",
    "we can use different data types in tuple\\\n",
    "uses normal bracket\\\n",
    "hashable\\"
   ]
  },
  {
   "cell_type": "code",
   "execution_count": null,
   "id": "4060cde2",
   "metadata": {},
   "outputs": [],
   "source": [
    "tuple1=()#empty tuple\n",
    "type(tuple1)"
   ]
  },
  {
   "cell_type": "code",
   "execution_count": null,
   "id": "79787ed5",
   "metadata": {},
   "outputs": [],
   "source": [
    "tuple2=(1,2,3)\n",
    "type(tuple2)\n"
   ]
  },
  {
   "cell_type": "code",
   "execution_count": null,
   "id": "d353d4c7",
   "metadata": {},
   "outputs": [],
   "source": [
    "tuple3=tuple(['four','five',[6,5],[7,8] ])\n",
    "tuple3"
   ]
  },
  {
   "cell_type": "code",
   "execution_count": null,
   "id": "924b69fd",
   "metadata": {},
   "outputs": [],
   "source": [
    "\n",
    "tuple4=tuple1+tuple2+tuple3\n",
    "len(tuple1+tuple2+tuple3)"
   ]
  },
  {
   "cell_type": "code",
   "execution_count": null,
   "id": "9d6df5dd",
   "metadata": {},
   "outputs": [],
   "source": [
    "tuple3\n"
   ]
  },
  {
   "cell_type": "code",
   "execution_count": null,
   "id": "1b71cc22",
   "metadata": {},
   "outputs": [],
   "source": [
    "tuple3[2]\n"
   ]
  },
  {
   "cell_type": "code",
   "execution_count": null,
   "id": "f0836b63",
   "metadata": {},
   "outputs": [],
   "source": [
    "tuple3[2][0]"
   ]
  },
  {
   "cell_type": "code",
   "execution_count": null,
   "id": "d1224319",
   "metadata": {},
   "outputs": [],
   "source": [
    "tuple3[2][1]"
   ]
  },
  {
   "cell_type": "code",
   "execution_count": null,
   "id": "b1c969f2",
   "metadata": {},
   "outputs": [],
   "source": [
    "tuple4[:]"
   ]
  },
  {
   "cell_type": "code",
   "execution_count": null,
   "id": "47129ea0",
   "metadata": {},
   "outputs": [],
   "source": [
    "tuple4[0:]"
   ]
  },
  {
   "cell_type": "code",
   "execution_count": null,
   "id": "79b7f92d",
   "metadata": {},
   "outputs": [],
   "source": [
    "tuple4[:0]"
   ]
  },
  {
   "cell_type": "code",
   "execution_count": null,
   "id": "5dd19310",
   "metadata": {},
   "outputs": [],
   "source": [
    "tuple4[0:1]"
   ]
  },
  {
   "cell_type": "code",
   "execution_count": null,
   "id": "838cc969",
   "metadata": {},
   "outputs": [],
   "source": [
    "tuple4[-7:]"
   ]
  },
  {
   "cell_type": "code",
   "execution_count": null,
   "id": "74c8b744",
   "metadata": {},
   "outputs": [],
   "source": [
    "tuple4[:-7]"
   ]
  },
  {
   "cell_type": "code",
   "execution_count": null,
   "id": "16261425",
   "metadata": {},
   "outputs": [],
   "source": [
    "tuple4[::-1]"
   ]
  },
  {
   "cell_type": "code",
   "execution_count": null,
   "id": "8fc01951",
   "metadata": {},
   "outputs": [],
   "source": [
    "# del tuple4 :-deletes tuple4"
   ]
  },
  {
   "cell_type": "markdown",
   "id": "0147bf70",
   "metadata": {},
   "source": [
    "count():-used to count how many times a element occurs in the tuple"
   ]
  },
  {
   "cell_type": "code",
   "execution_count": null,
   "id": "a677e3a2",
   "metadata": {},
   "outputs": [],
   "source": [
    "tuple4"
   ]
  },
  {
   "cell_type": "code",
   "execution_count": null,
   "id": "391e8efd",
   "metadata": {},
   "outputs": [],
   "source": [
    "tuple4.count('five')\n"
   ]
  },
  {
   "cell_type": "code",
   "execution_count": null,
   "id": "8dd71af9",
   "metadata": {},
   "outputs": [],
   "source": [
    "tuple4.count(6)"
   ]
  },
  {
   "cell_type": "code",
   "execution_count": null,
   "id": "d607b91e",
   "metadata": {},
   "outputs": [],
   "source": [
    "tuple4.index(3)"
   ]
  },
  {
   "cell_type": "code",
   "execution_count": null,
   "id": "11de1aaf",
   "metadata": {},
   "outputs": [],
   "source": [
    "tuple4.index([6,5])"
   ]
  },
  {
   "cell_type": "code",
   "execution_count": null,
   "id": "766686dd",
   "metadata": {},
   "outputs": [],
   "source": [
    "5 in tuple4"
   ]
  },
  {
   "cell_type": "code",
   "execution_count": null,
   "id": "7f737dfe",
   "metadata": {},
   "outputs": [],
   "source": [
    "[6,5] in tuple4"
   ]
  },
  {
   "cell_type": "markdown",
   "id": "8cf0fefe",
   "metadata": {},
   "source": [
    "we cannot use sort() in tuple hence it is immutable"
   ]
  },
  {
   "cell_type": "code",
   "execution_count": null,
   "id": "71363103",
   "metadata": {},
   "outputs": [],
   "source": [
    "sorted(tuple2)"
   ]
  },
  {
   "cell_type": "code",
   "execution_count": null,
   "id": "623fffa6",
   "metadata": {},
   "outputs": [],
   "source": [
    "sorted(tuple2,reverse=True)"
   ]
  },
  {
   "cell_type": "code",
   "execution_count": null,
   "id": "1f96d1fb",
   "metadata": {},
   "outputs": [],
   "source": [
    "tuple2"
   ]
  },
  {
   "cell_type": "markdown",
   "id": "17ab0b0b",
   "metadata": {},
   "source": [
    "#### set :-"
   ]
  },
  {
   "cell_type": "markdown",
   "id": "74a4f7aa",
   "metadata": {},
   "source": [
    "use {} \\\n",
    "immutable,unindexed,unordered,not allow duplicate elements\\\n",
    "can have multiple data types \\\n",
    "hashable\\\n"
   ]
  },
  {
   "cell_type": "code",
   "execution_count": null,
   "id": "41f81d94",
   "metadata": {},
   "outputs": [],
   "source": [
    "set1={2,3,1,True,'a',3.1}\n",
    "set1"
   ]
  },
  {
   "cell_type": "code",
   "execution_count": null,
   "id": "5f5047f3",
   "metadata": {},
   "outputs": [],
   "source": [
    "type(set1)"
   ]
  },
  {
   "cell_type": "code",
   "execution_count": null,
   "id": "c3f2fc15",
   "metadata": {},
   "outputs": [],
   "source": [
    "set0={} # we can get a dectionary whenever we uses empty set\n",
    "type(set0)"
   ]
  },
  {
   "cell_type": "code",
   "execution_count": null,
   "id": "1248779a",
   "metadata": {},
   "outputs": [],
   "source": [
    "set2={4,5,'six',(7,8)}\n",
    "set2"
   ]
  },
  {
   "cell_type": "code",
   "execution_count": null,
   "id": "56d7c0f0",
   "metadata": {},
   "outputs": [],
   "source": [
    "set2.add(9)#we can add a element to set\n",
    "set2"
   ]
  },
  {
   "cell_type": "code",
   "execution_count": null,
   "id": "03a95d83",
   "metadata": {},
   "outputs": [],
   "source": [
    "set2.update([1,2])#we can add a element to set\n",
    "set2"
   ]
  },
  {
   "cell_type": "code",
   "execution_count": null,
   "id": "dff7194e",
   "metadata": {},
   "outputs": [],
   "source": [
    "set2.remove('six')\n",
    "set2"
   ]
  },
  {
   "cell_type": "code",
   "execution_count": null,
   "id": "2f30b5f2",
   "metadata": {},
   "outputs": [],
   "source": [
    "set2.discard(9)# discard function dont show error even if the element is not pressent\n",
    "set2"
   ]
  },
  {
   "cell_type": "markdown",
   "id": "7731567e",
   "metadata": {},
   "source": [
    "day 7:-"
   ]
  },
  {
   "cell_type": "markdown",
   "id": "d9a8dfa1",
   "metadata": {},
   "source": [
    "## python loops"
   ]
  },
  {
   "cell_type": "markdown",
   "id": "e355ed7a",
   "metadata": {},
   "source": [
    "#### while loop:-"
   ]
  },
  {
   "cell_type": "markdown",
   "id": "c480979a",
   "metadata": {},
   "source": [
    "while loop is used to execute a block statements"
   ]
  },
  {
   "cell_type": "code",
   "execution_count": null,
   "id": "b2289302",
   "metadata": {},
   "outputs": [],
   "source": [
    "# simple while loop\n",
    "i=-10\n",
    "while i<10:\n",
    "    print('while condition is true',i)\n",
    "    i+=1 # i==>i+1"
   ]
  },
  {
   "cell_type": "code",
   "execution_count": null,
   "id": "9637adde",
   "metadata": {},
   "outputs": [],
   "source": [
    "#while loop with break\n",
    "# break is used to stop the loop even if while condition is true\n",
    "i=-10\n",
    "while i<10:\n",
    "    print('while condition is true',i)\n",
    "    if i==4:\n",
    "        break\n",
    "    i+=1 # i==>i+1"
   ]
  },
  {
   "cell_type": "code",
   "execution_count": null,
   "id": "77302bb5",
   "metadata": {},
   "outputs": [],
   "source": [
    "# while loop with continue statement\n",
    "# break is used to stop the loop even if while condition is true\n",
    "i=-10\n",
    "while i<10:\n",
    "    i+=1 # i==>i+1\n",
    "    \n",
    "    if i==4:\n",
    "        continue\n",
    "    print(i)\n",
    "    print('while condition is true',i)"
   ]
  },
  {
   "cell_type": "code",
   "execution_count": null,
   "id": "6bc55dff",
   "metadata": {},
   "outputs": [],
   "source": [
    "# while loop with else statement\n",
    "i=-10\n",
    "while i<10:\n",
    "    print('while condition is true',i)\n",
    "    i+=1 # i==>i+1\n",
    "else:\n",
    "     print('while condition is false')\n",
    "print('out of loop')"
   ]
  },
  {
   "cell_type": "markdown",
   "id": "ecb0a4e0",
   "metadata": {},
   "source": [
    "#### for loop:-"
   ]
  },
  {
   "cell_type": "markdown",
   "id": "98e01688",
   "metadata": {},
   "source": [
    "for loops are used to loop through an iteration object \\\n",
    "(like a list,tuple,set ...)\n",
    " and perform same function for each element"
   ]
  },
  {
   "cell_type": "code",
   "execution_count": null,
   "id": "dd9d9470",
   "metadata": {},
   "outputs": [],
   "source": [
    "list7= [1,2,3,4,5,0]\n",
    "a=(1,2,3,4,5)"
   ]
  },
  {
   "cell_type": "code",
   "execution_count": null,
   "id": "eb6733ef",
   "metadata": {},
   "outputs": [],
   "source": [
    "len(list7)"
   ]
  },
  {
   "cell_type": "code",
   "execution_count": null,
   "id": "6548a997",
   "metadata": {},
   "outputs": [],
   "source": [
    "for a in list7:\n",
    "    print('i am ',a,'list')"
   ]
  },
  {
   "cell_type": "code",
   "execution_count": null,
   "id": "e390c2b7",
   "metadata": {},
   "outputs": [],
   "source": [
    "f={'a':1,'b':2,'c':3}"
   ]
  },
  {
   "cell_type": "code",
   "execution_count": null,
   "id": "547e0293",
   "metadata": {},
   "outputs": [],
   "source": [
    "g=0\n",
    "for g in f:\n",
    "    print(f)"
   ]
  },
  {
   "cell_type": "markdown",
   "id": "40f0bf1d",
   "metadata": {},
   "source": [
    "day 8:-"
   ]
  },
  {
   "cell_type": "code",
   "execution_count": null,
   "id": "2488ace2",
   "metadata": {},
   "outputs": [],
   "source": [
    "%who"
   ]
  },
  {
   "cell_type": "code",
   "execution_count": null,
   "id": "64983a13",
   "metadata": {},
   "outputs": [],
   "source": [
    "s=('data science')\n",
    "for i in s:\n",
    "   print(i)"
   ]
  },
  {
   "cell_type": "code",
   "execution_count": null,
   "id": "5a628f2c",
   "metadata": {},
   "outputs": [],
   "source": [
    "for ele in list7:\n",
    "    d=ele+2\n",
    "    print(d)\n",
    "print('done with all the elements')\n"
   ]
  },
  {
   "cell_type": "code",
   "execution_count": null,
   "id": "aa24bd8b",
   "metadata": {},
   "outputs": [],
   "source": [
    "fruits={1:'a',2:'b',3:'c'}\n",
    "for al in fruits:\n",
    "    print(al)"
   ]
  },
  {
   "cell_type": "code",
   "execution_count": null,
   "id": "07e2ea7e",
   "metadata": {},
   "outputs": [],
   "source": [
    "fruits={1:'a',2:'b',3:'c'}\n",
    "for al in fruits.values():\n",
    "    print(al)"
   ]
  },
  {
   "cell_type": "code",
   "execution_count": null,
   "id": "efccc255",
   "metadata": {},
   "outputs": [],
   "source": [
    "set3={1,2,3,'a',True}\n",
    "for i in set3:\n",
    "    print(i)"
   ]
  },
  {
   "cell_type": "code",
   "execution_count": null,
   "id": "38224305",
   "metadata": {},
   "outputs": [],
   "source": [
    "tuple5=(1,2,3,'a',True)\n",
    "for i in tuple5:\n",
    "    print(i)"
   ]
  },
  {
   "cell_type": "markdown",
   "id": "89174771",
   "metadata": {},
   "source": [
    "range() :- range(start,end,step) or range(lower limit,upper limit,step or integrator)\\\n",
    "used to generate a range of values \\\n",
    "range(end)\\\n",
    "range(start,end) \\\n",
    "range(start,end,step) \\\n",
    "default step will be 1 \\\n"
   ]
  },
  {
   "cell_type": "code",
   "execution_count": null,
   "id": "093803e0",
   "metadata": {},
   "outputs": [],
   "source": [
    "for i in range(10):\n",
    "    print(i)"
   ]
  },
  {
   "cell_type": "code",
   "execution_count": null,
   "id": "4f516caf",
   "metadata": {},
   "outputs": [],
   "source": [
    "for i in range(-10,10):\n",
    "    print(i)"
   ]
  },
  {
   "cell_type": "code",
   "execution_count": null,
   "id": "121a9f3c",
   "metadata": {},
   "outputs": [],
   "source": [
    "for i in range(-10,10,5): #end range value will be excluted\n",
    "    print(i)"
   ]
  },
  {
   "cell_type": "code",
   "execution_count": null,
   "id": "1a46fe65",
   "metadata": {},
   "outputs": [],
   "source": [
    "#nested for loops\n",
    "list8=['a','b','c','d','e']\n",
    "list9=[1,2,3,4,5]\n",
    "for i in list8:\n",
    "    for j in list9:\n",
    "        print(i,j)"
   ]
  },
  {
   "cell_type": "code",
   "execution_count": null,
   "id": "d3267246",
   "metadata": {},
   "outputs": [],
   "source": [
    "#nested for loops\n",
    "for i in range(3):\n",
    "    for j in range(3):\n",
    "        print(i,j)"
   ]
  },
  {
   "cell_type": "code",
   "execution_count": null,
   "id": "d096e53e",
   "metadata": {},
   "outputs": [],
   "source": [
    "#nested for loops\n",
    "list10=['maths','eng','chem',]\n",
    "list11=['student name1','student name2','student name3,']\n",
    "for i in list10:\n",
    "    for j in list11:\n",
    "        print(i,j)"
   ]
  },
  {
   "cell_type": "code",
   "execution_count": null,
   "id": "da9308ba",
   "metadata": {},
   "outputs": [],
   "source": [
    "\n",
    "    for j in range(10):\n",
    "        if(j%2==0):\n",
    "            print(j,' is even')\n",
    "        else:\n",
    "            print(j,' is odd')"
   ]
  },
  {
   "cell_type": "code",
   "execution_count": null,
   "id": "42710a5e",
   "metadata": {},
   "outputs": [],
   "source": [
    " for j in range(10):\n",
    "        i=j*j\n",
    "        print(i,' is square of',j)\n",
    "       "
   ]
  },
  {
   "cell_type": "markdown",
   "id": "04472065",
   "metadata": {},
   "source": [
    "### function:-"
   ]
  },
  {
   "cell_type": "markdown",
   "id": "847099cd",
   "metadata": {},
   "source": [
    "function:-a block of code with specific task which can be called whenever needed\\\n",
    "1-build-in function:-predefined \\\n",
    "2-user-defined function:-we defined for ourselves\\\n",
    "3-anynymous function:-defined without function name,called upon whenever needed,(lamda)\n",
    " \n",
    "*we define a function using def statement*\n",
    "docstring is used to give user information about a funtion.\n",
    "we can see docstring by (shift+tab) or fuctionname._doc_"
   ]
  },
  {
   "cell_type": "code",
   "execution_count": null,
   "id": "87d77ad2",
   "metadata": {},
   "outputs": [],
   "source": [
    "import math\n",
    "#function without any Arguement & return statement\n",
    "def sr1():\n",
    "    '''docstring:-function without any Arguement & return statement'''\n",
    "    a=int(input(\"enter a number\"))\n",
    "    root=math.sqrt(a)\n",
    "    print(root)"
   ]
  },
  {
   "cell_type": "code",
   "execution_count": null,
   "id": "67f2a9e4",
   "metadata": {},
   "outputs": [],
   "source": [
    "sr1()"
   ]
  },
  {
   "cell_type": "code",
   "execution_count": null,
   "id": "ae3c8f89",
   "metadata": {},
   "outputs": [],
   "source": [
    "import math\n",
    "#function with Arguement % return statement\n",
    "def sr2(num):\n",
    "    '''function with Arguement % return statement'''\n",
    "    root=math.sqrt(num)\n",
    "    return(root)"
   ]
  },
  {
   "cell_type": "code",
   "execution_count": null,
   "id": "c9570cbf",
   "metadata": {},
   "outputs": [],
   "source": [
    "num=100\n",
    "sr2(num)"
   ]
  },
  {
   "cell_type": "code",
   "execution_count": null,
   "id": "548c18ba",
   "metadata": {},
   "outputs": [],
   "source": [
    "def name():\n",
    "    a=(input(\"enter a number\"))\n",
    "    b=(input(\"enter a number\"))\n",
    "    c=(input(\"enter a number\"))\n",
    "    print(a,b,c)\n",
    "    "
   ]
  },
  {
   "cell_type": "code",
   "execution_count": null,
   "id": "c9847495",
   "metadata": {},
   "outputs": [],
   "source": [
    "name()\n"
   ]
  },
  {
   "cell_type": "code",
   "execution_count": null,
   "id": "b20b28ef",
   "metadata": {},
   "outputs": [],
   "source": [
    "# function with argument and no return satetement\n",
    "def area_of_circle_with_radius(r):\n",
    "    area=3.14*r*r\n",
    "    print(area)"
   ]
  },
  {
   "cell_type": "code",
   "execution_count": null,
   "id": "996c00a5",
   "metadata": {},
   "outputs": [],
   "source": [
    "area_of_circle_with_radius(6)"
   ]
  },
  {
   "cell_type": "code",
   "execution_count": null,
   "id": "51bc451b",
   "metadata": {},
   "outputs": [],
   "source": [
    "area_of_circle_with_radius(10)"
   ]
  },
  {
   "cell_type": "code",
   "execution_count": null,
   "id": "fc93df9f",
   "metadata": {},
   "outputs": [],
   "source": [
    "##function without any Arguement or any return statement\n",
    "def area_of_circle_with_radius1():\n",
    "    r=int(input('enter a radius'))\n",
    "    area=3.14*r*r\n",
    "    print(area)"
   ]
  },
  {
   "cell_type": "code",
   "execution_count": null,
   "id": "cbdf3965",
   "metadata": {},
   "outputs": [],
   "source": [
    "area_of_circle_with_radius1()"
   ]
  },
  {
   "cell_type": "code",
   "execution_count": null,
   "id": "009e78e5",
   "metadata": {},
   "outputs": [],
   "source": [
    "#function without any Arguement and with any return statement\n",
    "def squareofnum():\n",
    "    r=float(input('enter a number'))\n",
    "    return r**2"
   ]
  },
  {
   "cell_type": "code",
   "execution_count": null,
   "id": "c7f1a5e9",
   "metadata": {},
   "outputs": [],
   "source": [
    "squareofnum()"
   ]
  },
  {
   "cell_type": "markdown",
   "id": "c6239ddb",
   "metadata": {},
   "source": [
    "lambda function :-\n",
    "is an anonymous function.\\\n",
    "can have any number of arguments but only one expression. the expression is evaluated and returned\\\n",
    "we can use lambda function for single line expression that can be used for short time\n",
    "\n",
    "variable name = lambda argument, expression\n",
    "\n"
   ]
  },
  {
   "cell_type": "code",
   "execution_count": null,
   "id": "bfd6149e",
   "metadata": {},
   "outputs": [],
   "source": [
    "def add(a):\n",
    "    res=a+10\n",
    "    return res"
   ]
  },
  {
   "cell_type": "code",
   "execution_count": null,
   "id": "27bca3ae",
   "metadata": {},
   "outputs": [],
   "source": [
    "addition=lambda a:a+10"
   ]
  },
  {
   "cell_type": "code",
   "execution_count": null,
   "id": "87a9fe57",
   "metadata": {},
   "outputs": [],
   "source": [
    "print(add(8))\n",
    "print(addition(8))"
   ]
  },
  {
   "cell_type": "code",
   "execution_count": null,
   "id": "81bd17db",
   "metadata": {},
   "outputs": [],
   "source": [
    "product =lambda a,b:a*b"
   ]
  },
  {
   "cell_type": "code",
   "execution_count": null,
   "id": "8a6f0447",
   "metadata": {},
   "outputs": [],
   "source": [
    "print(product(10,10))"
   ]
  },
  {
   "cell_type": "markdown",
   "id": "4ef434c0",
   "metadata": {},
   "source": [
    "filter function:-\n",
    "filtered out the elements in the given sequance by function\n",
    "filter(function_name,sequance)"
   ]
  },
  {
   "cell_type": "code",
   "execution_count": null,
   "id": "7ac8b81c",
   "metadata": {},
   "outputs": [],
   "source": [
    "def fun1(variable):\n",
    "    vovals=['a','e','i','o','u']\n",
    "    if (variable in vovals):\n",
    "        return True\n",
    "    else:\n",
    "        return False\n",
    "#sequence\n",
    "seq=['g','e','f','h','u','i','a']\n",
    "#using filter function\n",
    "filtered=filter(fun1,seq)#it takes 2 arguments:a function to "
   ]
  },
  {
   "cell_type": "code",
   "execution_count": null,
   "id": "4d629b19",
   "metadata": {},
   "outputs": [],
   "source": [
    "list(filtered)"
   ]
  },
  {
   "cell_type": "code",
   "execution_count": null,
   "id": "3d3f4a2e",
   "metadata": {},
   "outputs": [],
   "source": [
    "filtered # cannot return the filtered values \\\n",
    "#so we have to use list,tuple ... to see the filtered elements"
   ]
  },
  {
   "cell_type": "code",
   "execution_count": null,
   "id": "0c9be92b",
   "metadata": {},
   "outputs": [],
   "source": [
    "def fun2(variable):\n",
    "    \n",
    "    if (variable%2==0):\n",
    "        return True\n",
    "    else:\n",
    "        return False\n",
    "\n",
    "num2=[1,2,3,5,78,45,34,67,553,34]\n",
    "#using filter function\n",
    "filtered=filter(fun2,num2)\n",
    "print(list(filtered))\n",
    "for i in filtered:\n",
    "    print(i)"
   ]
  },
  {
   "cell_type": "code",
   "execution_count": null,
   "id": "abb57e46",
   "metadata": {},
   "outputs": [],
   "source": [
    "num3=[1,2,3,5,78,45,34,67,553,34]\n",
    "result1=filter(lambda x:x%2 !=0,num3)\n",
    "print('odd numbers',list(result1))\n",
    "result2=filter(lambda x:x%2 ==0,num3)\n",
    "print('even number',list(result2))\n"
   ]
  },
  {
   "cell_type": "markdown",
   "id": "21fe9866",
   "metadata": {},
   "source": [
    "day 9:-"
   ]
  },
  {
   "cell_type": "code",
   "execution_count": null,
   "id": "5cf5f1ee",
   "metadata": {},
   "outputs": [],
   "source": [
    "%who"
   ]
  },
  {
   "cell_type": "markdown",
   "id": "dacce752",
   "metadata": {},
   "source": [
    "map():-\n",
    "map(user_def_function,arguments)"
   ]
  },
  {
   "cell_type": "code",
   "execution_count": null,
   "id": "43693b98",
   "metadata": {},
   "outputs": [],
   "source": [
    "#RETURN double of n\n",
    "def double2(n):\n",
    "    return n+n\n",
    "#we double all number using map()\n",
    "numbers1 = (1,2,3,4)\n",
    "result = map(double2,numbers1)# it take 2 arguments: a function and corresponding elements,apply on an iterable\n",
    "\n",
    "print(list(result))"
   ]
  },
  {
   "cell_type": "code",
   "execution_count": null,
   "id": "1c8c4dc7",
   "metadata": {},
   "outputs": [],
   "source": [
    "#add two lists using map and lambda\n",
    "numbers2 = [1,2,3]\n",
    "numbers3 = [4,5,6]\n",
    "result= map(lambda x, y:x+y ,numbers2,numbers3)\n",
    "print(list(result))"
   ]
  },
  {
   "cell_type": "code",
   "execution_count": null,
   "id": "d009b2a2",
   "metadata": {},
   "outputs": [],
   "source": [
    "#list of strings\n",
    "list10=['abc','def','123']\n",
    "test = map(list,list10)\n",
    "list(test)"
   ]
  },
  {
   "cell_type": "markdown",
   "id": "9be6d17f",
   "metadata": {},
   "source": [
    "Reduce function:-\n",
    "reduce(function,sequence)\\\n",
    "this function is defined in \"functools\" module\\\n",
    "used in cumulative sequence,this will take 2 cummalative elements in sequence and apply  function\\\n",
    "used to reduce a sequence to single value\n"
   ]
  },
  {
   "cell_type": "code",
   "execution_count": null,
   "id": "3e6ec856",
   "metadata": {},
   "outputs": [],
   "source": [
    "# import functools for reduce()\n",
    "from functools import reduce\n",
    "# initializing list\n",
    "list11=[1,3,5,6,2]\n",
    "#using reduce to comutr sum of list\n",
    "print(\"the sum of the list element is : \",end=\"\")\n",
    "print(reduce(lambda a,b: a+b,list11))\n",
    "print(\"the biggest element of the list element is : \",end=\"\")\n",
    "print(reduce(lambda a,b:a if a>b else b,list11,))"
   ]
  },
  {
   "cell_type": "markdown",
   "id": "c487d3d7",
   "metadata": {},
   "source": [
    "a if a>b else b \\\n",
    "give a if a>b or \\\n",
    "give b if b>a"
   ]
  },
  {
   "cell_type": "markdown",
   "id": "ac0b767a",
   "metadata": {},
   "source": [
    "# END"
   ]
  },
  {
   "cell_type": "code",
   "execution_count": null,
   "id": "a0703890",
   "metadata": {},
   "outputs": [],
   "source": []
  },
  {
   "cell_type": "code",
   "execution_count": null,
   "id": "023d89d5",
   "metadata": {},
   "outputs": [],
   "source": []
  }
 ],
 "metadata": {
  "kernelspec": {
   "display_name": "Python 3 (ipykernel)",
   "language": "python",
   "name": "python3"
  },
  "language_info": {
   "codemirror_mode": {
    "name": "ipython",
    "version": 3
   },
   "file_extension": ".py",
   "mimetype": "text/x-python",
   "name": "python",
   "nbconvert_exporter": "python",
   "pygments_lexer": "ipython3",
   "version": "3.11.4"
  }
 },
 "nbformat": 4,
 "nbformat_minor": 5
}
