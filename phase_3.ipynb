{
 "cells": [
  {
   "cell_type": "markdown",
   "id": "1737716e-d127-4b55-8136-b83f5f03ad4f",
   "metadata": {},
   "source": [
    "# Phase 3"
   ]
  },
  {
   "cell_type": "markdown",
   "id": "eaeccec9-e523-492f-b701-cc83c513c360",
   "metadata": {},
   "source": [
    " 1. 📘 What is NumPy?\n",
    "\n",
    "NumPy (Numerical Python) is a high-performance library for:\n",
    "\n",
    "Array computing (faster than lists)\n",
    "\n",
    "Mathematical operations\n",
    "\n",
    "Linear algebra, statistics, signal processing\n",
    "\n",
    "🧠 NumPy’s arrays (ndarrays) are faster and more memory-efficient than Python lists."
   ]
  },
  {
   "cell_type": "code",
   "execution_count": 3,
   "id": "319f9f26-0a4c-4617-b4c2-3598efea5cbb",
   "metadata": {},
   "outputs": [
    {
     "data": {
      "text/plain": [
       "array([1, 2, 3])"
      ]
     },
     "execution_count": 3,
     "metadata": {},
     "output_type": "execute_result"
    }
   ],
   "source": [
    "# syntax\n",
    "import numpy as np\n",
    "np.array([1,2,3])\n",
    "\n"
   ]
  },
  {
   "cell_type": "code",
   "execution_count": 6,
   "id": "f9dc1316-a300-40a6-ad4d-2c6a90ca7d20",
   "metadata": {},
   "outputs": [
    {
     "name": "stdout",
     "output_type": "stream",
     "text": [
      "[1 2 3]\n",
      "[[1 2]\n",
      " [3 4]]\n",
      "[[0. 0. 0.]\n",
      " [0. 0. 0.]]\n",
      "[1. 1. 1.]\n",
      "[1 3 5 7 9]\n",
      "[0.   0.25 0.5  0.75 1.  ]\n"
     ]
    }
   ],
   "source": [
    "import numpy as np\n",
    "\n",
    "# 1D Array\n",
    "a = np.array([1, 2, 3])\n",
    "print(a)\n",
    "\n",
    "# 2D Array\n",
    "b = np.array([[1, 2], [3, 4]])\n",
    "print(b)\n",
    "\n",
    "# Create array of zeros, ones\n",
    "c=np.zeros((2, 3))# 2x3 matrix of zeros\n",
    "print(c)\n",
    "d=np.ones((3,))         # 1D array of ones\n",
    "print(d)\n",
    "# Create range\n",
    "e=np.arange(1, 10, 2)   # [1 3 5 7 9]\n",
    "print(e)\n",
    "# Create linearly spaced values\n",
    "f=np.linspace(0, 1, 5)  # [0. , 0.25, 0.5 , 0.75, 1.]\n",
    "print(f)\n"
   ]
  },
  {
   "cell_type": "code",
   "execution_count": 7,
   "id": "3fe4d8b6-50b2-4578-932e-c6c9494ebf42",
   "metadata": {},
   "outputs": [
    {
     "name": "stdout",
     "output_type": "stream",
     "text": [
      "2\n",
      "(2, 3)\n",
      "6\n",
      "int32\n"
     ]
    }
   ],
   "source": [
    "# Array Attributes\n",
    "arr = np.array([[1, 2, 3], [4, 5, 6]])\n",
    "\n",
    "print(arr.ndim)       # Dimensions (2)\n",
    "print(arr.shape)      # (2, 3)\n",
    "print(arr.size)       # Total elements (6)\n",
    "print(arr.dtype)      # Data type (int64)\n"
   ]
  },
  {
   "cell_type": "code",
   "execution_count": 8,
   "id": "927ac25c-e5aa-477a-b97b-deb91862828f",
   "metadata": {},
   "outputs": [
    {
     "name": "stdout",
     "output_type": "stream",
     "text": [
      "[[1 2 3]\n",
      " [4 5 6]]\n",
      "3\n",
      "[2 5]\n",
      "[4 5 6]\n"
     ]
    }
   ],
   "source": [
    "# Reshape & Indexing\n",
    "a = np.arange(1, 7).reshape((2, 3))\n",
    "print(a)\n",
    "\n",
    "# Access elements\n",
    "print(a[0, 2])        # Row 0, Col 2 → 3\n",
    "\n",
    "# Slicing\n",
    "print(a[:, 1])        # All rows, column 1\n",
    "print(a[1, :])        # Row 1, all columns\n"
   ]
  },
  {
   "cell_type": "code",
   "execution_count": 11,
   "id": "583d1f74-7e08-4031-9421-b2da5573009c",
   "metadata": {},
   "outputs": [
    {
     "name": "stdout",
     "output_type": "stream",
     "text": [
      "10\n",
      "2.5\n",
      "4\n",
      "1\n",
      "1.118033988749895\n",
      "[[1 3]\n",
      " [2 4]]\n"
     ]
    }
   ],
   "source": [
    "# Useful NumPy Functions\n",
    "arr = np.array([[1, 2], [3, 4]])\n",
    "\n",
    "print(np.sum(arr))          # Sum of all elements\n",
    "print(np.mean(arr))          # Mean\n",
    "print(np.max(arr))           # Max\n",
    "print(np.min(arr))           # Min\n",
    "print(np.std(arr))           # Standard deviation\n",
    "print(np.transpose(arr))     # Flip rows/columns\n"
   ]
  },
  {
   "cell_type": "markdown",
   "id": "c022f718-ee87-41e7-b1dd-3f872c2913ef",
   "metadata": {},
   "source": [
    "````\n",
    "Use np.array() instead of Python lists for math\t\n",
    "Prefer np.arange() for fast looping\t\n",
    "Chain operations: np.mean(arr.reshape(2, 3))\t\n",
    "Use axis=0 (column-wise), axis=1 (row-wise)"
   ]
  },
  {
   "cell_type": "code",
   "execution_count": 33,
   "id": "78573c8b-66d4-4286-99e4-324fd82cecc7",
   "metadata": {},
   "outputs": [
    {
     "data": {
      "text/plain": [
       "array([[1, 2, 3],\n",
       "       [4, 5, 6],\n",
       "       [7, 8, 9]])"
      ]
     },
     "execution_count": 33,
     "metadata": {},
     "output_type": "execute_result"
    }
   ],
   "source": [
    "# p1 Create a 3x3 matrix of numbers from 1 to 9.\n",
    "a=np.arange(1,10).reshape((3,3))\n",
    "a"
   ]
  },
  {
   "cell_type": "code",
   "execution_count": 34,
   "id": "cb681db5-b2fe-4dad-9926-8ab9eeba3f0e",
   "metadata": {},
   "outputs": [
    {
     "name": "stdout",
     "output_type": "stream",
     "text": [
      "[[ 1  4  9]\n",
      " [16 25 36]\n",
      " [49 64 81]]\n",
      "[[ 1  4  9]\n",
      " [16 25 36]\n",
      " [49 64 81]]\n"
     ]
    }
   ],
   "source": [
    "# p2 Square each element in the matrix\n",
    "squared_a = np.square(a)\n",
    "print(squared_a )\n",
    "a=a**2\n",
    "print(a)\n"
   ]
  },
  {
   "cell_type": "code",
   "execution_count": 36,
   "id": "f31e2d07-5b74-46ed-86db-ec82c89ca118",
   "metadata": {},
   "outputs": [
    {
     "data": {
      "text/plain": [
       "array([0.        , 0.55555556, 1.11111111, 1.66666667, 2.22222222,\n",
       "       2.77777778, 3.33333333, 3.88888889, 4.44444444, 5.        ])"
      ]
     },
     "execution_count": 36,
     "metadata": {},
     "output_type": "execute_result"
    }
   ],
   "source": [
    "# p3 Create an array of 10 values equally spaced between 0 and 5.\n",
    "np.linspace(0,5,10)"
   ]
  },
  {
   "cell_type": "code",
   "execution_count": 42,
   "id": "314576e5-1105-4480-bb46-fe351f4aa9f6",
   "metadata": {},
   "outputs": [
    {
     "name": "stdout",
     "output_type": "stream",
     "text": [
      "[ 6 15 24]\n",
      "[4. 5. 6.]\n",
      "2.581988897471611\n"
     ]
    }
   ],
   "source": [
    "#Create a 2D array and calculate: Sum of rows,Mean of columns,Standard deviation of entire array\n",
    "a=np.arange(1,10).reshape((3,3))\n",
    "sum_of_rows=np.sum(a,axis=1)\n",
    "print(sum_of_rows)\n",
    "mean_of_rows=np.mean(a,axis=0)\n",
    "print(mean_of_rows)\n",
    "print(np.std(a))"
   ]
  },
  {
   "cell_type": "markdown",
   "id": "3f265bfd-fa84-4c68-b1bb-46338c2b83bb",
   "metadata": {},
   "source": [
    "| Topic        | Key Function                                      |\n",
    "| ------------ | ------------------------------------------------- |\n",
    "| Create array | `np.array`, `np.arange`, `np.zeros`, `np.ones`    |\n",
    "| Stats        | `np.sum`, `np.mean`, `np.std`, `np.max`, `np.min` |\n",
    "| Shape/Index  | `reshape`, `shape`, `ndim`, `size`, slicing       |\n",
    "| Math ops     | `+`, `-`, `*`, `/`, `np.sqrt`, `**`,np.square     |\n"
   ]
  },
  {
   "cell_type": "code",
   "execution_count": null,
   "id": "7a4912a5-41bd-42c8-b95a-7d03fdf6108d",
   "metadata": {},
   "outputs": [],
   "source": []
  },
  {
   "cell_type": "code",
   "execution_count": null,
   "id": "3adbf7e5-2799-4b18-813d-02913a0484d6",
   "metadata": {},
   "outputs": [],
   "source": []
  },
  {
   "cell_type": "code",
   "execution_count": null,
   "id": "c151b4f5-98a7-445b-be18-ed255a76c65f",
   "metadata": {},
   "outputs": [],
   "source": []
  },
  {
   "cell_type": "code",
   "execution_count": null,
   "id": "3d3aedf7-5164-421f-8546-8f14c2a159cd",
   "metadata": {},
   "outputs": [],
   "source": []
  },
  {
   "cell_type": "code",
   "execution_count": null,
   "id": "ccab501d-5d91-4925-bc81-3f1846195d6a",
   "metadata": {},
   "outputs": [],
   "source": []
  },
  {
   "cell_type": "code",
   "execution_count": null,
   "id": "c529099e-ad0f-4223-9c24-baf5c91d4931",
   "metadata": {},
   "outputs": [],
   "source": []
  },
  {
   "cell_type": "code",
   "execution_count": null,
   "id": "c6bc7e25-fca3-472f-bd8c-dd401e39b0b1",
   "metadata": {},
   "outputs": [],
   "source": []
  },
  {
   "cell_type": "code",
   "execution_count": null,
   "id": "70348f37-e85a-4cd3-8ad0-daf2ba8b8b9a",
   "metadata": {},
   "outputs": [],
   "source": []
  },
  {
   "cell_type": "code",
   "execution_count": null,
   "id": "0571c781-765c-49fc-96f0-6f823054ea8b",
   "metadata": {},
   "outputs": [],
   "source": []
  },
  {
   "cell_type": "code",
   "execution_count": null,
   "id": "12a8350d-9774-463b-a1a1-4e4f5bd0f279",
   "metadata": {},
   "outputs": [],
   "source": []
  },
  {
   "cell_type": "code",
   "execution_count": null,
   "id": "f5527fd2-1ed7-4208-a621-653ff1cd61f9",
   "metadata": {},
   "outputs": [],
   "source": []
  },
  {
   "cell_type": "code",
   "execution_count": null,
   "id": "f2254a58-e849-4e65-9905-ef4877a5b752",
   "metadata": {},
   "outputs": [],
   "source": []
  },
  {
   "cell_type": "code",
   "execution_count": null,
   "id": "ec564f55-1452-4d8b-8e24-9af7007be486",
   "metadata": {},
   "outputs": [],
   "source": []
  },
  {
   "cell_type": "code",
   "execution_count": null,
   "id": "623dd678-a2cc-4134-9959-72017480d2af",
   "metadata": {},
   "outputs": [],
   "source": []
  },
  {
   "cell_type": "code",
   "execution_count": null,
   "id": "f9506a4f-aead-4d05-9f0f-cd2a73b31310",
   "metadata": {},
   "outputs": [],
   "source": []
  },
  {
   "cell_type": "code",
   "execution_count": null,
   "id": "1961056a-954a-4d33-be9b-5b442a2f53d6",
   "metadata": {},
   "outputs": [],
   "source": []
  },
  {
   "cell_type": "code",
   "execution_count": null,
   "id": "7d8954a5-e861-4ed4-870a-dce03a59271f",
   "metadata": {},
   "outputs": [],
   "source": []
  },
  {
   "cell_type": "code",
   "execution_count": null,
   "id": "36ca6272-074a-42d7-96b6-171424be31ee",
   "metadata": {},
   "outputs": [],
   "source": []
  },
  {
   "cell_type": "code",
   "execution_count": null,
   "id": "4c6693c8-ca83-4240-9eae-ce61eeb005c0",
   "metadata": {},
   "outputs": [],
   "source": []
  },
  {
   "cell_type": "code",
   "execution_count": null,
   "id": "e84e1944-8877-44be-bdb4-9bb6425bbc21",
   "metadata": {},
   "outputs": [],
   "source": []
  }
 ],
 "metadata": {
  "kernelspec": {
   "display_name": "Python 3 (ipykernel)",
   "language": "python",
   "name": "python3"
  },
  "language_info": {
   "codemirror_mode": {
    "name": "ipython",
    "version": 3
   },
   "file_extension": ".py",
   "mimetype": "text/x-python",
   "name": "python",
   "nbconvert_exporter": "python",
   "pygments_lexer": "ipython3",
   "version": "3.12.7"
  }
 },
 "nbformat": 4,
 "nbformat_minor": 5
}
